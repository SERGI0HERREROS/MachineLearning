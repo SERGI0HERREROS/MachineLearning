{
 "cells": [
  {
   "cell_type": "markdown",
   "metadata": {},
   "source": [
    "# **Decision Tree with own imputation**"
   ]
  },
  {
   "cell_type": "markdown",
   "metadata": {},
   "source": [
    "**The needed data to be imputed has been imputed here instead of using the obtained in the gold data. In this way, there is a comparison of different imputations.**"
   ]
  },
  {
   "cell_type": "code",
   "execution_count": 1,
   "metadata": {},
   "outputs": [],
   "source": [
    "# Decision Tree Model with Imputation for Missing Values and Encoding for Categorical Data\n",
    "\n",
    "# Import necessary libraries\n",
    "import pandas as pd\n",
    "import numpy as np\n",
    "import matplotlib.pyplot as plt\n",
    "import seaborn as sns\n",
    "from sklearn.model_selection import train_test_split, GridSearchCV\n",
    "from sklearn.tree import DecisionTreeClassifier\n",
    "from sklearn.metrics import roc_auc_score, confusion_matrix, classification_report, roc_curve\n",
    "from sklearn.multioutput import MultiOutputClassifier\n",
    "from sklearn.impute import SimpleImputer\n",
    "from sklearn.metrics import ConfusionMatrixDisplay"
   ]
  },
  {
   "cell_type": "code",
   "execution_count": 2,
   "metadata": {},
   "outputs": [],
   "source": [
    "# Load the datasets\n",
    "X_train_df = pd.read_csv('data/training_set_features.csv', index_col='respondent_id')\n",
    "training_set_labels_df = pd.read_csv('data/training_set_labels.csv', index_col='respondent_id')\n",
    "X_test_df = pd.read_csv('data/test_set_features.csv', index_col='respondent_id')\n",
    "\n"
   ]
  },
  {
   "cell_type": "code",
   "execution_count": 3,
   "metadata": {},
   "outputs": [
    {
     "name": "stdout",
     "output_type": "stream",
     "text": [
      "Missing percentages in training set:\n",
      "h1n1_concern                   0.003445\n",
      "h1n1_knowledge                 0.004343\n",
      "behavioral_antiviral_meds      0.002658\n",
      "behavioral_avoidance           0.007788\n",
      "behavioral_face_mask           0.000711\n",
      "behavioral_wash_hands          0.001573\n",
      "behavioral_large_gatherings    0.003258\n",
      "behavioral_outside_home        0.003070\n",
      "behavioral_touch_face          0.004793\n",
      "doctor_recc_h1n1               0.080878\n",
      "doctor_recc_seasonal           0.080878\n",
      "chronic_med_condition          0.036358\n",
      "child_under_6_months           0.030704\n",
      "health_worker                  0.030104\n",
      "health_insurance               0.459580\n",
      "opinion_h1n1_vacc_effective    0.014640\n",
      "opinion_h1n1_risk              0.014528\n",
      "opinion_h1n1_sick_from_vacc    0.014790\n",
      "opinion_seas_vacc_effective    0.017299\n",
      "opinion_seas_risk              0.019246\n",
      "opinion_seas_sick_from_vacc    0.020107\n",
      "education                      0.052683\n",
      "income_poverty                 0.165612\n",
      "marital_status                 0.052720\n",
      "rent_or_own                    0.076459\n",
      "employment_status              0.054780\n",
      "household_adults               0.009323\n",
      "household_children             0.009323\n",
      "employment_industry            0.499120\n",
      "employment_occupation          0.504362\n",
      "dtype: float64\n"
     ]
    }
   ],
   "source": [
    "# Check Missing Values\n",
    "missing_percentages = X_train_df.isnull().mean()\n",
    "print(\"Missing percentages in training set:\")\n",
    "print(missing_percentages[missing_percentages > 0])"
   ]
  },
  {
   "cell_type": "markdown",
   "metadata": {},
   "source": [
    "Explanation: \n",
    "    The code calculates and prints the percentage of missing values in each column of the training set.\n",
    "    \n",
    "Justification:    \n",
    "    Helps to understand the extent of missing data."
   ]
  },
  {
   "cell_type": "code",
   "execution_count": 4,
   "metadata": {},
   "outputs": [],
   "source": [
    "# Separate numeric and categorical columns\n",
    "numeric_columns = X_train_df.select_dtypes(include=['number']).columns\n",
    "categorical_columns = X_train_df.select_dtypes(include=['object']).columns"
   ]
  },
  {
   "cell_type": "markdown",
   "metadata": {},
   "source": [
    "Explanation: \n",
    "    The code identifies and separates numeric and categorical columns.\n",
    "    \n",
    "Justification:\n",
    "    Needed for appropriate preprocessing steps."
   ]
  },
  {
   "cell_type": "code",
   "execution_count": 5,
   "metadata": {},
   "outputs": [],
   "source": [
    "# Imputation for Numeric Data\n",
    "imputer = SimpleImputer(strategy='mean')  # Using mean imputation\n",
    "X_train_numeric = pd.DataFrame(imputer.fit_transform(X_train_df[numeric_columns]), columns=numeric_columns, index=X_train_df.index)\n",
    "X_test_numeric = pd.DataFrame(imputer.transform(X_test_df[numeric_columns]), columns=numeric_columns, index=X_test_df.index)\n"
   ]
  },
  {
   "cell_type": "markdown",
   "metadata": {},
   "source": [
    "Explanation: \n",
    "    The code uses mean imputation to fill missing values in numeric columns. \n",
    "    \n",
    "Justification:\n",
    "    It helps in handling missing data without discarding any rows."
   ]
  },
  {
   "cell_type": "code",
   "execution_count": 6,
   "metadata": {},
   "outputs": [],
   "source": [
    "# One-Hot Encoding for Categorical Data\n",
    "X_train_categorical = pd.get_dummies(X_train_df[categorical_columns], drop_first=True)\n",
    "X_test_categorical = pd.get_dummies(X_test_df[categorical_columns], drop_first=True)"
   ]
  },
  {
   "cell_type": "markdown",
   "metadata": {},
   "source": [
    "Explanation: \n",
    "    The code converts categorical variables into a format that can be provided to ML algorithms to do a better job in prediction. 'drop_first=True' avoids multicollinearity by dropping the first category."
   ]
  },
  {
   "cell_type": "code",
   "execution_count": 7,
   "metadata": {},
   "outputs": [],
   "source": [
    "# Align the columns of training and test categorical data\n",
    "X_test_categorical = X_test_categorical.reindex(columns=X_train_categorical.columns, fill_value=0)\n"
   ]
  },
  {
   "cell_type": "markdown",
   "metadata": {},
   "source": [
    "Explanation: \n",
    "    We ensures that the test set has the same columns as the training set (the missing columns are filled with zeros)."
   ]
  },
  {
   "cell_type": "code",
   "execution_count": 8,
   "metadata": {},
   "outputs": [],
   "source": [
    "# Combine numeric and encoded categorical data\n",
    "X_train_df = pd.concat([X_train_numeric, X_train_categorical], axis=1)\n",
    "X_test_df = pd.concat([X_test_numeric, X_test_categorical], axis=1)"
   ]
  },
  {
   "cell_type": "markdown",
   "metadata": {},
   "source": [
    "Explanation: \n",
    "    To train and test we combine the numeric and categorical data back into a single DataFrame."
   ]
  },
  {
   "cell_type": "code",
   "execution_count": 9,
   "metadata": {},
   "outputs": [],
   "source": [
    "# Stratified Train-Test Split\n",
    "X_train, X_test, y_train, y_test = train_test_split(\n",
    "    X_train_df, training_set_labels_df, test_size=0.2, random_state=42, stratify=training_set_labels_df\n",
    ")"
   ]
  },
  {
   "cell_type": "markdown",
   "metadata": {},
   "source": [
    "Explanation: \n",
    "    We split the data into training and testing sets, but at the same time we maintain the distribution of classes in the target variable."
   ]
  },
  {
   "cell_type": "code",
   "execution_count": 10,
   "metadata": {},
   "outputs": [],
   "source": [
    "# Hyperparameter Grid for Decision Trees\n",
    "param_grid = {\n",
    "    'estimator__max_depth': [3, 5, 10, None],\n",
    "    'estimator__min_samples_split': [2, 5, 10],\n",
    "    'estimator__min_samples_leaf': [1, 2, 4]\n",
    "}\n"
   ]
  },
  {
   "cell_type": "markdown",
   "metadata": {},
   "source": [
    "Explanation:\n",
    "    The code defines a range of hyperparameters for tuning the Decision Tree model.\n",
    "\n",
    "Justification:\n",
    "    In order to find the best-performing model configuration we can optimize the parameters."
   ]
  },
  {
   "cell_type": "code",
   "execution_count": 11,
   "metadata": {},
   "outputs": [],
   "source": [
    "# MultiOutputClassifier with Decision Tree\n",
    "multi_output_clf = MultiOutputClassifier(DecisionTreeClassifier(random_state=42))\n"
   ]
  },
  {
   "cell_type": "code",
   "execution_count": 12,
   "metadata": {},
   "outputs": [],
   "source": [
    "# GridSearchCV for Hyperparameter Tuning\n",
    "grid_search = GridSearchCV(\n",
    "    estimator=multi_output_clf,\n",
    "    param_grid=param_grid,\n",
    "    cv=5,  # 5-fold cross-validation\n",
    "    scoring='roc_auc',  # Use ROC AUC as the scoring metric\n",
    "    n_jobs=-1  # Use all available cores\n",
    ")"
   ]
  },
  {
   "cell_type": "code",
   "execution_count": 13,
   "metadata": {},
   "outputs": [
    {
     "data": {
      "text/html": [
       "<style>#sk-container-id-1 {\n",
       "  /* Definition of color scheme common for light and dark mode */\n",
       "  --sklearn-color-text: black;\n",
       "  --sklearn-color-line: gray;\n",
       "  /* Definition of color scheme for unfitted estimators */\n",
       "  --sklearn-color-unfitted-level-0: #fff5e6;\n",
       "  --sklearn-color-unfitted-level-1: #f6e4d2;\n",
       "  --sklearn-color-unfitted-level-2: #ffe0b3;\n",
       "  --sklearn-color-unfitted-level-3: chocolate;\n",
       "  /* Definition of color scheme for fitted estimators */\n",
       "  --sklearn-color-fitted-level-0: #f0f8ff;\n",
       "  --sklearn-color-fitted-level-1: #d4ebff;\n",
       "  --sklearn-color-fitted-level-2: #b3dbfd;\n",
       "  --sklearn-color-fitted-level-3: cornflowerblue;\n",
       "\n",
       "  /* Specific color for light theme */\n",
       "  --sklearn-color-text-on-default-background: var(--sg-text-color, var(--theme-code-foreground, var(--jp-content-font-color1, black)));\n",
       "  --sklearn-color-background: var(--sg-background-color, var(--theme-background, var(--jp-layout-color0, white)));\n",
       "  --sklearn-color-border-box: var(--sg-text-color, var(--theme-code-foreground, var(--jp-content-font-color1, black)));\n",
       "  --sklearn-color-icon: #696969;\n",
       "\n",
       "  @media (prefers-color-scheme: dark) {\n",
       "    /* Redefinition of color scheme for dark theme */\n",
       "    --sklearn-color-text-on-default-background: var(--sg-text-color, var(--theme-code-foreground, var(--jp-content-font-color1, white)));\n",
       "    --sklearn-color-background: var(--sg-background-color, var(--theme-background, var(--jp-layout-color0, #111)));\n",
       "    --sklearn-color-border-box: var(--sg-text-color, var(--theme-code-foreground, var(--jp-content-font-color1, white)));\n",
       "    --sklearn-color-icon: #878787;\n",
       "  }\n",
       "}\n",
       "\n",
       "#sk-container-id-1 {\n",
       "  color: var(--sklearn-color-text);\n",
       "}\n",
       "\n",
       "#sk-container-id-1 pre {\n",
       "  padding: 0;\n",
       "}\n",
       "\n",
       "#sk-container-id-1 input.sk-hidden--visually {\n",
       "  border: 0;\n",
       "  clip: rect(1px 1px 1px 1px);\n",
       "  clip: rect(1px, 1px, 1px, 1px);\n",
       "  height: 1px;\n",
       "  margin: -1px;\n",
       "  overflow: hidden;\n",
       "  padding: 0;\n",
       "  position: absolute;\n",
       "  width: 1px;\n",
       "}\n",
       "\n",
       "#sk-container-id-1 div.sk-dashed-wrapped {\n",
       "  border: 1px dashed var(--sklearn-color-line);\n",
       "  margin: 0 0.4em 0.5em 0.4em;\n",
       "  box-sizing: border-box;\n",
       "  padding-bottom: 0.4em;\n",
       "  background-color: var(--sklearn-color-background);\n",
       "}\n",
       "\n",
       "#sk-container-id-1 div.sk-container {\n",
       "  /* jupyter's `normalize.less` sets `[hidden] { display: none; }`\n",
       "     but bootstrap.min.css set `[hidden] { display: none !important; }`\n",
       "     so we also need the `!important` here to be able to override the\n",
       "     default hidden behavior on the sphinx rendered scikit-learn.org.\n",
       "     See: https://github.com/scikit-learn/scikit-learn/issues/21755 */\n",
       "  display: inline-block !important;\n",
       "  position: relative;\n",
       "}\n",
       "\n",
       "#sk-container-id-1 div.sk-text-repr-fallback {\n",
       "  display: none;\n",
       "}\n",
       "\n",
       "div.sk-parallel-item,\n",
       "div.sk-serial,\n",
       "div.sk-item {\n",
       "  /* draw centered vertical line to link estimators */\n",
       "  background-image: linear-gradient(var(--sklearn-color-text-on-default-background), var(--sklearn-color-text-on-default-background));\n",
       "  background-size: 2px 100%;\n",
       "  background-repeat: no-repeat;\n",
       "  background-position: center center;\n",
       "}\n",
       "\n",
       "/* Parallel-specific style estimator block */\n",
       "\n",
       "#sk-container-id-1 div.sk-parallel-item::after {\n",
       "  content: \"\";\n",
       "  width: 100%;\n",
       "  border-bottom: 2px solid var(--sklearn-color-text-on-default-background);\n",
       "  flex-grow: 1;\n",
       "}\n",
       "\n",
       "#sk-container-id-1 div.sk-parallel {\n",
       "  display: flex;\n",
       "  align-items: stretch;\n",
       "  justify-content: center;\n",
       "  background-color: var(--sklearn-color-background);\n",
       "  position: relative;\n",
       "}\n",
       "\n",
       "#sk-container-id-1 div.sk-parallel-item {\n",
       "  display: flex;\n",
       "  flex-direction: column;\n",
       "}\n",
       "\n",
       "#sk-container-id-1 div.sk-parallel-item:first-child::after {\n",
       "  align-self: flex-end;\n",
       "  width: 50%;\n",
       "}\n",
       "\n",
       "#sk-container-id-1 div.sk-parallel-item:last-child::after {\n",
       "  align-self: flex-start;\n",
       "  width: 50%;\n",
       "}\n",
       "\n",
       "#sk-container-id-1 div.sk-parallel-item:only-child::after {\n",
       "  width: 0;\n",
       "}\n",
       "\n",
       "/* Serial-specific style estimator block */\n",
       "\n",
       "#sk-container-id-1 div.sk-serial {\n",
       "  display: flex;\n",
       "  flex-direction: column;\n",
       "  align-items: center;\n",
       "  background-color: var(--sklearn-color-background);\n",
       "  padding-right: 1em;\n",
       "  padding-left: 1em;\n",
       "}\n",
       "\n",
       "\n",
       "/* Toggleable style: style used for estimator/Pipeline/ColumnTransformer box that is\n",
       "clickable and can be expanded/collapsed.\n",
       "- Pipeline and ColumnTransformer use this feature and define the default style\n",
       "- Estimators will overwrite some part of the style using the `sk-estimator` class\n",
       "*/\n",
       "\n",
       "/* Pipeline and ColumnTransformer style (default) */\n",
       "\n",
       "#sk-container-id-1 div.sk-toggleable {\n",
       "  /* Default theme specific background. It is overwritten whether we have a\n",
       "  specific estimator or a Pipeline/ColumnTransformer */\n",
       "  background-color: var(--sklearn-color-background);\n",
       "}\n",
       "\n",
       "/* Toggleable label */\n",
       "#sk-container-id-1 label.sk-toggleable__label {\n",
       "  cursor: pointer;\n",
       "  display: block;\n",
       "  width: 100%;\n",
       "  margin-bottom: 0;\n",
       "  padding: 0.5em;\n",
       "  box-sizing: border-box;\n",
       "  text-align: center;\n",
       "}\n",
       "\n",
       "#sk-container-id-1 label.sk-toggleable__label-arrow:before {\n",
       "  /* Arrow on the left of the label */\n",
       "  content: \"▸\";\n",
       "  float: left;\n",
       "  margin-right: 0.25em;\n",
       "  color: var(--sklearn-color-icon);\n",
       "}\n",
       "\n",
       "#sk-container-id-1 label.sk-toggleable__label-arrow:hover:before {\n",
       "  color: var(--sklearn-color-text);\n",
       "}\n",
       "\n",
       "/* Toggleable content - dropdown */\n",
       "\n",
       "#sk-container-id-1 div.sk-toggleable__content {\n",
       "  max-height: 0;\n",
       "  max-width: 0;\n",
       "  overflow: hidden;\n",
       "  text-align: left;\n",
       "  /* unfitted */\n",
       "  background-color: var(--sklearn-color-unfitted-level-0);\n",
       "}\n",
       "\n",
       "#sk-container-id-1 div.sk-toggleable__content.fitted {\n",
       "  /* fitted */\n",
       "  background-color: var(--sklearn-color-fitted-level-0);\n",
       "}\n",
       "\n",
       "#sk-container-id-1 div.sk-toggleable__content pre {\n",
       "  margin: 0.2em;\n",
       "  border-radius: 0.25em;\n",
       "  color: var(--sklearn-color-text);\n",
       "  /* unfitted */\n",
       "  background-color: var(--sklearn-color-unfitted-level-0);\n",
       "}\n",
       "\n",
       "#sk-container-id-1 div.sk-toggleable__content.fitted pre {\n",
       "  /* unfitted */\n",
       "  background-color: var(--sklearn-color-fitted-level-0);\n",
       "}\n",
       "\n",
       "#sk-container-id-1 input.sk-toggleable__control:checked~div.sk-toggleable__content {\n",
       "  /* Expand drop-down */\n",
       "  max-height: 200px;\n",
       "  max-width: 100%;\n",
       "  overflow: auto;\n",
       "}\n",
       "\n",
       "#sk-container-id-1 input.sk-toggleable__control:checked~label.sk-toggleable__label-arrow:before {\n",
       "  content: \"▾\";\n",
       "}\n",
       "\n",
       "/* Pipeline/ColumnTransformer-specific style */\n",
       "\n",
       "#sk-container-id-1 div.sk-label input.sk-toggleable__control:checked~label.sk-toggleable__label {\n",
       "  color: var(--sklearn-color-text);\n",
       "  background-color: var(--sklearn-color-unfitted-level-2);\n",
       "}\n",
       "\n",
       "#sk-container-id-1 div.sk-label.fitted input.sk-toggleable__control:checked~label.sk-toggleable__label {\n",
       "  background-color: var(--sklearn-color-fitted-level-2);\n",
       "}\n",
       "\n",
       "/* Estimator-specific style */\n",
       "\n",
       "/* Colorize estimator box */\n",
       "#sk-container-id-1 div.sk-estimator input.sk-toggleable__control:checked~label.sk-toggleable__label {\n",
       "  /* unfitted */\n",
       "  background-color: var(--sklearn-color-unfitted-level-2);\n",
       "}\n",
       "\n",
       "#sk-container-id-1 div.sk-estimator.fitted input.sk-toggleable__control:checked~label.sk-toggleable__label {\n",
       "  /* fitted */\n",
       "  background-color: var(--sklearn-color-fitted-level-2);\n",
       "}\n",
       "\n",
       "#sk-container-id-1 div.sk-label label.sk-toggleable__label,\n",
       "#sk-container-id-1 div.sk-label label {\n",
       "  /* The background is the default theme color */\n",
       "  color: var(--sklearn-color-text-on-default-background);\n",
       "}\n",
       "\n",
       "/* On hover, darken the color of the background */\n",
       "#sk-container-id-1 div.sk-label:hover label.sk-toggleable__label {\n",
       "  color: var(--sklearn-color-text);\n",
       "  background-color: var(--sklearn-color-unfitted-level-2);\n",
       "}\n",
       "\n",
       "/* Label box, darken color on hover, fitted */\n",
       "#sk-container-id-1 div.sk-label.fitted:hover label.sk-toggleable__label.fitted {\n",
       "  color: var(--sklearn-color-text);\n",
       "  background-color: var(--sklearn-color-fitted-level-2);\n",
       "}\n",
       "\n",
       "/* Estimator label */\n",
       "\n",
       "#sk-container-id-1 div.sk-label label {\n",
       "  font-family: monospace;\n",
       "  font-weight: bold;\n",
       "  display: inline-block;\n",
       "  line-height: 1.2em;\n",
       "}\n",
       "\n",
       "#sk-container-id-1 div.sk-label-container {\n",
       "  text-align: center;\n",
       "}\n",
       "\n",
       "/* Estimator-specific */\n",
       "#sk-container-id-1 div.sk-estimator {\n",
       "  font-family: monospace;\n",
       "  border: 1px dotted var(--sklearn-color-border-box);\n",
       "  border-radius: 0.25em;\n",
       "  box-sizing: border-box;\n",
       "  margin-bottom: 0.5em;\n",
       "  /* unfitted */\n",
       "  background-color: var(--sklearn-color-unfitted-level-0);\n",
       "}\n",
       "\n",
       "#sk-container-id-1 div.sk-estimator.fitted {\n",
       "  /* fitted */\n",
       "  background-color: var(--sklearn-color-fitted-level-0);\n",
       "}\n",
       "\n",
       "/* on hover */\n",
       "#sk-container-id-1 div.sk-estimator:hover {\n",
       "  /* unfitted */\n",
       "  background-color: var(--sklearn-color-unfitted-level-2);\n",
       "}\n",
       "\n",
       "#sk-container-id-1 div.sk-estimator.fitted:hover {\n",
       "  /* fitted */\n",
       "  background-color: var(--sklearn-color-fitted-level-2);\n",
       "}\n",
       "\n",
       "/* Specification for estimator info (e.g. \"i\" and \"?\") */\n",
       "\n",
       "/* Common style for \"i\" and \"?\" */\n",
       "\n",
       ".sk-estimator-doc-link,\n",
       "a:link.sk-estimator-doc-link,\n",
       "a:visited.sk-estimator-doc-link {\n",
       "  float: right;\n",
       "  font-size: smaller;\n",
       "  line-height: 1em;\n",
       "  font-family: monospace;\n",
       "  background-color: var(--sklearn-color-background);\n",
       "  border-radius: 1em;\n",
       "  height: 1em;\n",
       "  width: 1em;\n",
       "  text-decoration: none !important;\n",
       "  margin-left: 1ex;\n",
       "  /* unfitted */\n",
       "  border: var(--sklearn-color-unfitted-level-1) 1pt solid;\n",
       "  color: var(--sklearn-color-unfitted-level-1);\n",
       "}\n",
       "\n",
       ".sk-estimator-doc-link.fitted,\n",
       "a:link.sk-estimator-doc-link.fitted,\n",
       "a:visited.sk-estimator-doc-link.fitted {\n",
       "  /* fitted */\n",
       "  border: var(--sklearn-color-fitted-level-1) 1pt solid;\n",
       "  color: var(--sklearn-color-fitted-level-1);\n",
       "}\n",
       "\n",
       "/* On hover */\n",
       "div.sk-estimator:hover .sk-estimator-doc-link:hover,\n",
       ".sk-estimator-doc-link:hover,\n",
       "div.sk-label-container:hover .sk-estimator-doc-link:hover,\n",
       ".sk-estimator-doc-link:hover {\n",
       "  /* unfitted */\n",
       "  background-color: var(--sklearn-color-unfitted-level-3);\n",
       "  color: var(--sklearn-color-background);\n",
       "  text-decoration: none;\n",
       "}\n",
       "\n",
       "div.sk-estimator.fitted:hover .sk-estimator-doc-link.fitted:hover,\n",
       ".sk-estimator-doc-link.fitted:hover,\n",
       "div.sk-label-container:hover .sk-estimator-doc-link.fitted:hover,\n",
       ".sk-estimator-doc-link.fitted:hover {\n",
       "  /* fitted */\n",
       "  background-color: var(--sklearn-color-fitted-level-3);\n",
       "  color: var(--sklearn-color-background);\n",
       "  text-decoration: none;\n",
       "}\n",
       "\n",
       "/* Span, style for the box shown on hovering the info icon */\n",
       ".sk-estimator-doc-link span {\n",
       "  display: none;\n",
       "  z-index: 9999;\n",
       "  position: relative;\n",
       "  font-weight: normal;\n",
       "  right: .2ex;\n",
       "  padding: .5ex;\n",
       "  margin: .5ex;\n",
       "  width: min-content;\n",
       "  min-width: 20ex;\n",
       "  max-width: 50ex;\n",
       "  color: var(--sklearn-color-text);\n",
       "  box-shadow: 2pt 2pt 4pt #999;\n",
       "  /* unfitted */\n",
       "  background: var(--sklearn-color-unfitted-level-0);\n",
       "  border: .5pt solid var(--sklearn-color-unfitted-level-3);\n",
       "}\n",
       "\n",
       ".sk-estimator-doc-link.fitted span {\n",
       "  /* fitted */\n",
       "  background: var(--sklearn-color-fitted-level-0);\n",
       "  border: var(--sklearn-color-fitted-level-3);\n",
       "}\n",
       "\n",
       ".sk-estimator-doc-link:hover span {\n",
       "  display: block;\n",
       "}\n",
       "\n",
       "/* \"?\"-specific style due to the `<a>` HTML tag */\n",
       "\n",
       "#sk-container-id-1 a.estimator_doc_link {\n",
       "  float: right;\n",
       "  font-size: 1rem;\n",
       "  line-height: 1em;\n",
       "  font-family: monospace;\n",
       "  background-color: var(--sklearn-color-background);\n",
       "  border-radius: 1rem;\n",
       "  height: 1rem;\n",
       "  width: 1rem;\n",
       "  text-decoration: none;\n",
       "  /* unfitted */\n",
       "  color: var(--sklearn-color-unfitted-level-1);\n",
       "  border: var(--sklearn-color-unfitted-level-1) 1pt solid;\n",
       "}\n",
       "\n",
       "#sk-container-id-1 a.estimator_doc_link.fitted {\n",
       "  /* fitted */\n",
       "  border: var(--sklearn-color-fitted-level-1) 1pt solid;\n",
       "  color: var(--sklearn-color-fitted-level-1);\n",
       "}\n",
       "\n",
       "/* On hover */\n",
       "#sk-container-id-1 a.estimator_doc_link:hover {\n",
       "  /* unfitted */\n",
       "  background-color: var(--sklearn-color-unfitted-level-3);\n",
       "  color: var(--sklearn-color-background);\n",
       "  text-decoration: none;\n",
       "}\n",
       "\n",
       "#sk-container-id-1 a.estimator_doc_link.fitted:hover {\n",
       "  /* fitted */\n",
       "  background-color: var(--sklearn-color-fitted-level-3);\n",
       "}\n",
       "</style><div id=\"sk-container-id-1\" class=\"sk-top-container\"><div class=\"sk-text-repr-fallback\"><pre>GridSearchCV(cv=5,\n",
       "             estimator=MultiOutputClassifier(estimator=DecisionTreeClassifier(random_state=42)),\n",
       "             n_jobs=-1,\n",
       "             param_grid={&#x27;estimator__max_depth&#x27;: [3, 5, 10, None],\n",
       "                         &#x27;estimator__min_samples_leaf&#x27;: [1, 2, 4],\n",
       "                         &#x27;estimator__min_samples_split&#x27;: [2, 5, 10]},\n",
       "             scoring=&#x27;roc_auc&#x27;)</pre><b>In a Jupyter environment, please rerun this cell to show the HTML representation or trust the notebook. <br />On GitHub, the HTML representation is unable to render, please try loading this page with nbviewer.org.</b></div><div class=\"sk-container\" hidden><div class=\"sk-item sk-dashed-wrapped\"><div class=\"sk-label-container\"><div class=\"sk-label fitted sk-toggleable\"><input class=\"sk-toggleable__control sk-hidden--visually\" id=\"sk-estimator-id-1\" type=\"checkbox\" ><label for=\"sk-estimator-id-1\" class=\"sk-toggleable__label fitted sk-toggleable__label-arrow fitted\">&nbsp;&nbsp;GridSearchCV<a class=\"sk-estimator-doc-link fitted\" rel=\"noreferrer\" target=\"_blank\" href=\"https://scikit-learn.org/1.5/modules/generated/sklearn.model_selection.GridSearchCV.html\">?<span>Documentation for GridSearchCV</span></a><span class=\"sk-estimator-doc-link fitted\">i<span>Fitted</span></span></label><div class=\"sk-toggleable__content fitted\"><pre>GridSearchCV(cv=5,\n",
       "             estimator=MultiOutputClassifier(estimator=DecisionTreeClassifier(random_state=42)),\n",
       "             n_jobs=-1,\n",
       "             param_grid={&#x27;estimator__max_depth&#x27;: [3, 5, 10, None],\n",
       "                         &#x27;estimator__min_samples_leaf&#x27;: [1, 2, 4],\n",
       "                         &#x27;estimator__min_samples_split&#x27;: [2, 5, 10]},\n",
       "             scoring=&#x27;roc_auc&#x27;)</pre></div> </div></div><div class=\"sk-parallel\"><div class=\"sk-parallel-item\"><div class=\"sk-item\"><div class=\"sk-label-container\"><div class=\"sk-label fitted sk-toggleable\"><input class=\"sk-toggleable__control sk-hidden--visually\" id=\"sk-estimator-id-2\" type=\"checkbox\" ><label for=\"sk-estimator-id-2\" class=\"sk-toggleable__label fitted sk-toggleable__label-arrow fitted\">best_estimator_: MultiOutputClassifier</label><div class=\"sk-toggleable__content fitted\"><pre>MultiOutputClassifier(estimator=DecisionTreeClassifier(max_depth=5,\n",
       "                                                       min_samples_leaf=4,\n",
       "                                                       random_state=42))</pre></div> </div></div><div class=\"sk-serial\"><div class=\"sk-item sk-dashed-wrapped\"><div class=\"sk-parallel\"><div class=\"sk-parallel-item\"><div class=\"sk-item\"><div class=\"sk-label-container\"><div class=\"sk-label fitted sk-toggleable\"><input class=\"sk-toggleable__control sk-hidden--visually\" id=\"sk-estimator-id-3\" type=\"checkbox\" ><label for=\"sk-estimator-id-3\" class=\"sk-toggleable__label fitted sk-toggleable__label-arrow fitted\">estimator: DecisionTreeClassifier</label><div class=\"sk-toggleable__content fitted\"><pre>DecisionTreeClassifier(max_depth=5, min_samples_leaf=4, random_state=42)</pre></div> </div></div><div class=\"sk-serial\"><div class=\"sk-item\"><div class=\"sk-estimator fitted sk-toggleable\"><input class=\"sk-toggleable__control sk-hidden--visually\" id=\"sk-estimator-id-4\" type=\"checkbox\" ><label for=\"sk-estimator-id-4\" class=\"sk-toggleable__label fitted sk-toggleable__label-arrow fitted\">&nbsp;DecisionTreeClassifier<a class=\"sk-estimator-doc-link fitted\" rel=\"noreferrer\" target=\"_blank\" href=\"https://scikit-learn.org/1.5/modules/generated/sklearn.tree.DecisionTreeClassifier.html\">?<span>Documentation for DecisionTreeClassifier</span></a></label><div class=\"sk-toggleable__content fitted\"><pre>DecisionTreeClassifier(max_depth=5, min_samples_leaf=4, random_state=42)</pre></div> </div></div></div></div></div></div></div></div></div></div></div></div></div></div>"
      ],
      "text/plain": [
       "GridSearchCV(cv=5,\n",
       "             estimator=MultiOutputClassifier(estimator=DecisionTreeClassifier(random_state=42)),\n",
       "             n_jobs=-1,\n",
       "             param_grid={'estimator__max_depth': [3, 5, 10, None],\n",
       "                         'estimator__min_samples_leaf': [1, 2, 4],\n",
       "                         'estimator__min_samples_split': [2, 5, 10]},\n",
       "             scoring='roc_auc')"
      ]
     },
     "execution_count": 13,
     "metadata": {},
     "output_type": "execute_result"
    }
   ],
   "source": [
    "# Fit GridSearchCV\n",
    "grid_search.fit(X_train, y_train)"
   ]
  },
  {
   "cell_type": "code",
   "execution_count": 14,
   "metadata": {},
   "outputs": [
    {
     "name": "stdout",
     "output_type": "stream",
     "text": [
      "Best parameters: {'estimator__max_depth': 5, 'estimator__min_samples_leaf': 4, 'estimator__min_samples_split': 2}\n",
      "Best cross-validation score (AUC): 0.8308493281790958\n"
     ]
    }
   ],
   "source": [
    "# Print Best Parameters and Score\n",
    "print(\"Best parameters:\", grid_search.best_params_)\n",
    "print(\"Best cross-validation score (AUC):\", grid_search.best_score_)"
   ]
  },
  {
   "cell_type": "markdown",
   "metadata": {},
   "source": [
    "Explanation:\n",
    "    The code uses MultiOutputClassifier to handle two target variables: h1n1_vaccine and seasonal_vaccine.\n",
    "    GridSearchCV performs 5-fold cross-validation to find the best hyperparameters.\n",
    "    And then we output the best hyperparameters and corresponding cross-validation score.\n",
    "\n",
    "Justification:\n",
    "    It ensures the model is optimized for both targets, and generalizes to unseen data.\n",
    "    It also provides insights into the model’s configuration and performance during training."
   ]
  },
  {
   "cell_type": "code",
   "execution_count": 15,
   "metadata": {},
   "outputs": [],
   "source": [
    "# Best Estimator for Predictions\n",
    "best_estimator = grid_search.best_estimator_\n",
    "preds = best_estimator.predict_proba(X_test)"
   ]
  },
  {
   "cell_type": "code",
<<<<<<< Updated upstream
=======
   "execution_count": null,
   "metadata": {},
   "outputs": [],
   "source": [
    "Explanation: \n",
    "    We use the best estimator found by GridSearchCV to make probability predictions on the test set."
   ]
  },
  {
   "cell_type": "code",
>>>>>>> Stashed changes
   "execution_count": 16,
   "metadata": {},
   "outputs": [
    {
     "name": "stdout",
     "output_type": "stream",
     "text": [
      "y_preds.shape: (5342, 2)\n"
     ]
    }
   ],
   "source": [
    "# Convert Predictions to DataFrame\n",
    "y_preds = pd.DataFrame(\n",
    "    {\n",
    "        'h1n1_vaccine': preds[0][:, 1],\n",
    "        'seasonal_vaccine': preds[1][:, 1],\n",
    "    },\n",
    "    index=y_test.index\n",
    ")\n",
    "print('y_preds.shape:', y_preds.shape)"
   ]
  },
  {
   "cell_type": "markdown",
   "metadata": {},
   "source": [
    "Explanation: \n",
    "    We convert the predictions into a DataFrame for easier handling and analysis."
   ]
  },
  {
   "cell_type": "code",
   "execution_count": 17,
   "metadata": {},
   "outputs": [
    {
     "data": {
      "image/png": "iVBORw0KGgoAAAANSUhEUgAAA90AAAHqCAYAAAAZLi26AAAAOXRFWHRTb2Z0d2FyZQBNYXRwbG90bGliIHZlcnNpb24zLjkuMiwgaHR0cHM6Ly9tYXRwbG90bGliLm9yZy8hTgPZAAAACXBIWXMAAA9hAAAPYQGoP6dpAACjwElEQVR4nOzdd3hU1dbH8e+k9wYkBAi9CUgvgiIdBEFFKXZEsKKi6FW5FixXsV2wwytesaKCoqLSm6IiHQSk11ASAuk9mTnvHycZiLQEkpxJ5vd5njw358yZyUouzp519t5r2QzDMBARERERERGRUudhdQAiIiIiIiIilZWSbhEREREREZEyoqRbREREREREpIwo6RYREREREREpI0q6RURERERERMqIkm4RERERERGRMqKkW0RERERERKSMKOkWERERERERKSNKukVERERERETKiJJuKRfPPfccNpuN48ePWx1KpVX4NxYREZGiunfvTvfu3a0Oo1RovBepeJR0i8tZuHAho0aNokWLFnh6elK3bt2Lfs3Vq1dz//33065dO7y9vTVYlbNt27Zhs9nw8/MjOTn5jNfUrVuXgQMHnvGxtWvXYrPZ+Pjjj097bOPGjdx6663ExMTg6+tLREQEvXv3Zvr06djt9lL8Lc7v8OHDDBs2jLCwMEJCQrj22mvZu3dvsZ7rcDiYOnUqrVu3JigoiKioKPr3788ff/xxzue99NJL2Gw2WrRoUeT8/v37sdlsZ/266667ilyfk5PDE088QY0aNfD396dTp04sWrSoZH8AERFxaxrvz6+44/2aNWt44IEHaN68OYGBgdSuXZthw4axc+fO015z2rRpdOvWjaioKHx9falXrx4jR45k//79p107ZcoUhg4dSu3atbHZbNxxxx0X8ieQElLSLS5nxowZzJgxg9DQUGrUqFEqrzl37lw+/PBDbDYb9evXL5XXdDVPP/00WVlZVodxRp9//jnVq1cH4Jtvvim11/3www9p3749y5Yt45ZbbuH999/n2Wefxd/fn1GjRvHqq6+W2s86n/T0dHr06MEvv/zCv//9b55//nk2bNhAt27dOHHixHmf/69//Yv77ruPSy+9lEmTJvHoo4+yc+dOunXrxurVq8/4nEOHDvHyyy8TGBh42mPVqlXjs88+O+3rlltuAaBv375Frr/jjjuYNGkSt9xyC2+99Raenp4MGDCA33777QL+GiIiUlY03rvHeP/qq6/y7bff0qtXL9566y3uvvtufv31V9q2bcuWLVuKvOaGDRuoV68ejz/+OFOmTOHWW29l3rx5dOjQgSNHjhS59tVXX2Xp0qU0b94cLy+v0vmjyPkZIuVgwoQJBmAkJCSc99rDhw8bubm5hmEYxtVXX23UqVPnon9+XFyckZmZaRiGYYwZM8bQP/3y43A4jLp16xrjxo0zBg8ebHTv3v2M19WpU8e4+uqrz/jYmjVrDMCYPn2689zKlSsNT09P44orrjBSU1PP+JxTry9rr776qgEYq1evdp7btm2b4enpaYwfP/6cz83LyzP8/f2NIUOGFDm/d+9eAzAeeuihMz5v+PDhRs+ePY1u3boZzZs3L1acvXr1MkJCQoysrCznuVWrVhmA8frrrzvPZWVlGQ0aNDA6d+5crNcVEXFl3bp1M7p162Z1GJWaxvvSHe9///13Iycnp8h1O3fuNHx9fY1bbrnlvHGuXbvWAIyJEycWOb9//37D4XAYhmEYgYGBxogRI877WnLxNNMt5So5OZk77riDsLAwQkNDGTlyJJmZmUWuqVGjBt7e3ud9rY8//hibzcbvv//OuHHjqFatGoGBgQwePJiEhIQi10ZFReHv73/R8Q8cOPCsM+WdO3emffv2zuPp06fTs2dPIiMj8fX1pVmzZkyZMuWMz503bx7dunUjODiYkJAQOnTowIwZM4pcs2rVKgYMGEB4eDiBgYG0bNmSt956y/n4mfZ42Ww2HnjgAb7//ntatGiBr68vzZs3Z/78+afFcPjwYe68807n0qTmzZvz0UcfnXbdwYMH2b59+9n/SP/w+++/s3//fm688UZuvPFGfv31Vw4dOlTs55/N888/j81m44svviA4OPi0x9u3b1+uS6a++eYbOnToQIcOHZznmjZtSq9evZg5c+Y5n5uXl0dWVhZRUVFFzkdGRuLh4XHGf7u//vor33zzDW+++WaxYzx69CjLli3j+uuvx8/Pr0jsnp6e3H333c5zfn5+jBo1ipUrVxIbG1vsnyEi1ktLS+Phhx+mbt26+Pr6EhkZSZ8+fVi/fn2R61atWsVVV11FaGgoAQEBdOvWjd9//73INQcOHOD++++nSZMm+Pv7U6VKFYYOHXrastW8vDyef/55GjVqhJ+fH1WqVOGKK644bZvK0qVL6dq1K4GBgYSFhXHttdeybdu2ItcUjme7d+8+72eGkoy1JaHxXuP92ZTXeN+lSxd8fHyKXNeoUSOaN29+2n8zZ1K4PfOfy/zr1KmjbZYW0JoCKVfDhg2jXr16TJw4kfXr1/Phhx8SGRl5UcuCHnzwQcLDw5kwYQL79+/nzTff5IEHHuDrr78uxchNw4cP5/bbb2fNmjVF3mwPHDjAn3/+yeuvv+48N2XKFJo3b84111yDl5cXP/74I/fffz8Oh4MxY8Y4r/v444+58847ad68OePHjycsLIwNGzYwf/58br75ZgAWLVrEwIEDiY6OZuzYsVSvXp1t27bx008/MXbs2HPG/NtvvzF79mzuv/9+goODefvtt7nhhhs4ePAgVapUASA+Pp7LLrvMOWhXq1aNefPmMWrUKFJTU3n44Yedr3f77bfzyy+/YBhGsf5mX3zxBQ0aNKBDhw60aNGCgIAAvvzyS/71r38V6/lnkpmZyZIlS7jyyiupXbv2Bb9Oeno62dnZ573O29ub0NDQsz7ucDj466+/uPPOO097rGPHjixcuJC0tLQzflgAnHuoP/74Yzp37kzXrl1JTk7mxRdfJDw8vEgyDGC323nwwQcZPXo0l1566XnjL/TVV1/hcDicS8wLbdiwgcaNGxMSEnJa7GDuo4uJiSn2zxERa91777188803PPDAAzRr1owTJ07w22+/sW3bNtq2bQuYyW///v1p164dEyZMwMPDw5k8rlixwvnf/5o1a/jjjz+48cYbqVWrFvv372fKlCl0796dv//+m4CAAMBMBCdOnMjo0aPp2LEjqamprF27lvXr19OnTx8AFi9eTP/+/alfvz7PPfccWVlZvPPOO1x++eWsX7/+tBouxfnMUNyxtqQ03mu8P5PyHu//yTAM4uPjad68+RkfP3HiBHa7nYMHD/LCCy8A0KtXr3O+ppQTi2faxU0ULi+/8847i5wfPHiwUaVKlbM+71zLy6dPn24ARu/evZ3LZAzDMB555BHD09PTSE5OPuPzLmZ5eUpKiuHr62s8+uijRc6/9tprhs1mMw4cOOA8V7ic/VT9+vUz6tev7zxOTk42goODjU6dOhVZ7msYhvN3ys/PN+rVq2fUqVPHSEpKOuM1hnHyb3wqwPDx8TF2797tPLdp0yYDMN555x3nuVGjRhnR0dHG8ePHizz/xhtvNEJDQ4v8Lt26dSv23y83N9eoUqWK8dRTTznP3XzzzUarVq1Ou7Yky80Kf4exY8cWK46zGTFihAGc9+t8SxITEhIMwHjhhRdOe+y9994zAGP79u3nfI1du3YZbdu2LfJz69evf8bnvfvuu0ZoaKhx7NgxwzCMYi8vb9eunREdHW3Y7fYi55s3b2707NnztOu3bt1qAMbUqVPP+9oi4jpCQ0ONMWPGnPVxh8NhNGrUyOjXr1+RcSQzM9OoV6+e0adPnyLn/mnlypUGYHz66afOc61atTrre3ih1q1bG5GRkcaJEyec5zZt2mR4eHgYt99+u/NcST4zFGesNYySLy/XeK/x/kzKe7z/p88++8wAjP/9739nfNzX19f5mlWqVDHefvvtc76elpeXH810S7m69957ixx37dqV7777jtTU1NNm2Yrr7rvvLrJMpmvXrkyePJkDBw7QsmXLi4r3n0JCQujfvz8zZ87k9ddfd/7cr7/+mssuu6zIXdhTlwilpKSQl5dHt27dWLBgASkpKYSGhrJo0SLS0tJ48skniyz3BZyvvWHDBvbt28fkyZMJCws74zXn0rt3bxo0aOA8btmyJSEhIc4qm4Zh8O233zJs2DAMwyjS1q1fv3589dVXrF+/nssvvxyA5cuXF+MvZZo3bx4nTpzgpptucp676aabGDRoEFu3bj3rndrzSU1NBTjrneTievzxx7n11lvPe114ePg5Hy8saOPr63vaY4X/v56v6E1wcDDNmzenc+fO9OrVi7i4OF555RWuu+46VqxYQdWqVQHzLvazzz7LM888Q7Vq1c4be6GdO3eybt06HnnkETw8iu4sysrKuqjYRcS1hIWFsWrVKo4cOXLGgqQbN25k165dPP3006cVfurVqxefffYZDofjtOWueXl5pKam0rBhQ8LCwli/fj233Xab82du3bqVXbt20ahRo9N+5tGjR9m4cSOPP/44ERERzvMtW7akT58+zJ0797TnFOczQ3HG2guh8V7j/ZmU53j/T9u3b2fMmDF07tyZESNGnPGaefPmkZ2dzbZt2/j888/JyMg4ZyxSfpR0S7n659Kgwje3pKSkC066z/WaZWH48OF8//33rFy5ki5durBnzx7WrVt32t7a33//nQkTJrBy5crT9qAVDsJ79uwBOK3d06mKc825nGk5Vnh4uPPvk5CQQHJyMh988AEffPDBGV/j2LFjF/SzP//8c+rVq4evry+7d+8GoEGDBgQEBPDFF1/w8ssvl+j1Cj90FP5bSUtLu6C4CjVr1oxmzZpd1GvAyQ9cOTk5pz1WuJztXDUF8vPz6d27N927d+edd95xnu/duzfNmzfn9ddfdy6nfPrpp4mIiODBBx8sUYxffPEFwGlLywtju9DYRcT1vPbaa4wYMYKYmBjatWvHgAEDuP322517lHft2gVw1g/uYI5T4eHhZGVlMXHiRKZPn87hw4eLLDVOSUlxfv/CCy9w7bXX0rhxY1q0aMFVV13Fbbfd5rz5feDAAQCaNGly2s+65JJLWLBgARkZGUW6MRTnM0NxxtoLpfG++DTel/54f6q4uDiuvvpqQkNDnXVYzqRHjx4A9O/fn2uvvZYWLVoQFBTEAw88UPxfUsqEkm4pV2d7kzCKuV+ovF7zXAYNGkRAQAAzZ86kS5cuzJw5Ew8PD4YOHeq8Zs+ePfTq1YumTZsyadIkYmJi8PHxYe7cuUyePBmHw1EmsZ3J+f4+hbHceuutZ/0AdiErBlJTU/nxxx/Jzs4+46zHjBkznD2mwbxDfLa7w4UfYgrvIjds2BAvLy82b95c4rhOlZKSUqxZXB8fnyIzM/8UERGBr68vR48ePe2xwnPnan/366+/smXLFiZNmlTkfKNGjbjkkkuchY127drFBx98wJtvvlmkBUh2djZ5eXns37+fkJCQM8Y6Y8YMmjRpQrt27U57LDo6msOHD19Q7CLieoYNG+acFV64cKHzg/zs2bPp37+/833/9ddfp3Xr1md8jaCgIMCsmzJ9+nQefvhhOnfuTGhoKDabjRtvvLHIWHbllVeyZ88efvjhBxYuXMiHH37I5MmTmTp1KqNHj76g3+N841dZj7Ua74tH472pNMf7f8bev39/kpOTWbFiRbHH5AYNGtCmTRu++OILJd0uQEm3SAkFBgYycOBAZs2axaRJk/j666/p2rVrkTfBH3/8kZycHObMmVPkzvOyZcuKvFbhMrAtW7bQsGHDM/68U6/p3bt3af86VKtWjeDgYOx2e6m+/uzZs8nOzmbKlCmnLZXasWMHTz/9NL///jtXXHEFYFbT/Pvvv8/4Wjt27HBeAxAQEEDPnj1ZunQpsbGxF1zka+zYsXzyySfnva5bt27nXGbn4eHBpZdeytq1a097bNWqVdSvX/+cS+Pi4+MBs0DaP+Xl5ZGfnw+YFWcdDgcPPfQQDz300GnX1qtXj7Fjx542C7Nq1Sp2797tLKryT61bt2bZsmWnbfNYtWqV83ERqViio6O5//77uf/++zl27Bht27blpZdeon///s5xJSQk5Lzv+9988w0jRozgv//9r/Ncdnb2aRWRwUxIRo4cyciRI0lPT+fKK6/kueeeY/To0c7378L381Nt376dqlWrFpnlLo7ijrUXSuN98Wi8N5XmeF8oOzubQYMGsXPnThYvXlzi2fqsrKwzzspL+VPLMJELMHz4cI4cOcKHH37Ipk2bGD58eJHHC+82/3MZ3vTp04tc17dvX4KDg5k4ceJpVTULn9u2bVvq1avHm2++edqHnNKYzff09OSGG27g22+/ZcuWLac9/s/2a8VtIfL5559Tv3597r33XoYMGVLk67HHHiMoKMi55BlgwIABHDp0iO+//77I6+Tk5Dgr1hZW3QWYMGEChmFw2223kZ6eftrPX7du3XkH2Mcff5xFixad9+vUD5tnM2TIENasWVNkIN6xYwdLly4tMisC5gfMgwcPOo8bN24MmNXFT7V+/Xp27NhBmzZtAHPJ4XfffXfaV/Pmzalduzbfffcdo0aNOi22wnY0hdVxzxS73W4vstwwJyeH6dOn06lTJ1UuF6lA7HZ7kWXfYLYjqlGjhvPDd7t27WjQoAFvvPHGGd8/T33f9/T0PG2seeedd05LGv65NzwoKIiGDRs6f2Z0dDStW7fmk08+KTKWbdmyhYULFzJgwIAS/67FHWsvhsZ7jff/VB7jPZj/LQ8fPpyVK1cya9YsOnfufMZ48vPzz7ilcvXq1WzevLlIezuxjma6xeX89ddfzJkzB4Ddu3eTkpLCf/7zHwBatWrFoEGDSvyaBw4c4LPPPgNwvkkWvmadOnWchWCKa8CAAQQHB/PYY485B7FT9e3bFx8fHwYNGsQ999xDeno606ZNIzIyssiSpJCQECZPnszo0aPp0KEDN998M+Hh4WzatInMzEw++eQTPDw8mDJlCoMGDaJ169aMHDmS6Ohotm/fztatW1mwYEGJ/x7/9Morr7Bs2TI6derEXXfdRbNmzUhMTGT9+vUsXryYxMRE57XFaSFy5MgRli1bdsbZWDALkPTr149Zs2bx9ttv4+3tzd13381HH33E0KFDufPOO2nTpg0nTpzg66+/ZsuWLXz66adF+lV26dKF9957j/vvv5+mTZty22230ahRI9LS0li+fDlz5sxx/n98NqW1xwvg/vvvZ9q0aVx99dU89thjeHt7M2nSJKKionj00UeLXHvJJZcUuZverl07+vTpwyeffEJqaip9+/bl6NGjvPPOO/j7+ztbuFStWpXrrrvutJ9dOLN9psfsdruz8M+pBXZO1alTJ4YOHcr48eM5duwYDRs25JNPPmH//v3873//u9A/iYhYIC0tjVq1ajFkyBBatWpFUFAQixcvZs2aNc6EwsPDgw8//JD+/fvTvHlzRo4cSc2aNTl8+DDLli0jJCSEH3/8ETD7VX/22WeEhobSrFkzVq5cyeLFi50tqAo1a9aM7t27065dOyIiIli7dq2zbVmh119/nf79+9O5c2dGjRrlbBkWGhrKc889V+Lftbhj7cXQeK/x/p/KY7wHePTRR5kzZw6DBg0iMTGRzz//vMhrFxaGS09PJyYmhuHDh9O8eXMCAwPZvHkz06dPJzQ0lGeeeabI83788Uc2bdoEmLPrf/31l/Pvd80115R6EWIpUJ6l0sV9Fba3SEhIKHK+sO3Xvn37Tjt3pq9T2xoUXrdmzZoir7ls2TIDMJYtW3bauTN9laSFyKluueUWZ8uyM5kzZ47RsmVLw8/Pz6hbt67x6quvGh999NFpv2/htV26dDH8/f2NkJAQo2PHjsaXX35Z5JrffvvN6NOnjxEcHGwEBgYaLVu2LNIG5GwtRM7UNqZOnTqntYiIj483xowZY8TExBje3t5G9erVjV69ehkffPBBkeuK00Lkv//9rwEYS5YsOes1H3/8sQEYP/zwg/NcUlKS8cgjjxj16tUzvL29jZCQEKNHjx7GvHnzzvo669atM26++WajRo0ahre3txEeHm706tXL+OSTT05rjVXWYmNjjSFDhhghISFGUFCQMXDgQGPXrl2nXXemf3eZmZnGCy+8YDRr1szw9/c3QkNDjYEDBxobNmw47889V8uw+fPnG8B524ZkZWUZjz32mFG9enXD19fX6NChgzF//vzz/mwRcS05OTnGv/71L6NVq1bO8aJVq1bG+++/f9q1GzZsMK6//nqjSpUqhq+vr1GnTh1j2LBhRd67k5KSjJEjRxpVq1Y1goKCjH79+hnbt28/bRz5z3/+Y3Ts2NEICwsz/P39jaZNmxovvfSSkZubW+RnLl682Lj88sud492gQYOMv//+u8g1JfnMUNyxtqQtw06l8f7sNN6X3Xhf+Pc/21ehnJwcY+zYsUbLli2NkJAQw9vb26hTp44xatSo0/79Gca526cVtmqT0mczjDKqNiUiIiIiIiLi5rSnW0RERERERKSMaE+3SIGEhIQzVpMsdL42EiIiIuL6NN6LSHnT8nKRAnXr1uXAgQNnffx8bSRERETE9Wm8F5HypplukQJffPEFWVlZZ308PDy8HKMRERGRsqDxXkTKm2a6RURERERERMqICqmJiIiIiIiIlBG3W17ucDg4cuQIwcHB2Gw2q8MRERE5jWEYpKWlUaNGDTw83Pf+uMZsERFxZcUdr90u6T5y5AgxMTFWhyEiInJesbGx1KpVy+owLKMxW0REKoLzjddul3QHBwcD5h8mJCTE4mhEREROl5qaSkxMjHPMclcas0VExJUVd7x2u6S7cHlaSEiIBnAREXFp7r6kWmO2iIhUBOcbr913o5iIiIiIiIhIGVPSLSIiIiIiIlJGlHSLiIiIiIiIlBEl3SIiIiIiIiJlREm3iIiIiIiISBlR0i0iIiIiIiJSRpR0i4iIiIiIiJQRJd0iIiIiIiIiZURJt4iIiIiIiEgZUdItIiIiIiIiUkaUdIuIiIiIiIiUEUuT7l9//ZVBgwZRo0YNbDYb33///Xmfs3z5ctq2bYuvry8NGzbk448/LvM4RURE3J3GbBERkQtjadKdkZFBq1ateO+994p1/b59+7j66qvp0aMHGzdu5OGHH2b06NEsWLCgjCMVERFxbxqzRURELoyXlT+8f//+9O/fv9jXT506lXr16vHf//4XgEsuuYTffvuNyZMn069fv7IKU0RExO1pzBYREbkwFWpP98qVK+ndu3eRc/369WPlypUWRSQiIu7IMAzSsvOITcxkU2wyy7bH892GQ2Tm5lsdmsvQmC0iIq4kz+5gd3wq87ccZc3+xHL92ZbOdJdUXFwcUVFRRc5FRUWRmppKVlYW/v7+pz0nJyeHnJwc53FqamqZxykiIhWHYRik5+STlJFHYmYuSZm5JGXkkpiRS3KmeS450zxOysgzH8/MJc9uANDu0N88vfR/PHbDM7R89loaVAuy+DdyDRqzRUTECtl5dvYdz2DXsXR2H0tn97E0dsWnExufwqs/TmJDjSYkjb6XDnUjyi2mCpV0X4iJEyfy/PPPWx2GiIiUA8MwSMvJJykjl6TMPGfyXJgoJ2bkORPoUxPqwgS6pHrG/sV7s17APy+b1zZ/C1xbur+Qm9GYLSIixZWZm8+eYxnsOpbG7mPpziT7wIkMHP8Y1n3zc3n3h1fps3sVA3b9wSd33FiusVaopLt69erEx8cXORcfH09ISMgZ75gDjB8/nnHjxjmPU1NTiYmJKdM4RUTk4hmGQWp2YQJdOAOdV5A8n5JUO2eizYQ6/58jbTH5e3sSEehDeKA34QE+hAf4EBHoQ1iAt3m+4Fzh41X+XIHvtc9BXi7060ev2Z9DQEDp/hEqMI3ZIiJSGlKz88wZ6/j0Ign2oaSssz4nxM+LRlHBNIoMomHVAK5/ajQRu1dh+Pnh/e23jB7Qoxx/gwqWdHfu3Jm5c+cWObdo0SI6d+581uf4+vri6+tb1qGJiMg5OBwGadn5ZsJ8SpKcVGQW+mQinZRpzkRfaAId4ONZJEE+NWmOCPQm7NRzBdf4eXuW7Ie0awMNGkDTpvDll6CxpgiN2SIiUhJJGbnsOmYm1rviC5eGpxOXmn3W51QN8qFhZBANI4NoFFmQZEcFUS3IF5vNdvLCm4bCpnXY5syBHuWbcIPFSXd6ejq7d+92Hu/bt4+NGzcSERFB7dq1GT9+PIcPH+bTTz8F4N577+Xdd9/l8ccf584772Tp0qXMnDmTn3/+2apfQUTE7RQm0InOZdpFl2s7E+mMk8u3kzLzsF9gAh3o43kySQ70ITzg1ETam/BAHyICfJzXhAV4lzyBvhDVqsEvv0B4OHhVqHvYF0RjtoiIXCzDMEhIzymYtT6ZYO9JSOd4eu5Zn1c9xI9GUUFFEuyGkUFEBPoU7wePGQPXXw/R0aX0m5SMpZ8S1q5dS49T7jQULikbMWIEH3/8MUePHuXgwYPOx+vVq8fPP//MI488wltvvUWtWrX48MMP1XpEROQCORwGqdl5Z12uXWRp9ymz0BeYPxPk6+Vcrh0W4ENEQdJszjibybMzkS5IoH29yiGBLq4334TAQLjrLvO4WjVLwylPGrNFRKS4DMPgSEq2uRQ8/uSS8F3xaaRmn73TR61wfxpFBtEoKpiG1cxZ64aRQYT4eZcsgCNH4JFHYMoUiCgomGZRwg1gMwzjAj86VUypqamEhoaSkpJCSEiI1eGIiJQah8MgJSuvSNEwZyXuzFySM/4xE51p7oG+mAT6jPufA3xOSaRP7od2uQS6JAwDXnwRJkwAmw3WrYM2bcrsx2msMunvICLi2uwOg0NJmeZy8IT0gmXhZpKdkWs/43M8bFCnSmDBjPXJmesGkYEE+JTCnPC+fdC7N+zdC4MHw+zZF/+aZ1Hccaryr4cTEanAsnLtbI9L5Xj6yeT5ZEurgkrcBccpWXkXnEAH+3oRFviPhPks+58Ll3L7eHmU7i/rqgwDHn8c3njDPH7hBWjd2tKQREREylOe3cGBE5nOhNqctTaXhefkO874HC8PG/WqBhYsCw8umMEOom6VwLLbBrZ9u5lwHz4M9evDpEll83NKSEm3iIiLMAyD2MQs1h9MYsPBJNYfTGbb0dQSFxML9vNyLtcOLzLzfPr+5/BAb8L83SiBLimHw9wHNnWqeTx5Mjz8sKUhiYiIlJWc/IIe1wV7rvcU7LvedzzjrO01fb08qF/NnLUuTKwbRgZTp0oA3p7l+Pli40bo2xcSEqBZM1i0CGrUKL+ffw5KukVELJKZm89fh1IKkuxkNhxMOmMRkWrBvtQI8y+y//lkNe6i+5+VQJei/HwYORI+/9xcUj5tGowaZXVUIiIiFy0r186ehJOFzAoT7P1n6HFdKMDHk0aRQTQ4pVJ4o6ggaoUH4OlhO/OTysuff0L//pCcDG3bwoIFULWqtTGdQkm3iEg5MAyDAycy2RCbxPoDyaw/mMT2uLTTKnp7e9poXiOUtrXDaVsnjDa1w6kR6le07YWUj9mzzYTbyws++wxuvNHqiEREREokraDH9a6C9lu74tPYnWD2uD5bZa9gPy8aFxQyK6wY3igqmOgQPzysTq7PxG6H0aPNhPvyy+HnnyE01OqoilDSLSJSBjJy8tl0KNk5g73hYDInMk6fxY4O9aNt7XDa1DYT7OY1Qsqn3ZWc39Ch5lK1zp1h0CCroxERETmrpIxcZyGzXYX7ruPP3eO6SqBPQUIdVJBgm7PX1YJ9K9bNfk9P+O47eP55+L//M7uMuBgl3SIiF8kwDPYdz2DDQXMGe/3BZHbEpZ62PMvH04MWNUMKZrHNRDs61N+aoOXMUlPNwTsw0FxS/vLLVkckIiICnNLj2jlrfTLBPleP66gQX2df68IEu2FkEFWCfMsx+jJw9OjJNmCNGpmr01yUkm4RkRJKz8lnU2wy6w8ksSHWnMlOysw77boaoX60qRNuJtm1w2hWI6TitsxyBydOwFVXmUvSfvoJ/PysjkhERNyQYRgcTcl2Lgnffcq+65Ss0z9vFKoZ5k+jqMKCZsE0KGjHFepfwh7XFcH06XD//fDttzBggNXRnJeSbhGRczAMg73HM1h/wJzB3nAwiZ3xaafPYnt50LJmKG1qhxUsFw+neqiStgrj6FHo0we2bjULrxw4AE2aWB2ViIhUYg6HwaGkLLOYWeHsdUFBs/Sc/DM+x8MGtSMCzBZcpyTY9asFEujrJqndO+/AQw+Z38+fr6RbRKSiSc/Jd+7BLqwqfqa7yjXD/Glbx5zBblM7nGbRIaoaXlEdOGD29Ny922wtsnixEm4RESk1+XYHBxIz2RVfMGtdkGDvSUgnO+/sPa7rVg10tuFqWLDful7VMuxxXRG8/DI89ZT5/bhx8MYb1sZTTEq6RcSt5dkdbIxN5rddx/l993E2xCafVlHc18uDlrVCnTPYbWuHERmiWexKYedOM+GOjYW6dWHJEqhf3+qoRESkAsrJt7P/eKazDVfh3uu9x9PP2uPax8uDBgV7rE/tc12nSmD59rh2dYYB//43vPKKeTxhgvlVQQq+KekWEbdiGAa7jqXz267j/Lb7OKv2niAj117kmlrh/rSrE06bmDDa1gnnkugQDXyV0ebN5pLy+Hho2tSc4a5Z0+qoRETExRX2uDaXg59MsA8kZp52475QgI8nDQv2WDc8pc91TIQL9Lh2dQ6HuZz8vffM4zfegEcftTamElLSLSKVXlxKNr/vNpPs33YfJyEtp8jjEYE+XN6wKlc0rEKXBlWJiQiwKFIpV/n5kJ0NrVvDggUQGWl1RCIi4kIKe1zvPmW/9a5jaeftcV24z7phZBANC/Zd1wj1d80e1xVFRoY5qz11Ktx9t9XRlJiSbhGpdI6mZLF6XyKr9iWyau8J9iRkFHncz9uDjvWqcEXDKlzesCqXVA/RQOiO2rSBpUvN5eRhYVZHIyIiFknOzD1ZyOyUNlxHU87e4zo8wNvZ17pRZJCzsFlkRetxXRF4eMC0aXDHHdCtm9XRXBAl3SJSoRmGwcHETFbtSyxItE8Qm5hV5BoPG1xaK8yZZLerE67WXe5q/nwICYEuXczjtm2tjUdERMqFYRgcT891JtQnE+x0jqfnnPV5kcG+BVXCg537ritFj2tXl5VlVikfNw68vMyvCppwg5JuEalgDMNg97F0Z5K9el8icalF70R7ethoUSOEjvUi6FivCh3rRhAaUAl7VErJfPst3HQTBATAqlWqUC4iUgkZhkFcarYzod5dkGTvOpZOcua5e1w3PKWQWcOCJLtS9rh2dWlpMGgQ/PIL7NsHU6ZYHdFFU9ItIi7N7jDYdjTVmWCv3p9IYkZukWu8PW20qhVGp/pmkt2uTjhB7tKrUornk0/gzjvNYixXXaUK5SIiFZzDYXA4OctZyGxXMXpc22xQJyKgoJhZsDPBblAtyH16XLu6xETo3x9WrzZXpt1yi9URlQr96xIRl5Jnd7DlcIpzJnvN/kTSsosOnn7eHrStHU7HehF0qleFNrXD3LtnpZzb++/DmDHm93feCR98AJ769yIiUhHk2x0cTMw8Zc+12ee6OD2uG1YrnLU2l4fXr+bmPa5dXXy82VVk82aoUsUsctqundVRlQol3SJiqew8O5tik51J9roDSWTlFW3hFeTrRfu6hUl2BJfWDMPHSy28pBhefRWefNL8fuxYmDTJLMgiIiIupbDHtbMN17F0dsens+94Brn2MyfXPp4e1K8WSKOoYGeC3SjS7HGtzwkVTGws9OoFu3ZB9epmG8/mza2OqtQo6RaRcmUYBpsOpbBkWzyr9iayMTb5tME0LMCbDnXNBLtTvSpcEh2Ml/pkS0l9+eXJhPvpp+GFF8y1hSIiYpnCHtd7Ek5WCt91LJ0DJ87e49rf2/NkEbOooIIEO5iYcH99PqgM8vOhXz8z4a5dG5YsgYYNrY6qVCnpFpFycTw9h+83HGbm2lh2xqcXeaxqkC+d6p9MshtFBqmFl1y866+Hvn2hZ0944gmroxERcSvpOfnO5eC7E8xZ613H0olNyjx7j2tfL2dfa2ef68ggaoapx3Wl5uUFkyfDY4/B3LkQE2N1RKVOSbeIlJl8u4PlOxKYuTaWpduPkV9wB9vXy4M+zaK4omFVOtaLoF7VQPW0lNJht5vLx2028PU1B2/t3xYRKTMpmXnO2epd8ekFCXYaR87X4zoy+LQEOypEPa7dSn6+mXCDOdPdu3elHbOVdItIqdt9LJ1Z62KZvf4wCWkne1+2igljaLtaDGpVQy04pPTl5cFtt0HNmvDGG2biXUkHbxGR8mQYBicycs2kunC/dUG18FPH+X+KDPY9ZVl4QbVw9bgWgN9+g1Gj4McfoXFj81wlHrOVdItIqUjLzuPnv44yc20s6w8mO89XCfRhcJuaDG0fQ5PqwdYFKJVbdjYMHQo//QTe3maV8kpUgEVEpLxl5dr5dVcCC7bG8cuOBE78o13nqWqG+dOgsMd1YZ/rasGEBugGu5zBokVw7bWQlWXWW/n8c6sjKnNKukXkghmGwap9icxcG8u8zXHOquOeHjZ6NKnGkHYx9GwaqQqiUrbS083Be+lS8POD2bOVcIuIXICUrDyWbT/G/C1x/LIzoUg3EZsNakcE0CgyqCDBDnZ+H6Qe11Jc338Pw4dDbq7Zj/uDD6yOqFzovxARKbGjKVl8u+4Qs9Yd4sCJTOf5+tUCGdY+huvb1CQyxM/CCMVtJCXBgAHw558QFGTOdHfrZnVUIiIVxrG0bBb9Hc/8LXGs3HPCWX8FzBnsfs2r07d5FK1jwtTjWi7OF1/AiBFm/ZUbboAZM8DHx+qoyoWSbhEplpx8O4v+jmfm2kOs2JXgrDwa6OPJoFY1GNo+hra1w1QARcrPsWNm4ZWNGyE8HObPh44drY5KRMTlHTyRyYKtcSzYGse6g0lFqok3igziqhbV6de8Os1rhGhcl9Lxf/8H990HhmEm3h9+eLKImhtwn99URC7I1iMpzFp7iO83HiY5M895vmO9CIa1j2HApdUJ8NFbiVjgzz9h0yaIijL3h116qdURiYi4JMMw2BGfxoIt8czfGse2o6lFHm8VE8ZVzavTr3kU9asFWRSlVFr5+TB9uplwjxkDb79tdhpxI/qkLCKnScrI5YeNh5m59hB/nzIwVw/xY0i7WgxpV4u6VQMtjFAEuOYa+Owz6NDhZOVTERFxMgyD33Yf542FO9kUm+w87+lho1O9COfS8ehQf+uClMrPy8ts4fn55/Dgg2aBADejpFtEALA7DFbsSmDWukMs2hpPrt0BgI+nB32aRzGsfQxXNKyKp4f7vVGKC9m2DUJCzLZgALfcYm08IiIuas3+RF5fsIPV+xIB8PHy4MpG1ejXPIrel0QRHugee2nFIoZhFjjt1cs8joiAhx6yNiYLKekWcXP7j2fwzbpDfLv+EEdTsp3nm0WHMKx9La5tXVMDs7iG9evNPdxVq8Ivv0BkpNURiYi4nM2HUnhj4Q5+2ZkAmMn2rZ3qcF/3BlQLVn9sKQd2O9x7r7lv++23zdltN6ekW8QNZebmM3dzHLPWxrKq4A44QKi/N4Pb1GRIu1q0qBlqYYQi//D772aV8tRUqFsXPFVBV0TkVDvj05i0cCfzt8YB4OVhY2j7GB7s2ZAaYVo+LuUkL88slPbll+a+7UBtRwQl3SJuwzAM1h9MYtbaQ/z011HSc/IBc1tN10bVGNa+Fr0viVI7EHE9ixebfbgzM6FrV7MtWEiI1VGJiFjOMAw2xibz8R/7mbPpCIZhjuuDW9dkbO9G1KmihEfKUXa22YN7zhxzH/cXX8CwYVZH5RKUdItUcsdSs5m94TAz18ayNyHDeb52RADD2tfi+ra1dAdcXNecOTB0KOTmQt++8N13EBBgdVQiIpYxDIOd8en8svMY3204UqQS+YBLq/NI78Y0igq2MEJxSxkZcN115o1yX1/49lu4+mqro3IZSrpFKqE8u4Ol248xa20sy3YkYHeYDTj9vT0ZcGk0Q9vXomPdCDxUFE1c2Zw5cP315t6wwYPNpWq+2o8oIu4nKSOX33Yf59edCazYdZy41JM1WHy8PBh4aTR3XlFPW8PEGnl5Zs2V3383l5P/+CP06GF1VC5FSbdIJbIzPo2Za2L5bsNhTmTkOs+3rR3GsPYxXN0ymmA/bwsjFCmB9u2hTh3o0sXs7+mlIUtE3EO+3cHG2GR+3ZnAL7uO89ehZAzj5OO+Xh5cVr8KPZtGcm3rGoQFqOCpWMjbGwYNgq1bYd48uOwyqyNyOfoEI1LBpWbn8eOmI8xce6hID86qQb7c0LYmQ9vXomGklplJBVSjBqxcaVYr9/CwOhoRkTJ1KCmTX3eas9m/7zlOWnZ+kccbRwXRrXE1rmxcjQ51I1SDRVzLE0+YBdSqV7c6EpekpFukAnI4DP7ce4KZa2OZtyWOnHyzp7aXh42eTSMZ1j6Gbk2q4e2pREUqEMOAl16CBg3gppvMc2oLJiKV3DfrDjFl+W72nFJ3BcyOIlc0qkq3RtXo2rgq0aGqvyIuZP9+ePJJmDYNggsmd5Rwn5WSbpEK5FBSJt+sO8Q36w5xKCnLeb5RZBDDO8RwXZuaVA3SnlepgAzDvEv++uvmMvJ27aBxY6ujEhEpM0eSs3hj4Q5mrz8MgIcN2tQO58pG1biycVVa1grDU7VXxBVt3w69e8Phw2atlU8+sToil6ekW8TFZefZWbA1jllrD/H7nuPOPV3Bvl4Mal2DYe1jaFUrFJtNA7NUUA4HjBkDU6eax6+/roRbRCqtlKw83l++m+m/7ye3YKXa/d0bcE+3BoT6q+6KuLhNm6BPH0hIgGbNYOJEqyOqEJR0i7ggwzDYfDiFmWtjmbPxCKmn7Ovq0qAKw9rH0K95dfx9tJ9LKrj8fLjzTvjsM7O57AcfwOjRVkclIlLqsvPsfLbyAO8u201KVh4AnepFMH7AJbSOCbM2OJHi+PNP6N8fkpOhbVtYsMCsuyLnpaRbxIWcSM/h+41HmLU2lu1xac7zNcP8uaFdLYa2q0VMhHoUSyWRkwM33wyzZ4Onp5l4F+7lFhGpJBwOgx82HeaNBTs5nGxuDWscFcST/ZvSo0mkVqpJxbBsmVmhPCPD7Coydy6EqkVdcSnpFrFYvt3Br7sSmLnmEEu2x5NnN9eP+3h5cFXz6gxrH0OXBlXUU1sqn88/NxNuHx+YNQuuucbqiEREStWKXQm8Mm87W4+kAlA9xI9xfRpzQ7ta2q8tFUduLowaZSbcvXrBDz+Y/bil2JR0i1hkb0I6s9Yd4tt1hziWluM837JWKEPbx3BNyxqEBmhvl1Rid95p9vQcMMAsyCIiUklsOZzCq/O3s2LXccCsw3Jv9wbceXk9bQ2TisfHB+bMgTfeMOuv+PlZHVGFo6RbpByl5+Qz96+jzFwby9oDSc7z4QHeDG5Ti6Hta3FJdIiFEYqUscRECAgwB2ybDSZNsjoiEZFScygpk/8u3Ml3G8yK5N6eNm67rC4P9GxIRKCPxdGJlNDRoxAdbX7fogV8/LGl4VRkSrpFyphhGKzZn8TMtbHM3XyUzFw7YLYG6d4kkmHta9GzaRQ+XuqpLZXc0aNmxdP69eHbb8FbKzlEpHJIzszl3aW7+XTlAXLtZkXya1rV4LG+TahdRbVYpAJ65x2zlefcudC9u9XRVHhKukXKSFxKNt+uP8SstbHsP5HpPF+/aiBD2tfihra1iArR8hxxEwcOmEvId++GpCSzt2fdulZHJSJyUbLz7Hz8x37eX7bb2WmkS4MqjO9/CZfWUpEpqaBefhmeesr8ftEiJd2lQEm3SCnKybezZNsxZq6N5dedCTgKemoH+HgysGU0w9rH0K5OuCqVinvZtcssvBIbaybaS5Yo4RaRCs3uMJi9/hCTF+3kSEo2AE2rB/Nk/6Z0a1xN47xUTIYB//43vPKKeTxhgvklF01Jt0gp+PtIKrPWxfL9hsMkZeY5z3esG8GQ9rW4+tJoAn31n5u4oc2bzSXl8fHQtCksXgw1a1odlYjIBTEMg+U7E3h13nZna88aoX6M69uEwW1qqiK5VFwOB4wdC+++ax6/8QY8+qi1MVUiygJELlByZi5zNh1h5tpYthxOdZ6PCvHlhra1GNKuFvWrBVkYoYjF1qyBfv3M5eStW8OCBRAZaXVUIiIX5K9DyUycu52Ve08AEOLnxZgeDRnRpS5+3qpILhVYfj7cdZdZKM1mMyuU33231VFVKkq6RUrA7jD4ffdxZq6NZeHf8eTmm8VSvD1t9GkWxdD2MXRtWBUvTxVFEyEvz+ztedllMG8ehIVZHZGISIkdPJHJ6wt38OOmIwD4eHowoksdxvRoSFiAKpJLJZGRAZ6e8MkncMstVkdT6SjpFimGgycy+WZdLN+sO+TcuwXm/q1h7WO4rk1NtQIR+acuXWDpUmjWDIK06kNEKpbEjFzeWbqLz/88QJ7dwGaD61rXZFyfxsREqCK5VCJeXvD557B6NVxxhdXRVEpKukXOIivXzrwtR5m19pBzKRmYy8mua1OTYe1jaF4jRMVSRE713XdQpw60bWsed+xobTwiIiWUlWvno9/3MXX5HtJyzIrkXRtV5cn+TWleQxXJpZJIS4P/+z8YNw48PMDHRwl3GVLSLXIKwzDYGJvMzLWH+GnTEedga7PBFQ2rMrR9DH2bRWnvlsiZfPopjBwJERGwdq2ZfIuIVBB2h8E362KZtGgn8ak5ADSLDmH8gKZ0bVTN4uhESlFiIvTvb85sHzsGr71mdUSVnpJuESAhLYfvNhxi5tpD7D6W7jwfE+HP0HYx3NCuFjXD/C2MUMTFvf8+jBljfn/NNVCrlrXxiIgUk2EYLN1+jFfmbWdXwWeAmmH+/KtfE65pVQMPVSSXyiQ+Hvr2hb/+Mm+SDxtmdURuQUm3uLW1+xP5v1/3snT7MewFTbX9vD0Y0CKaIe1rcVm9KhpsRc7ntdfgiSfM7x96CCZPNpeqiYi4uA0Hk5g4bzur9yUCEOrvzYM9G3Jb5zr4emlVm1QysbHQuzfs3AnVq8OiRdCihdVRuQUl3eK2lm6P557P1pFnN5Pt1jFhDGsfw8BW0YT4eVscnUgFYBjw7LPwn/+Yx089BS++aO7HEBFxYfuOZ/D6gu3M3RwHgI+XB3deXo/7ujcg1F+fAaQS2r3bTLgPHIDatWHJEmjY0Oqo3IaSbnE7eXYHkxftZMovezAM6H1JFE9c1YRGUcFWhyZSsUybdjLhfuWVk7PdIiIu6nh6Dm8v2cWMVQfJd5gVyW9oW4txfRpTQ9vIpLLKyYE+fcyEu1EjM+GOibE6KreipFvcyoETGTz01UY2xSYDMLx9DC9e1wIfLy2FFSmxW24xW4wMH35yP7eIiAvKzM3nwxX7+L9f9pCRawege5NqPHFVUy6JDrE4OpEy5usL//2veaN87lxzabmUKyXd4hYMw2D2+sM8+8MWMnLthPh5MfH6llzdMtrq0EQqlvx88PQ0l5AHBsKyZeaxiIgLyrc7+HptLG8u3kVCmlmRvGWtUJ7s35QuDapaHJ1IGcvPN3twA1x/PVx7rcZsiyjplkovMSOXf8/ezPyt5r6tjvUimDy8taqRi5RUdjYMHWr24H7+efOcBm8RcUGGYbDw73hem7+dPQkZgNmR5PF+Tbn60mgVSZXKb9EiePBBWLDgZAtPjdmWUdItldrS7fE8/s1mjqfn4OVh4+Hejbive0M8NdiKlEx6unmHfOlSWLwY7rgD6tWzOioRkdNsOZzCc3O2svZAEgDhAd481KsRt3Sqo+1k4h6+/97c+pWba9ZcmTLF6ojcnpJuqZQycvL5z8/b+HL1QQAaRQYxeXhrWtQMtTgykQooORkGDICVKyEoCH76SQm3iLgch8Pgf7/t47UF28mzG/h5ezDqinrc062BupKI+/jiCxgxAux2uOEGeOstqyMSlHRLJbTuQCLjZm7iwIlMAEZdUY9/9WuCn7eW1IiUWEIC9O0LGzdCeDjMnw8dO1odlYhIEcfTc3hs1iaW70gA4Krm1XnumuZUD/WzODKRcvTBB3DvvWZLzxEj4MMPT+7pFktZvsbmvffeo27duvj5+dGpUydWr159zuvffPNNmjRpgr+/PzExMTzyyCNkZ2eXU7TiynLzHby+YDtDp67kwIlMaoT6MeOuTjwzsJkSbpELcfgwXHmlmXBHRsLy5Uq43ZzGbHFFv+8+Tv+3VrB8RwK+Xh7857oWTLm1rRJucS///S/cc4+ZcN9/P3z0kRJuF2Lp/xNff/0148aNY+rUqXTq1Ik333yTfv36sWPHDiIjI0+7fsaMGTz55JN89NFHdOnShZ07d3LHHXdgs9mYNGmSBb+BuIqd8Wk88vVGth5JBeD6tjV57prmWk4mcjF++QW2bzd7eS5eDI0bWx2RWEhjtriaPLuDNxfv5P3lezAMaBgZxLs3t6FpdbUAEzeTnQ2ffmp+/8QTMHGi2WVEXIbNMAzDqh/eqVMnOnTowLvvvguAw+EgJiaGBx98kCeffPK06x944AG2bdvGkiVLnOceffRRVq1axW+//Vasn5mamkpoaCgpKSmEhOhNuaJzOAw++n0fry3YQW6+g/AAb14efCn9L1UrMJFSMX069Ox5svKplAtXHKs0ZosrOZSUyUNfbmD9wWQAbuoYw7MDm+Pvo5Vt4qbi42H2bLjvPqsjcSvFHacsW16em5vLunXr6N2798lgPDzo3bs3K1euPONzunTpwrp165zL2fbu3cvcuXMZMGDAWX9OTk4OqampRb6kcohLyeaWD1fxn5+3kZvvoEeTaix45Eol3CIXY9MmOHbs5PHIkUq4RWO2uJR5m48y4K0VrD+YTLCvF+/e3IaJ17dUwi3uxW43O4oUiopSwu3CLFtefvz4cex2O1FRUUXOR0VFsX379jM+5+abb+b48eNcccUVGIZBfn4+9957L//+97/P+nMmTpzI84X9ZKXSOHgik5um/cnh5CwCfDx5+upm3NQxBpuW0ohcuD/+MKuU16sHy5ZBWJjVEYmL0JgtriA7z84LP/3NjFVmZ5LWMWG8c1MbYiICLI5MpJzl5ZmtO2fMMPdujxxpdURyHpYXUiuJ5cuX8/LLL/P++++zfv16Zs+ezc8//8yLL7541ueMHz+elJQU51dsbGw5RixlYfexdIb+3x8cTs6iXtVA5j7UlZs71VbCLXIxliwxq5SnpJhtwfTfk1wkjdlSmnbGp3Htu787E+77ujdg1r2dlXCL+8nJgaFDzYTbywsC9N9ARWDZTHfVqlXx9PQkPj6+yPn4+HiqV69+xuc888wz3HbbbYwePRqASy+9lIyMDO6++26eeuopPDxOv4fg6+uLr69v6f8CYoltR1O57X+rOJ6eS+OoID4f3YnIYFUnFbkoP/5oDuA5OWbiPXs2BAZaHZW4EI3ZYhXDMPhqTSzP/7iV7DwHVYN8mTy8FV0bVbM6NJHyl5EBgwfDokXg6wvffAMDB1odlRSDZTPdPj4+tGvXrkiBFYfDwZIlS+jcufMZn5OZmXnaIO3pae7fsbAenJSTvw4lc+MHf3I8PZcWNUP46u7OSrhFLtZXX8H115sJ9+DBMGeOEm45jcZssUJKVh4PzNjA+Nmbyc5z0LVRVeaN7aqEW9xTSgr062cm3IGBMHeuEu4KxNKWYePGjWPEiBG0b9+ejh078uabb5KRkcHIgn0Jt99+OzVr1mTixIkADBo0iEmTJtGmTRs6derE7t27eeaZZxg0aJBzIJfKae3+REZOX0NaTj5ta4cxfWRHQv3VDkzkonz1Fdx8s9nT89ZbzUrl6ukpZ6ExW8rT+oNJPPTlBg4lZeHlYeNf/ZpwV9f6eHho64u4oawss5PI+vVmvZV58+Cyy6yOSkrA0k9Xw4cPJyEhgWeffZa4uDhat27N/PnznYVaDh48WOQu+dNPP43NZuPpp5/m8OHDVKtWjUGDBvHSSy9Z9StIOfh993FGf7KWrDw7l9WP4H8jOhDoq8RA5KJddhnUrAlXXw3vvw9nWO4rUkhjtpQHu8PgvWW7eWvJLuwOg5gIf96+sQ1taodbHZqIdfz9zUKnsbGwcCG0bm11RFJClvbptoJ6flYsS7fHc+/n68nNd9CtcTX+77Z2+HlrhkSk1MTFmW1GVDjNpWisMunv4F4OJWXyyNcbWbM/CYBrWtXgP4NbEOKnlW0iGIbZi/ssdTTEGi7fp1vkfOZtPso9n60jN99B32ZRfHC7Em6Ri2IY8OST8P33J89Vr66EW0QsN2fTEfq/tYI1+5MI8vVi0rBWvHVjayXc4r62b4ebboLMTPPYZlPCXYFpja64HLvD4NOV+3nxp79xGDCoVQ0mDWuFt6fuEYlcMIcDxoyBqVPNiqe7dkFMjNVRiYibS8/JZ8IPW/l2/SEA2tQO463hbahdRW2QxI1t2gR9+kBCAkREwHvvWR2RXCQl3eJSthxO4anvt7ApNhmAYe1rMfH6lniqcIrIhcvPhzvvhM8+M++Uv/OOEm4RsdyGg0k8/PVGDpzIxMMGD/RoyIO9Gukmu7i3P/+E/v0hORnatIHnnrM6IikFSrrFJaTn5DN50U6m/74PhwFBvl78q18TbrusjiqVilyMnByzQvns2eDpaSbeN91kdVQi4sbsDoMpy3czebFZLK1mmD+Th7emY70Iq0MTsdayZTBokNmPu0sX+Plns1q5VHhKusVShmGwYGscz835m7jUbAAGtozmmYHNiApRD26Ri5KZafbgXrAAfHxg5ky49lqroxIRN3Y4OYtHvt7I6n2JgDnmvzT4UrUBFZk7F264AbKzoVcv+OEHsx+3VApKusUysYmZPDdnK0u2HwOgdkQAL1zbnO5NIi2OTKSS+OADM+EOCDCLp/XpY3VEIuLGfv7rKONn/0Vqdj6BPp48f20LbmhbE5uKOYq7y8yEUaPMhHvQIPMmuZ8mnyoTJd1S7vLsDj5csY+3luwkO8+Bt6eNe65swAM9G6o6uUhpeugh2LkTbrkFLr/c6mhExE1l5OTz3JytzFpnFktrFRPGW8NbU7eqZvFEAPPm+I8/mjfL33sPvLXyo7JR0i3lakdcGg99uYEd8WkAdKoXwUuDW9AwMtjiyEQqiYQEc/+Xtzd4eMD771sdkYi4sU2xyYz9agP7T2Ris8GY7g0Z21vF0kQAOHoUoqPN79u3N7+kUtI7npSb7Dw7936+jh3xaYQHePPG0FZ8dfdlSrhFSsuBA2bhldtvB7vd6mhExI3ZHQbvLdvNDVP+YP+JTKJD/fjyrst4rF8TJdwiABMnQuPGsGqV1ZFIOdBMt5Sb95fvYd/xDCKDfZk3titVgnytDkmk8ti1yyy8Ehtrtgg7duzk3XMRkXJ0pKBY2qqCYmlXXxrNy4MvJTRAS2ZFMAz497/hlVfM42XLoFMna2OSMqekW8rF7mPpTF2+B4AJg5or4RYpTZs3m0XS4uOhSRNYvFgJt4hYYu7mo4yfvZmUrDwCfDx57prmDG1XS8XSRAAcDhg7Ft591zx+/XV47DFrY5JyoaRbypxhGDz13WZy7Q56NKnGgEurWx2SSOWxejVcdRUkJUGrVrBwIUSqA4CIlC+7w+CZH7YwY9VBAFrWCuWtG9tQT8XSREz5+XDXXfDxx2CzwZQpcM89Vkcl5URJt5S5b9cfZtW+RPy8PXjh2ha62y1SWn79Fa6+GtLT4bLLzB6f4eFWRyUibsYwDF786W9mrDqIzQb3dWvAI30aa++2SKHcXLOTyDffgKenmXjfeqvVUUk5UtItZSoxI5eXfv4bgId7NyYmIsDiiEQqkfx8yMuDHj1gzhwICrI6IhFxQ//7bR8f/7EfgLdubMM1rWpYG5CIK8rKAh8f+OorGDzY6miknCnpljL12vztJGXm0bR6MKOuqGd1OCKVS8+eZgGW1q3B39/qaETEDc3bfJSX5m4DYHz/pkq4Rc7ExwdmzYKNG6FzZ6ujEQto3Y+UqbmbjwLw7MBmWmYmUhq+/BL+/vvkcefOSrhFxBLrDiTx8NcbMQy47bI63H1lfatDEnEdSUkwebJZrRzMsVoJt9vSTLeUmew8O6nZ+QA0rxlqcTQilcCUKXD//WZl8vXrobqKEoqINfYdz2D0J2vIyXfQq2kkEwY1U80WkULx8dC3L/z1F6SlwbPPWh2RWExTj1JmZq6NBaBqkC8hfrq/I3JRXn/dTLgBhg5VhXIRsUxiRi4jp68mKTOPS2uG8s7NbfDSajYRU2wsXHmlmXBXrw7XX291ROIC9A4pZSIlM49Ji3YCMLZ3I939FrlQhgHPPAOPP24eP/UUvPkmeOjtW0TKX3aendGfrGH/iUxqhvnzvzvaE+CjG+siAOzZA127ws6dULs2rFgBLVpYHZW4AL1LSpl4c8lOkjPzaBIVzE0dYqwOR6RiMgwYN85MsgEmToQnn7Q0JBFxXw6HwSNfb2T9wWRC/Lz45M4ORAb7WR2WiGv4+2/o3RuOHoVGjWDxYjPxFkFJt5SB3cfS+WzlAQCeGdhMS85ELtSkSScT7nffhTFjLA1HRNzby3O3MW9LHD6eHnxwe3saRgZbHZKIa0hPNzuKxMfDpZfCwoWquyJFKBuSUvfSz3+T7zDofUkUVzSqanU4IhXX6NHQsSN8/LESbhGx1PTf9/Hhb/sAeH1oSy6rX8XiiERcSFCQWXulUydYvlwJt5xGM91SqpbvOMayHQl4e9p46upLrA5HpOLJzwevgrfm0FD44w/w9LQ2JhFxawu2xvHCT2arwn/1a8K1rWtaHJGIizh1zL7tNrj5Zo3Zckaa6ZZSk2d38GLBoHxHl7rUqxpocUQiFUx6Olx1FbzxxslzGrxFxEIbDiYx9qsNGAbc1LE293dvYHVIIq7hhx+gdWtzD3chjdlyFkq6pdR88ecB9iRkEBHowwM9G1kdjkjFkpxs9vRcsgReeAHi4qyOSETc3IETGYz+ZC3ZeQ56NKnGi9c2VzcSEYAZM+CGG2DrVpg82epopAJQ0i2lIikjl8mLdwHwaN/GhPp7WxyRSAWSkAA9esDKlRAeDosWaT+YiFgqKSOXkdPXcCIjl+Y1Qnj35rYqjCoC8MEHcOutYLfD7bfDyy9bHZFUAHr3lFLx5uKdpGTl0bR6MDd2UHsEkWI7fBiuvBI2boTISLMAS6dOVkclIm4sO8/OXZ+uZe/xDGqG+fPRHR0I9FUZIBH++1+45x6zpef998P06Sf3dIucg5JuuWi74tP4fNVBAJ4d2AxPDy09EymWvXuha1fYvh1iYmDFCmjZ0uqoRMSNORwGj87axNoDSQT7eTF9ZAeiQtSLW9ycYcBzz8Fjj5nHTzxhtvL0UColxaN/KXJRDMPgxZ+3YXcY9G0WRZeGahEmUmxLlsC+fdCggZlwN25sdUQi4uZenb+dn/86irenjf+7tR2No9SLW4T0dPjyS/P7l16CV14B1TeQEtB6CLkoy3Yc49edahEmckHuusu8ez5oEERHWx2NiLi5GasO8n+/7gXg1Rta6ka6SKHgYFi8GBYuhFGjrI5GKiDNdMsFy7M7+M9P2wC48/J61KmiFmEi57V2rVmpvNDddyvhFhHLbY9L5bkftwIwrk9jrm9by+KIRCyWl2fWWSkUE6OEWy6Ykm65YJ+uPMDe4xlUDfLhgZ4NrQ5HxPUtXQrdu0P//uZSNRERF5CdZ+ehLzeQm2+2BntQY7q4u5wcGDoUevWCWbOsjkYqASXdckESM3J5a/FOAB7r24RgP7UIEzmnn36CAQMgI8Ncpqa9YCLiIibO3cbO+HSqBvny+tBW6sUt7i0jw9z29cMP4O0NfiokKBdPSbdckMmLdpKanc8l0SEMbR9jdTgiru3rr2HwYPPO+XXXwY8/QqC2Y4iI9ZZsi+eTlQcAeGNoS6oG+VockYiFUlLgqqtg0SJznP75ZzMBF7lISrqlxHbEpfHFKnOAVoswkfP43//gppsgPx9uuQVmzgRffagVEesdS8vmX9/8BZi1Wbo3ibQ4IhELHT9uLif/7TcIDTUT7169rI5KKglVL5cSMQyDF3/6G4cBVzWvTucGVawOScR1/e9/MHq0+f0998D776unp4i4BIfD4LFZf5GYkcsl0SE80b+J1SGJWCc1Fbp1g7//hmrVzCrlrVtbHZVUIkq6pUSWbDvGb7uP4+Ppwb8HqEWYyDldcQVERsJtt8Hrr2sft4i4jOl/7OfXnQn4ennw9o2t8fXytDokEesEB0OfPmZ3kSVLoGlTqyOSSkZJtxRbbr6Dl+aaLcJGda1H7SoBFkck4uKaNIFNmyAqSgm3iLiMrUdSeHXedgCeGdiMRlHBFkckYjGbDSZPhvHjzTFbpJRpnaMU2yd/7Gff8QyqBvkypofaiYicxuGAhx82l6UVql5dCbeIuIzfdh3nxg/+JNfuoE+zKG7pVNvqkESs8ddf5kq0nBzz2GZTwi1lRjPdUiwn0nN4e8kuAB7v14QgX/3TESkiPx9GjYJPPzX3cu/da+4LExFxEZm5+Tw6ayNp2fnUqRLAqze0VHswcU+rVplVypOToWZNeOUVqyOSSk6ZkxTLfxftJC0nn+Y1QrihXS2rwxFxLTk5cPPNMHs2eHrC//2fEm4RcTnTft1HfGoONcP8mftQVwJ1A13c0fLlZhuw9HTo3BmefNLqiMQN6N1Wzmvb0VS+Wn0QgAmDmqtFmMipMjPhhhtg/nzw8TFbgl17rdVRiYgUcTQli6m/7AFg/ICmSrjFPc2da47Z2dlmO7Dvv4egIKujEjegPd1yToZh8MKPZouwqy+NpmO9CKtDEnEdqanQv7+ZcAcEwE8/KeEWEZf0n5+2kZVnp12dcK6+NNrqcETK36xZcN11ZsI9aJA5ZivhlnKipFvOaeHf8azcewIfLw+e7K/2CSJFvPUW/PorhISYxdP69LE6IhGR06zYlcDPm4/iYYMXrm2ufdzifpKT4Z57IC8PbrwRvv0W/PysjkrciNYWyVnl5Nt5uaBF2F1d6xEToRZhIkWMHw8HD8J990HbtlZHIyJympx8OxN+2ArA7Z3r0rxGqMURiVggLAzmzIGvv4Y33zTrr4iUIyXdclYf/76fAycyiQz25f7uahEmAkB8PFStag7YXl4wbZrVEYmInNWHK/axt6Dd5yN9Glsdjkj5OnoUogu2U1xxhfklYgEtL5czSkjL4Z2luwF4/CoVXBEBYNcu6NgR7r0XDMPqaEREzsnuMJiy3Cye9ni/JoT6e1sckUg5MQz497+heXOzH7eIxZR0yxn9d+EO0nPyaVkrlOvb1LQ6HBHrbd4MXbuay8l//RUSE62OSETknGatjSU9J59gXy+uaV3D6nBEyofDAWPHwsSJkJQEK1ZYHZGIlpfL6bYeSeHrtbEAPDuwGR5qESbubs0auOoqM9Fu1cosmlalitVRiYicVUpWHq8v2AHA2N6N8PPWHlZxA3Y7jB4NH38MNhu8/765Ok3EYkq6pYjCFmGGAYNa1aB9XbUIEzf3668wcCCkpUGnTjBvHoSHWx2ViMg5vbNkFycycmlQLZARXepaHY5I2cvNhVtvNVuDeXqaifett1odlQigpFv+Yf6WOFbtS8RXLcJEYMECGDwYsrKgRw/44QcIDrY6KhGRc9p9LJ2P/9gPwLODmuPtqd2EUsllZcGQITB3Lnh7m1XKBw+2OioRJ70Li1N2np2X55ktwu65sj41w/wtjkjEYnl55tfVV8PPPyvhFhGXZxgGL/70N/kOg15NI+nWuJrVIYmUj6ws8PeHH39Uwi0uRzPd4vTR7/uITcwiKsSXe7o1sDocEesNHAjLlpkVy318rI5GROS8lu04xi87E/D2tPH0wGZWhyNSPvz9zdVo27aZY7aIi9FMtwBwLDWb9wpahD2hFmHizqZPhz17Th5fcYUSbhGpEHLzHbz4k7li7c4r6lGvaqDFEYmUofh4ePvtky08g4OVcIvLUmYlALyxcAcZuXZaxYRxXWu1CBM39frr8PjjUKcOrF8PESokKCIVx7wtR9l3PIOqQT482LOR1eGIlJ3YWOjdG3buNCuWP/KI1RGJnJNmuoUth1OYte4QoBZh4qYMA555xky4AW65RRXKRaTC+fzPAwDcelkdgrRiTSqrPXuga1cz4a5d29wKJuLi9I7s5gzD4Pkft2IYcG3rGrSro0RD3IxhmHfI33rLPJ44EZ580tqYRERKaHtcKmv2J+HpYePGDrWtDkekbGzdCn36wNGj0KgRLF5sJt4iLk5Jt5ubuzmONfuT8PP24Imr1CJM3IzdDvfcA//7n3n87rswZoy1MYmIXIAv/jwIQJ9Loqge6mdxNCJlYN066NcPTpyASy+FhQuhenWroxIpFiXdbiw7z87LcwtbhDWghlqEibt58UUz4fbwgI8+ghEjrI5IRKTEMnLy+W7DYQBu61zH4mhEykBiormHOzkZOnSA+fNVd0UqFO3pdmMfrtjL4eQsokP9uFctwsQdPfggtGkDX3+thFtEKqzvNx4mPSef+lUD6dKgitXhiJS+iAh45RXo1s1cUq6EWyoYzXS7qWOp2by/3GyL9GT/pvj7eFockUg5yc8Hr4K3vipVYM0a8NS/fxGpmAzD4POCpeU3d6qNzaZiqFKJnDpm33MPjB6tMVsqJM10u6l3lu4mM9dO65gwrmlVw+pwRMpHcrJ5l3zq1JPnNHiLSAW2/mAy246m4uvlwZB2tawOR6T0fPkltG8Px4+fPKcxWyooy5Pu9957j7p16+Ln50enTp1YvXr1Oa9PTk5mzJgxREdH4+vrS+PGjZk7d245RVs5HErK5Ks15l3xJ65qqrvi4h4SEqBnT/jjD3jqKUhKsjoikQpHY7br+aKgTdigVjUIC/CxOBqRUjJtmtm+c9MmmDLF6mhELpqly8u//vprxo0bx9SpU+nUqRNvvvkm/fr1Y8eOHURGRp52fW5uLn369CEyMpJvvvmGmjVrcuDAAcLCwso/+ArsnSW7ybMbXN6wCp2190vcweHDZouRbdsgMhIWLVIfbpES0pjtehIzcvlp81HA7M0tUilMmgSPPmp+f9995o1ykQrO0qR70qRJ3HXXXYwcORKAqVOn8vPPP/PRRx/x5Bn65H700UckJibyxx9/4O3tDUDdunXLM+QKb9/xDL5ZfwiAcX2aWByNSDnYtw969TL/t1YtswBLE/3bFykpjdmuZ9baWHLzHbSoGUKrWqFWhyNycQwDXngBnnvOPH78cbN4mlZkSiVg2fLy3Nxc1q1bR+/evU8G4+FB7969Wbly5RmfM2fOHDp37syYMWOIioqiRYsWvPzyy9jt9vIKu8J7a/FO7A6DHk2q0a6OZvqkktu2Da64wky4GzSAFSuUcItcAI3ZrsfhMJix2twqdmunOtoqJhWbYcC//nUy4f7Pf5RwS6Vi2Uz38ePHsdvtREVFFTkfFRXF9u3bz/icvXv3snTpUm655Rbmzp3L7t27uf/++8nLy2PChAlnfE5OTg45OTnO49TU1NL7JSqYXfFp/LDpCKBZbnET8+bBkSPQvLm5pDw62uqIRCokjdmuZ8Xu4xw4kUmwnxfXtFZBVKngEhPhm2/M7998E8aOtTQckdJWoVqGORwOIiMj+eCDD/D09KRdu3YcPnyY119//awD+MSJE3n++efLOVLXNHnxTgwDrmpenUu1DE3cwSOPgI8P3HgjVK1qdTQibkVjdtma/vs+AG5oW4sAnwr1cU7kdFWqwJIlsHIl3Hqr1dGIlDrLlpdXrVoVT09P4uPji5yPj4+nevXqZ3xOdHQ0jRs3xvOUdgGXXHIJcXFx5ObmnvE548ePJyUlxfkVGxtber9EBbL1SApzN8dhs8EjfRpbHY5I2Vm5EtLSzO9tNnjgASXcIhdJY7ZrWXcgieU7EvCwqYCaVGA5OfDrryePGzRQwi2VlmVJt4+PD+3atWPJkiXOcw6HgyVLltC5c+czPufyyy9n9+7dOBwO57mdO3cSHR2Nj8+Z22T4+voSEhJS5MsdTV60E4BBLWvQpHqwxdGIlJGffoIePeDaayEry+poRCoNjdmu5a0luwAY2i6GhpFBFkcjcgEyMmDQILPQ6U8/WR2NSJmztE/3uHHjmDZtGp988gnbtm3jvvvuIyMjw1kZ9fbbb2f8+PHO6++77z4SExMZO3YsO3fu5Oeff+bll19mzJgxVv0KFcKGg0ks3nYMDxs83LuR1eGIlI2vv4bBg80756Gh4GHp25tIpaMx2zWsP5jErzsT8PKwMaZHQ6vDESm5lBS46iqz1oqvLwQEWB2RSJmzdBPQ8OHDSUhI4NlnnyUuLo7WrVszf/58Z6GWgwcP4nHKB+eYmBgWLFjAI488QsuWLalZsyZjx47liSeesOpXqBAmFcxyX9+2FvWr6Y64VEIffQSjR5vVT2+5BaZPh4IWRSJSOjRmu4a3Fpuz3Ne3rUntKkpWpII5ftxMuNetM2+Qz5sHZ1ktI1KZ2AzDMKwOojylpqYSGhpKSkqKWyxbW7X3BMM/+BMvDxvLHutOTIQGaKlk3n77ZJXTe+6B99/XLLdUeO42Vp2N/g5FbTiYxOD3/8DTw8ayR7sr6ZaK5ehR6NMHtm6FatVg4UJo3drqqEQuSnHHKX0yrcQMw+C/C81Z7uEdYpRwS+Xz1lsnE+5HH4UpU5Rwi0ilVbiX+/o2muWWCub4ceja1Uy4a9Y0C6gp4RY3oh4Tldhvu4+zen8iPl4ePNBT+76kEureHcLCzNZgzzxjVisXEamENsYms3xHAp4eNo3pUvFUqWKO2Q6H2RqsXj2rIxIpV0q6K6lTZ7lv6VSb6FB/iyMSKQOtWsG2bXCWlkUiIpXF2wWz3IPb1KROlUCLoxEpIZsN/u//IDHRXFou4ma0DrOSWrr9GBtjk/H39uS+7g2sDkekdOTnw333wW+/nTynhFtEKrlNscks3X7MnOVWxXKpKFavhjvvNMduAE9PJdzitjTTXQk5HCdnuW/vUofIYD+LIxIpBbm5cPPN8O23MHMm7NsHKqwkIm6gcJb72tY1qFtVs9xSAfzyCwwcCOnp0KABPPWU1RGJWEpJdyW0YGscfx9NJcjXi3uv1Cy3VAKZmXDDDTB/Pvj4wP/+p4RbRNzCX4eSWbL9GB42eLBnI6vDETm/efPg+ushOxt69jxZ8FTEjWl5eSVjdxjOvtx3XlGP8EAfiyMSuUipqdC/v5lwBwTATz/BdddZHZWISLkonOW+rnVN6mmWW1zdN9/AtdeaCfegQfDzzxAUZHVUIpZT0l3J/LjpCLuOpRPi58WoK1QZUiq4xETo3dtsLRISAgsWmD0+RUTcwOZDKSzeZs5yq2K5uLxPPoHhwyEvz/zfb78FP21xFAEl3ZVKvt3Bm4vNWe57ujUg1N/b4ohELtIrr8CaNWarkaVL4YorrI5IRKTcvOXcy12T+tU0WyguLD4exowxW4KNGgVffAHe+hwqUkh7uiuR2esPs/9EJhGBPtzRpa7V4YhcvBdfhGPH4F//gubNrY5GRKTcbDmcwuJt8ZrlloohKgpmz4ZFi+C118wWYSLipKS7kjAMg49+3wfAvd3qE+ir/2ulgjp61By8PTzA1xc+/tjqiEREyl3hLPc1rWrQQLPc4ooMwxyza9Qwj/v2Nb9E5DRaXl5JbD6cwva4NHy8PBjevrbV4YhcmM2boU0bGDfOHMxFRNzQlsMpLPo7HpsNHlDFcnFFDodZlbx1a9ixw+poRFyeku5K4qs1sQD0b1Gd0ADtoZEKaO1a6N7d3Be2bJnZ21NExA29fcosd8NIzXKLi7HbzX3b77wDCQnw559WRyTi8pR0VwKZufn8uPEIAMPbx1gcjcgFWLHC7OWZmAidOplJd3Cw1VGJiJS7rUdSWFgwy/2g9nKLq8nNhZtuMrd+eXjAp5/CiBFWRyXi8rTxtxKYuzmOtJx8akcEcFn9KlaHI1IyCxbA4MGQlWXOdM+Zo4RbRNxW4Sz3wJY1aBip90JxIVlZMHSo2Xvb2xu++gquv97qqEQqBCXdlcDMgqXlw9rXwsND1SKlAvnuu5M9PQcMgG++AX9/q6MSEbHE30dSWbDVnOV+SLPc4krS0uDaa82VaH5+5vh91VVWRyVSYWh5eQW3JyGd1fsT8bDBkHZaWi4VTG6uuTdsyBBzAFfCLSJurHCW++pLo2kUpVlucTFZWeZKtAULlHCLlJBmuiu4mWvNWe7uTSKpHupncTQiJTR8OERHQ5cu4KW3IxFxX9uOpjJ/a5w5y91LFcvFxQQHw9y5sH+/2WVEREpEM90VWJ7dwbfrDgMwTAXUpKKYOhViY08eX3mlEm4RcXvvLDVnuQdcGk1jzXKLKzh0yByzC4WHK+EWuUCllnTPnj2bli1bltbLSTEs3X6M4+k5VA3yodclkVaHI3JuhgHPPgv33Qe9e6slmIiFNGa7lu1xqczdHAfAQ+rLLa5gzx7o2tUcs6dNszoakQqvREn3//3f/zFkyBBuvvlmVq1aBcDSpUtp06YNt912G5dffnmZBClnVlhA7Ya2tfD21KIFcWGGAePGwYsvmsd33AFB6j0rUpY0Zlcc7yzZDZh7uZtU1yy3WOzvv82Ee/9+aNgQ+va1OiKRCq/Ymdorr7zCgw8+yP79+5kzZw49e/bk5Zdf5pZbbmH48OEcOnSIKVOmlGWscoq4lGyW7TgGwLAOWlouLsxuh7vvhjffNI/ffhvGj7c0JJHKTmN2xbEjLo2fNx8F4MFeqlguFlu/3tz2dfQotGgBv/4KdepYHZVIhVfsjZTTp09n2rRpjBgxghUrVtCtWzf++OMPdu/eTWBgYFnGKGfw7fpDOAzoUDecBtU0YyguKi8Pbr/d7OXp4QEffggjR1odlUilpzG74ni7YC93/xbVaVo9xOJoxK39/rvZvjM1Fdq3h/nzoUoVq6MSqRSKnXQfPHiQnj17AtC1a1e8vb15/vnnNXhbIM/uYMaqg4AKqImLe/JJM+H28oIZM2DoUKsjEnELGrMrhp3xacwtmOVWxXKx1NGj0K8fZGSYS8t/+glCdBNIpLQUe3l5Tk4Ofn4nW1L5+PgQERFRJkHJuX234TCHk7OoGuTLoFY1rA5H5OweewwuvRR++EEJt0g50phdMby9ZBeGAVc1r84l0UpwxELR0fDcc2biPX++Em6RUlaiPj3PPPMMAQEBAOTm5vKf//yH0NDQItdMmjSp9KKT09gdBlOW7wHgrq718PP2tDgikX/Izz/ZAiw6GjZsAE/9OxUpbxqzXduu+JN7uTXLLZY5dcx+7DF45BGN2SJloNhJ95VXXsmOHTucx126dGHv3r1FrrHZbKUXmZzRz5uPsu94BmEB3txymQpbiItJSID+/eHhh+HWW81zGrxFyp3GbNf3ztLdGAb0ax5FsxqaVRQLfPih2Q5s4UIovCGnMVukTBQ76V6+fHkZhiHF4XAYvL/MbCsysks9gnxLtFBBpGwdOWL23962DZ54AgYPBu0fFbGExmzXlpmbz/wtZl/uB3pollssMHmy2coTYPp082a5iJSZEmVtqamprFq1itzcXDp27Ei1atXKKi45gyXbj7E9Lo0gXy/u6FLX6nBETtq3z0y49+6FWrVg8WIl3CIW05jtutbsTyLX7qBmmD8tamqWW8qRYcCLL8KECebx44/D2LHWxiTiBoqddG/cuJEBAwYQF2femQ0ODmbmzJn069evzIKTkwzD4N2CWe7bOtchNMDb4ohECmzfbibchw9DgwZmwl23rtVRibg1jdmu7bddCQBc3rCKlvlL+TEMM8l+4w3z+D//gX//G/RvUKTMFbt6+RNPPEG9evX4/fffWbduHb169eKBBx4oy9jkFL/tPs6m2GT8vD0YdUU9q8MRMW3cCFdeaSbczZrBr78q4RZxARqzXdtvu08AcHnDqhZHIm7D4YD77juZcE+eDE89pYRbpJwUe6Z73bp1LFy4kLZt2wLw0UcfERERQWpqKiFqK1Dm3l1qznLf2KE2VYN8LY5GpMAPP5jF09q2hQULoKo+QIq4Ao3Zris+NZttR1MBJd1SjuLiYM4cM8meNg1GjbI6IhG3UuykOzExkVq1ajmPw8LCCAwM5MSJExrAy9ja/Yms2peIt6eNe7rVtzockZOefRbCwuCOO05WPhURy2nMdl0zVh0EoH2dcN1El/JTo4a5/WvrVhg61OpoRNxOiQqp/f333879YWDuM962bRtpaWnOcy1btiy96ATAuZd7SLtaRIf6WxyNuL0VK6B9e/D3N++YqwCLiEvSmO16cvMdzFhtJt23qyCqlLWMDHMb2OWXm8fNmplfIlLuSpR09+rVC8MwipwbOHAgNpsNwzCw2WzY7fZSDdDdbTmcwvIdCXjY4N5uDawOR9zd11+b/bf79YPZs8HHx+qIROQsNGa7nvlb40hIyyEy2Jermle3OhypzFJSYOBAWLMG5s6Fnj2tjkjErRU76d63b19ZxiFn8V7BLPc1rWpQp4paMImFPvoI7rrLLMYSGqriKyIuTGO2a/r0j/0A3NypNj5exa5lK1IyJ06YN8fXrTPHa3+tkhSxWrGT7k8++YTHHnuMgICAsoxHTnEiPYeFf8cDcF/3hhZHI27t7bdPLiO/+254/33w9LQ2JhE5K43ZrmfL4RTWHkjCy8PGzR1rWx2OVFZHj0KfPube7apVYeFCaNPG6qhE3F6xb7M+//zzpKenl2Us8g9zNx/F7jBoWSuUJtWDrQ5H3JFhwEsvnUy4H30Upk5Vwi3i4jRmu55PV+4HoP+l0USG+FkbjFROBw5A165mwl2jhtnGUwm3iEsodtL9z31hUvZ+2HgEMJeWi1jipZfg6afN7597Dl5/XcvKRSoAjdmuJTkz1zmmj+hcx+JopFI6csRMuPfsgXr1zKKnl1xidVQiUqBEG4ps+rBdbmITM1l7IAmbDQYp6Rar9OkDwcHwxhswYYISbpEKRGO261j0dzw5+Q6aVg+mXZ1wq8ORyigqyqxS3rSpmXDXV4tZEVdSourljRs3Pu8gnpiYeFEBienHv8w74pfVq0KUlqGJVTp1gp07obqq7IpUNBqzXcfynQkA9G0WpZshUjY8PeHTTyE1FapUsToaEfmHEiXdzz//PKGhoWUVi5xiwVazgNo1rTXLLeUoNxfuvRfuv9/sxQ1KuEUqKI3ZriHf7mBFQdLdrUmkxdFIpfLLL/DVV/Dee+DhAd7eSrhFXFSJku4bb7yRyEgNGOVh//EMANrUDrM2EHEfWVlwww0wbx4sWAC7d6vNiEgFpjHbNWyITSY1O5+wAG9ax4RZHY5UFvPnw+DBkJ1t7t1+6CGrIxKRcyj2nm4thyo/mbn5pGTlARAdqqRHykFaGvTvbybc/v4wfboSbpEKTGO261i2/RgA3RpXw9ND/79IKfj2W7jmGjPhHjjQbOUpIi5N1ctd0JHkbACCfL0I8SvRYgSRkktMhN69zWVqISFmT8++fa2OSkQugsZs17F8h7m0vHuTahZHIpXCJ5/AsGGQlwfDh8Ps2eCn2j8irq7YGZ3D4SjLOOQUR1OyAIgO9dNshZSt+HizQvnmzeY+sAULoF07q6MSkYukMds1xKdm8/fRVGw2uLKRkm65SO+/D2PGmN/feSd88IFZQE1EXF6JWoZJ+ThaMNMdHablvVLGnnvOTLirVzdnupVwi4iUml8KZrlb1gqjSpCvxdFIhXbgADzyiPn92LEwbZoSbpEKRGuXXdCRgpnuGqFaLiRl7L//NfdzP/ccNGxodTQiIpXKsh3mfu4eWlouF6tOHfj6a9iwwRyztRJSpEJR0u2CNh9KAaBu1UCLI5FK6cgRiI42B+yAAPj8c6sjEhGpdPLsDn7bdRyA7moVJhfC4TC3gUVHm8fXXWd+iUiFo+XlLiY7z84fe04A0LVRVYujkUpn7Vq49FJ49lmrIxERqdTWHUgiLSefKoE+tKypfulSQnY7jB4NHTvC/v1WRyMiF0lJt4tZsz+RrDw7kcG+NIsOsTocqUxWrICePc1q5YsWma1GRESkTBS2CruycTU81CpMSiI3F26+2WzfeeSIecNcRCo0Jd0uprDoSrfG1VS5XErPwoXQr5+5f7t7dzPpVosREZEykWd38N2GwwD0aRZlcTRSoWRlwfXXw8yZ4O0Ns2bBkCFWRyUiF0l7ul3M8p2F/Ty1/0tKyXffwY03mnfO+/eHb78Ff1XGFxEpK4v+judYWg5Vg3zpfYmSbimm9HS45hpYtsy8Mf7dd3DVVVZHJSKlQDPdLiQuJZvdx9LxsMEV2s8tpeHzz2HoUDPhHjIEvv9eCbeISBn7/M8DAAzvUAsfL33UkmJISoI+fcyEOzgYFixQwi1SiWgkcCHb4lIBaBgZRKi/t8XRSKWQn28WY7njDvjyS/DxsToiEZFKbU9COn/sOYHNBjd1rG11OFJR2GxmrZXwcFiyBK680uqIRKQUaXm5C1m7PxGAptVVQE1KyR13QL160LUreOgem4hIWZux6iAAPZtEUis8wOJopMIICzPrr8THQ4sWVkcjIqVMn8JdyMKt8QD0bKr93HKBDAPeeccctAt166aEW0SkHGTn2flm3SEAbr2sjsXRiMvbuxc++ujkcbVqSrhFKil9EncRexPS2XUsHS8PGz2UdMuFMAx47DF46CHo2xdycqyOSETErfy46QgpWXnUCvfnysbVrA5HXNm2beYqtFGjzO1fIlKpaXm5i1j4tzkz2blBFe3nlpKz2+G++2DaNPN41Cjw9bU2JhERN/N5wdLymzvVxlO9ueVsNmwwb44fPw7Nm5utPEWkUlPS7SIWbo0DoK/6eUpJ5eWZe7dnzDCXkU+bBnfeaXVUIiJuZcvhFDbFJuPtaWNY+xirwxFX9ccfMGAApKRA+/Ywfz5UqWJ1VCJSxpR0u4BjqdlsiE0GoE+z6tYGIxVLdrbZg/uHH8DLC774AoYNszoqERG3892GwwBc1SKaqkFaaSRnsHgxXHstZGaaS8t/+glCVDxXxB0o6XYBi7bFYxjQKiaM6qF+VocjFclDD5kJt68vfPstXH211RGJiLilbUfNtp9XNqpqcSTikvbuhYEDzXorffvCd99BgKrbi7gLFVJzAYVVy7W0XErsqaegWTOYN08Jt4iIhXYfSwegYWSQxZGIS6pfH554AgYPhjlzlHCLuBmXSLrfe+896tati5+fH506dWL16tXFet5XX32FzWbjuuuuK9sAy1Badh5/7DkOQL/mWlouxZCff/L7OnXgr7+gRw/r4hERt+HO4/W5pGTlcSzN7BjRQEm3nOrUMfu552DWLBU6FXFDlifdX3/9NePGjWPChAmsX7+eVq1a0a9fP44dO3bO5+3fv5/HHnuMrl27llOkZeO3XcfJsxvUrxqou+NyfkeOQNu2MHv2yXOentbFIyJuw93H63MpnOWOCvElxE8dSKTA5MnmTfGMDPPYZtOYLeKmLE+6J02axF133cXIkSNp1qwZU6dOJSAggI8++uisz7Hb7dxyyy08//zz1K9fvxyjLX3rDiQB0KWhKlfKeezbZxZe2bwZ/vUvyM21OiIRcSPuPl6fyx4tLZdTGQa88AKMGwe//QZffWV1RCJiMUuT7tzcXNatW0fv3r2d5zw8POjduzcrV6486/NeeOEFIiMjGTVq1Hl/Rk5ODqmpqUW+XMnGgqrlrWPCrQ1EXNv27WbCvXevuS9syRLw8bE6KhFxE+UxXoPrj9lnsz0uDYCG1ZR0uz3DgMcfhwkTzOMXX1QbTxGxNuk+fvw4drudqKiiBcSioqKIi4s743N+++03/ve//zFt2rRi/YyJEycSGhrq/IqJcZ3emXl2B5sPpwDQpnaYtcGI69q4Ea68Eg4fNoumrVgBdetaHZWIuJHyGK/Btcfsc1l7IBGANrV1A92tORxw333wxhvm8eTJ8PTT5rJyEXFrli8vL4m0tDRuu+02pk2bRtWqxWvJMX78eFJSUpxfsbGxZRxl8e2ISyMn30GInxf1qgRaHY64opUrzf1gCQnmXu5ffoEaNayOSkTknC5kvAbXHrPPJiMnn61HzBn5DvUiLI5GLJOfD7ffDv/3f2aS/eGH8PDDVkclIi7C0j7dVatWxdPTk/j4+CLn4+PjqV799Eree/bsYf/+/QwaNMh5zuFwAODl5cWOHTto0KBBkef4+vri66JVIjcULC1vFROGh4fugsoZfPstJCfD5ZfDzz9DaKjVEYmIGyqP8Rpce8w+m/UHk7A7DGqG+VMzzN/qcMQqsbGwYAF4ecHnn8Pw4VZHJCIuxNKZbh8fH9q1a8eSJUuc5xwOB0uWLKFz586nXd+0aVM2b97Mxo0bnV/XXHMNPXr0YOPGjRVmGVqhjQeTAWgTE2ZpHOLCXnsNJk0yB3Il3CJiEXcfr89lzT5zaXlHzXK7t3r1zLH6u++UcIvIaSyd6QYYN24cI0aMoH379nTs2JE333yTjIwMRo4cCcDtt99OzZo1mThxIn5+frRo0aLI88PCwgBOO18RbIw1K5e31n5uOdXy5dCli1kozcMDHnnE6ohERNx6vD6X1fvNpLtDXSXdbiclxSx02qmTedy2rfklIvIPlifdw4cPJyEhgWeffZa4uDhat27N/PnzncVaDh48iIdHhdp6XiwpWXnsSTD7NraqFWZtMOI6pk+H0aNhyBCYMUP9PEXEZbjreH0uOfl2NhSsWtNMt5s5cQL69TOT7kWL4AwrPkRECtkMwzCsDqI8paamEhoaSkpKCiEhIZbFsWJXArf9bzW1IwL49fEelsUhLuSdd+Chh8zv77oLpkxR0i3iplxlrLKaq/8d1h1I5IYpK6kS6MPap3tjU5Vq93D0KPTpA1u3QtWqsHAhtGljdVQiYoHijlPudUvahRTeGW+t/dwC8PLLJxPucePM6qdKuEVEXNrqfeY2sfZ1w5Vwu4sDB8w2nlu3mt1EfvlFCbeInJeSbotsLKhcrqTbzRkGjB8PTz1lHk+YYPb31Ic3ERGXt0b7ud3Lzp3QtSvs3g1168KKFdCsmdVRiUgFYPmebndkGMbJpFtF1Nzbk0+aFcrBTLYffdTaeEREpFjsDsOZdHeqV8XiaKTM7d1rznDHx0PTprB4MdSsaXVUIlJBaKbbArGJWSRm5OLtaaNZtOvtUZNy1L8/BATA1KlKuEVEKpAdcWmkZecT6OPJJdHBVocjZS0mBjp2hNatzSXlSrhFpAQ0022BDQWtwppFh+DnrX27bq17d9izB6pXtzoSEREpgcJZ7rZ1wvHy1BxGpeftDTNnQnY2FLS/ExEpLo0SFtB+bjeWlQW33gpbtpw8p4RbRKTC+XPvCQA6qVVY5TV/Pjz8sFl/BcDPTwm3iFwQzXRbQPu53VRaGgwaZC5LW7nS7O3p7W11VCIiUkIbDiYxb0scoCJqlda338JNN0FeHrRqBSNHWh2RiFRgmukuZ7n5DrYeSQWgdUy4xdFIuUlMhN69zYQ7JAQ++UQJt4hIBTVzbSwAl0SH0F5Jd+XzyScwbJiZcA8fbq5QExG5CEq6y9m2o6nk5jsIC/CmbpUAq8OR8hAfb+7dXr0aqlSBpUvhiiusjkpERC7QugNmbZZHejfC00MtHiuV99+HO+4AhwPuvBO++EI3yUXkoinpLmeFS8tb1QrDpl7MlV9srNliZPNmc+/2L79Au3ZWRyUiIhcoJSuPXcfSAbOImlQir70GY8aY348dC9OmgacK3orIxVPSXc5URM3NjB8PO3dCnTqwYgU0b251RCIichE2xiZjGFCnSgBVg3ytDkdKy7Zt8O9/m98//TRMngwe+pgsIqVDhdTKmYqouZn33zernr7yitnjU0REKrT1BUvL29XWLHelcskl8OmncOgQPP641dGISCWjpLscJWfmsu94BgCta4VZG4yUnSNHoEYN8/uQEHM/mIiIVArrD5pJdxstLa/47HY4fhyioszjm2+2Nh4RqbS0bqYcFc5y160SQHigj7XBSNlYsQKaNjX3hYmISKVidxhsPJgMaKa7wsvNNZPsLl3Mm+UiImVISXc50n7uSm7hQujXz+zHPW8e5OdbHZGIiJSiXcfSSMvJJ9DHkybVg60ORy5UdjbccAPMnGkWPN20yeqIRKSSU9JdjpR0V2Lffw+DBkFWFvTvD3Pngpd2b4iIVCbrDyQDZl0WtQqroNLT4eqr4aefwM8P5swxx20RkTKkpLucOBwGm5xF1LQkrVL54gsYMsRcqnbDDWYC7u9vdVQiIlLKCvtzt9U4XjElJUGfPrB0KQQFwfz5cNVVVkclIm5ASXc5mbvlKEmZeQT5enFJtJakVRoffAC33WYWYxkxAr76Cny0X19EpDIqLKKm/twVUEIC9OwJf/4J4eGwZAl062Z1VCLiJpR0l4M8u4M3FuwAYHTXevh6eVockZSa3FyzJdiYMfDRR1pSLiJSSSVmnOxA0jZGSXeFlJ1tVir/5Rfo2NHqaETEjShDKAez1h5i/4lMqgT6MLprfavDkdL0wAPQooV5t9ym/X0iIpVVYX/uhpFBhAZ4WxyNlFi1arB4MWRkQOPGVkcjIm5GM93lYOn2YwDceUU9gnx1n6NCMwz4738hMfHkue7dlXCLiFRyzqXltcOsDUSKb9s2+Pzzk8c1ayrhFhFLKOkuB3sT0gFVLa/w7Ha45x547DEYMEAtwURE3EhhEbV22s9dMWzYAFdeCbffblYoFxGxkKZdy1huvoMDiZkANKgWZHE0csHy8uCOO2DGDPDwgLvv1v5tERE3kWd38NehFECVyyuEP/4wb46npED79nD55VZHJCJuTllDGTuYmIHdYRDo40lUiK/V4ciFyM6GG2+EH34wE+0vvoBhw6yOSkREysn2o2lk5dkJ8fPSDXRXt3gxXHstZGZC165mP+6QEKujEhE3p6S7jO0+ZlY6bRAZhE37fiuejAy47jpzEPf1hW+/hauvtjoqEREpR4X7udvUDsfDQ2O5y/rxRxgyxOws0rcvfPcdBARYHZWIiPZ0l7U9Bfu5dWe8gho92ky4AwNh3jwl3CIibkj7uSuAzZvh+uvNhHvwYHMftxJuEXERmukuY7uPFSbdgRZHIhfk+edh40aYPh0uu8zqaERExAInK5cr6XZZLVrAgw9CQoI5Zqvuioi4EL0jlbEdcWkANKmu/UQVRn7+ycG6cWPYsgU8Pa2NSURELHEsNZtDSVl42KBVTKjV4cg/FY7ZNpvZ0tMwzIKnIiIuRO9KZexoShYAMRH+FkcixbJ/P7RsCfPnnzynhFtExG0VznI3jgom2M/b4mjEyTDgxRfNKuXZ2eY5m00Jt4i4JL0zlaHcfAdJmXkARAb7WRyNnNf27XDFFbBtG/zrX2ZfbhERcWvaz+2CDAOeeAKefRYWLVIfbhFxeVpeXoYS0nMA8Pa0ER6gu+MubdMm6NPH3AvWrBksWKAZbhERYf3BZEBJt8twOGDMGJg61TyePFltPEXE5SnpLkPxqeZyp2pBvmoX5sr+/BP694fkZGjTBhYuhKpVrY5KREQslpNvZ/OhFEBF1FxCfj6MHAmff24uJf/gA7PLiIiIi1PSXYaOpZoz3ZEhWlruspYuhWuuMftxd+kCP/8MYWFWRyUiIi5gy+FUcu0OqgT6UKeK2k9ZKicHbrrJ7L3t6QmffWYei4hUAEq6y1BCmjnTHRnsa3EkclZff20m3L16wQ8/mP24RUREgA0FRdTa1A7XijWr7d0LS5aAjw/MmmXeMBcRqSCUdJeheOdMt5Jul/Xee2ZbsDFjwE8rEkRE5CQVUXMhl1wC8+ZBZib07m11NCIiJaLq5WXoWMFMd5Qql7uWpUtPVib38oJHH1XCLSIiRRiG4WwX1rZ2mLXBuKsTJ2D9+pPHXboo4RaRCklJdxk6lqaZbpfzzjvmUvLRo80KqCIiImdwODmL+NQcvDxstKwVZnU47icuDrp3h549YcMGq6MREbkoSrrLkLOQmma6XcPEifDQQ+b3ERFm5VMREZEzKGwV1qxGCP4+aiFZrg4cgK5dYcsWs9aKVqOJSAWnpLsMFS4v10y3xQwDxo+Hf//bPJ4wAd54Q0m3iIic1foDhUvLtZ+7XO3aZSbcu3dD3bqwYoW5n1tEpAJTIbUykm93cCIjF9BMt6UcDhg7Ft591zx+4w1zD7eIiMg5OPdzq4ha+dm8Gfr0gfh4aNIEFi+GWrWsjkpE5KIp6S4jx9NzMQzw9LBRJdDH6nDc1wMPwJQp5qz2lClwzz1WRyQiIi4uO8/O30dSAVUuLzd//w3dukFSErRqBQsXQmSk1VGJiJQKLS8vI/Gp5tLyqkE+eHhoGbNlBg0Cf3/49FMl3CIiUizH03PIdxj4eHlQI1Sr1cpF/frQti1cdhksW6aEW0QqFc10lxFn5XItLbdW//6wdy9Ur251JCIiUkGkZOUBEOrvjU31P8qHnx98/71ZhyU42OpoRERKlWa6y8jRlCwAonWHvHylpcGNN5qFWAop4RYRkRJIzcoHIMRPcxNlavZss9CpYZjHQUFKuEWkUtJoUkaOppjLy2uE+VsciRtJTDRntlevNveGbdwIHrqvJCIiJZOabc50h/h7WxxJJfbppzBypFnwtF07GDLE6ohERMqMMpIycjTZnOmurpnu8hEfDz16mAl3RAR89JESbhERuSB7EzIAiNIWsbLx/vswYoSZcN95JwwebHVEIiJlSllJGSmc6dby8nIQGwtXXgl//WUuJf/lF2jf3uqoRESkglq17wQAHepFWBxJJfTaazBmjPn9Qw/BtGng6WltTCIiZUxJdxk5mXRreXmZ2r0bunaFnTuhdm1YsQJatLA6KhERqaDy7Q7W7EsEoJOS7tJjGPD00/DEE+bxU0/Bm29qVZqIuAXt6S4DhmEQp5nu8vHoo3DgADRuDIsXQ0yM1RGJiEgFtvVIKhm5dkL8vLgkOsTqcCqP9evh5ZfN71955WTyLSLiBpR0l4ETGbnk2h3YbBAVoqS7TE2fDg88AJMnQ1SU1dGIiEgFV7i0vGO9CDw91C6s1LRrB1OnQn4+3H+/1dGIiJQrJd1l4GiyOctdNcgXHy8tmyp1R45AjRrm9xERMGOGtfGIiEil8efewqXlVSyOpBLIy4PkZKhWzTy++25LwxERsYoywjJQ2KO7hpaWl75Fi6BRI7PyqYiISCmyOwznfu7L6ivpvijZ2XD99dC9Oxw/bnU0IiKWUtJdBgqLqKldWCn7/nsYOBAyM+Hnn81WIyIiIqXk7yOppOXkE+zrRbMa2s99wdLT4eqr4aefYO9e2LrV6ohERCylpLsMqHJ5GZgxA4YMgdxcuOEG+O47VTwVEZFSVbifu33dcO3nvlDJydC3LyxdCkFBMH8+dOtmdVQiIpZS1lIGnMvLwzTTXSo++ABuvRXsdrj9dvjqK/DxsToqERGpZAr3c2tp+QVKSIAePWDlSggPN7uKKOEWEVHSXRZOLi/XTPdFmzQJ7rnH7O95//1mtXIv1f8TEZHSZXcYrC6Y6e6kpLvkDh+GK6+EjRshMhKWL4dOnayOSkTEJSjpLgMqpFaKcnLM/33iCXj3XS0pFxGRMrE9LpXU7HwCfTxpof3cFyYnB2JiYMUKaNnS6mhERFyGpgxLmcNhEJ9iJooqpFYKxo+Hzp3N6qciIiJlZFXB0vL2dSPw8tQN3hKrWROWLDFvjtepY3U0IiIuRaNKKTuRkUuu3YHNBlEhSrpLzG6H116DtLST55Rwi4hIGftzb+HS8giLI6lANmyAWbNOHterp4RbROQMNNNdyuIK9nNXC/LFW3fKSyYvD+64w6xUvmCBWYDFpuqxIiJSthwOg9X7VUStRP74AwYMMNuDRURAr15WRyQi4rKUdJeyIwX7uaPDVEStRHJyYPhw+OEHs1Da3Xcr4RYRkXKxIz6N5Mw8Anw8ubRmqNXhuL4lS+DaayEjA664Atq3tzoiERGXpqS7lB1NVhG1EsvIgMGDYdEi8PWFb76BgQOtjkpERNzEqoKl5e3qhGuV2vn8+CMMHWreLO/bF2bPhsBAq6MSEXFpLjGyvPfee9StWxc/Pz86derE6tWrz3rttGnT6Nq1K+Hh4YSHh9O7d+9zXl/ejqYWtgtT0l0sKSnQr5+ZcAcGwty5SrhFRFxUZRqvT7Vqn5aWF8tXX8H115sJ9+DBMGeOEm4RkWKwPOn++uuvGTduHBMmTGD9+vW0atWKfv36cezYsTNev3z5cm666SaWLVvGypUriYmJoW/fvhw+fLicIz+zo8lm0l1DPbqL5+ab4fffISzM3MPds6fVEYmIyBlUtvG6kGEYzqS7Uz0VUTurVavMMTs/H269FWbONFeniYjIedkMwzCsDKBTp0506NCBd999FwCHw0FMTAwPPvggTz755Hmfb7fbCQ8P59133+X2228/7/WpqamEhoaSkpJCSEjp9+EcNnUlq/cn8s5NbRjUqkapv36ls3kzDBsGX34JrVtbHY2IiEso67HqQpT3eA3l83fYGZ9G38m/4uftwV8T+uHjZfl8hGsyDLj3XrMl2Hvvmf8rIuLmijtOWfqOmZuby7p16+jdu7fznIeHB71792blypXFeo3MzEzy8vKIiHCNu9OFhdRqhGl5+Vnl55/8/tJLYcsWJdwiIi6sMo7XhU7dz62E+x8M4+SYbbPBlCnw/vtKuEVESsjSd83jx49jt9uJiooqcj4qKoq4uLhivcYTTzxBjRo1inwQOFVOTg6pqalFvsqKw2EQX7CnO1rLy89sxw5o3hx+/fXkOU9P6+IREZHzKo/xGsp3zC70597CpeXaz12EYcCTT8KQIWZLTzCTbXUWEREpsQp9q/KVV17hq6++4rvvvsPP78wzyxMnTiQ0NNT5FRMTU2bxHM/IIc9u4GGDyGDtczrNpk1w5ZWwcyc8/rg5oIuISKVXnPEaynfMhsL93OZMt4qoncLhgDFj4LXXzFaeixZZHZGISIVmadJdtWpVPD09iY+PL3I+Pj6e6tWrn/O5b7zxBq+88goLFy6kZcuWZ71u/PjxpKSkOL9iY2NLJfYzOVJQRC0y2A8vtRwpatUq6N4djh2DNm3MliO6Wy4iUiGUx3gN5TtmA+xJSOd4ei6+Xh60ilF/bsBcTn7HHeZScpsNPvgABgywOioRkQrN0szQx8eHdu3asWTJEuc5h8PBkiVL6Ny581mf99prr/Hiiy8yf/582rdvf86f4evrS0hISJGvsnIoKROAmAgtLS9i+XLo3RuSk6FLF1i6FKpVszoqEREppvIYr6F8x2yANfuTAGhTOwxfL211IicHhg+Hzz4zt3598QXcdZfVUYmIVHheVgcwbtw4RowYQfv27enYsSNvvvkmGRkZjBw5EoDbb7+dmjVrMnHiRABeffVVnn32WWbMmEHdunWde8mCgoIICgqy7PcAOJRkFlGrGaak22nuXLjhBsjOhl694PvvweL/n0REpOQq03hd6GiyOW43jHSNeCyVmWmO1/Png4+P2RLs2mutjkpEpFKwPOkePnw4CQkJPPvss8TFxdG6dWvmz5/vLNZy8OBBPE6pkjllyhRyc3MZMmRIkdeZMGECzz33XHmGfprDBUl3rfAAS+NwKV98YSbcgwaZA/g59vKJiIjrqkzjdaGULLNAWKi/t8WRuIAdO2DFCggIMG+Q9+ljdUQiIpWG5Uk3wAMPPMADDzxwxseWL19e5Hj//v1lH9AFKlxeXitcM91O06dD27bw0EPgrQ81IiIVWWUZrwsp6T5FmzZm0TQ/P7j8cqujERGpVFTtqxTFpeYAUD3UzWdzFy0yK5+CuUTt0UeVcIuIiMtx+6T76FH466+Tx716KeEWESkDSrpLUaq7D94AL78MffvC2LFqCSYiIi7NrZPuAwfMNp69esG2bVZHIyJSqSnpLkVp2ebgHeKOg7dhwPjx8NRT5nFEhLXxiIiInEdh0u124/auXdC1K+zebRY39fW1OiIRkUrNJfZ0VwYOh0FaTj4AwX5u9md1OMyZ7XffNY9ffx0ee8zamERERM4jJcsct91qpnvzZrNIWnw8NGkCixdDrVpWRyUiUqm5WXZYdjJy852rqUP83Gjwzs83e3h+/DHYbPD++3DvvVZHJSIick6GYbjftrDVq+GqqyApCVq1goULITLS6qhERCo9Jd2lJDXbvFvu4+mBn7enxdGUozvuMNuCeXqaifett1odkYiIyHll5znItZtFP90i6V6/3ty/nZ4OnTrBvHkQHm51VCIibkF7uktJ4X5ut1taPngw+PvDrFlKuEVEpMIo3M/t6WEjyNcNxu4mTaBlS+jRw+wyooRbRKTcuMEoUz5SC/aFuV0xlhtugCuugKgoqyMREREptlMrl9tsNoujKQeBgTB3rtnK09/f6mhERNyKZrpLidvMdCclwdCh/9/enQdHVaZ7HP91ErqTQBJQzAIGEVywBOUKkgEHGcbMRGFQZlwoUYQp1yFSDlAighpGEShRLrcUYXC/o04UBK6DGbZgitXrHYR7URZlmQGRgMwQEhPI+t4/Dp0QCUt3+pzT3fl+qroq5+R095OXwMPTz3nfV9q3r+EcBTcAIMK0iO3C/vQnaerUhuOUFApuAHBBlFeIzik7Oac7qhdRO3TI2oP7//5P+vZbacMGa/E0AAAiTNRvFzZ3rjR6tPX19ddLOTnuxgMALRid7hApjfZO9/790o03WgV3Wpr02msU3ACAiBXVne6ZMxsK7jFjrC3CAACuoegOkRPVtZKkhGhcuXz3bql/f+nrr6VOnaS1a6Xu3d2OCgCAoP2rvFKS1C4xiopuY6Snn5YmTLCOJ02S/uM/pBj+uwcAborStqzzqmutTbrjYqOs+/vVV9Yn5AcPSpdfLq1aZRXeAABEsO9KTkiSMlKiZI6zMdLYsVaRLUnTp0sTJ7obEwBAEkV3yNTUF91R9mnymDFWwd2jh7RihZSe7nZEAAA028FjxyVJGSnxLkcSImvWNBTcr7wi5ea6Gw8AoB5Fd4jU1tVJkuJioqzT/f770rhxVgK/4AK3owEAICSKj/k73VFSdA8YIM2aZeXqkSPdjgYAcAqK7hCprjvZ6Y6GeVMHDkgdO1pfp6dbhTcAAFHku2NRcHv5iRNSebl04YXW8dix7sYDAGhSFFSI4aGm1up0t4r0Od1Llkhdu0rvvON2JAAA2KKqpk5HfrAWUstoG6Gd7h9+kAYPttZdKSlxOxoAwFlQdIeIfyG12Ei+vfz996U77pAqK6W//tValAUAgChzqPSEjJG8sTG6sLXX7XACV1Ii/fKX0urV0jffWLuLAADCFkV3iNTWRfhCavPnS/feK9XWWnPB3n2XfbgBAFHp4Mlby9NT4uWJtFz3/ffSwIHSxo1Su3ZSYaHUp4/bUQEAziJCK8TwU3NyIbVWkdjpnjVLevhhq7M9erT05ptSHNP9AQDRKWJXLj9wQLrxRmnLFik1VSoqouAGgAhA0R0i1ZG4ZZgx0rPPSuPHW8dPPGGtUh4Ni8EBAHAGByNx5fK9e6X+/aUdO6TMTGntWumaa9yOCgBwHqiuQuR4da0kKb5VBA2px2PN35ak55+XZszglnIAQNQ7WHKy0902wlYur6qyFjtdu1a64gq3owEAnCfuIQ6RshM1kqSk+FYuRxKgqVOtxVgGDHA7EgAAHHHkhypJUmqSz+VIAnDppdb87eRkKSPD7WgAAAGIoLZseCs7US1JSooP888xqqutjnZFhXXs8VBwAwBalKMVVtHdLjHMVy7fuFH6y18ajq+8koIbACIQRXeIlB63iu7kcO50V1ZKd94pPfmkdPfdbAkGAGiRSiqsnJ2SGMY5e/Vqaw/uO+6wim8AQMSi6A6RhtvLw7TTXV4uDRki/dd/ST6f9MADzN8GALRIJeHe6V66VBo0yMrdAwawYBoARDiK7hDxF91h2ek+dky6+WZp5UqpdWvpk0+sAhwAgBao5OTdaW0TwjBnf/CB9OtfW3enDR1q3V7eurXbUQEAmoGiOwSqa+vqVy9PTgizTveRI9JNN0nr1kkpKVbhfdNNbkcFAIArKmtqVVFl5eyw63S/8YY1/aumRrrnHunDD6270wAAEY2iOwT8XW5JauMLo6LbGOn226VNm6SLLpKKiqS+fd2OCgAA1xw7OZ87xhNmU8IKC62pX8ZIDz8s/ed/Sq3CsBMPAAhYGGWbyOVfuTzRG6u42DD6HMPjkV58URo5Ulq0SOrWze2IAABwlf/W8pSEVoqJCaO1TX72M2n4cGt18pkzWXcFAKIIRXcIhN0iajU1UtzJWK6/Xtq6VYqNdTcmAADCwNFyaxG1tuFwa7kxUm2tlbNjY63udkwMBTcARJkwastGrtITYbRd2P/+r9XR/vzzhnMU3AAASGrc6XZVXZ2Umyvdd59VeEtWvqbgBoCoQ9EdAqXHw6TT/d//bd2etnu3NGmSu7EAABCGGrYLc7HorqmRRo2S5s6V8vOl9evdiwUAYLswuR86svnndCe52ekuKrK2AfvhB6lfP2nhQvdiAQAgTJWcXEjNtdvLKyutuduLFlmd7T/9SbrxRndiAQA4gqI7BFyf011QYK1SfuKEtR3YkiVSmzbuxAIAQBg7Wl90u/BBeUWFla+XLZO8XmtLsNtucz4OAICjuL08BOrndLsxP2zhQmnoUKvgHjJEWrqUghsAgDM4dvzkQmoJDne6S0ulW26xCu7ERCtfU3ADQItA0R0CrnW6jbFWOq2uloYNkz76SIqPdzYGAAAiiP/28natHf6g/MsvrbVXkpOl5culX/zC2fcHALiG28tDoMyt1cs9HumDD6yFWB57jFXKAQA4h6MnF1JzfPXyfv2sD8fT06VevZx9bwCAq+h0h4C/053sVKd7xQqryy1JCQnSuHEU3AAAnIf6TrcTC6nt2ydt395wPHgwBTcAtEAU3SFQ6tTq5cZYW4Hl5LAlGAAAQShxaiG1b76R+veXsrOlPXvsfS8AQFij6A4BR+Z019VZt5BPn24dX3CBfe8FAECUKjnu36fbxk731q1Wwb1vn5SUZK1UDgBosZjTHQINRbdNn5rX1koPPCC9/bY1j/vVV6VHHrHnvQAAiFInqmt1orpOkpRiV6f7f/5Huvlm6V//kq691poSlppqz3sBACICRXcI1C+klmDDcFZVSffeKy1YIMXEWIX3iBGhfx8AAKKc/9by2BiPknw25Ow1a6Rf/UoqK5OysqS//lVq1y707wMAiCgU3SFQetymTrcx0p13Sh9/LLVqJeXnS7/5TWjfAwCAFqKkfo/uVvJ4PKF98fXrrQ738ePSz35m5e6kpNC+BwAgIjGnu5lOVNeqqta6VS3kc7o9Hun226XWraW//IWCGwCAZjhabnW6bbm1vHt36aqrpEGDpIICCm4AQD063c3kn8/t8UhtvDYM5333WauVp6WF/rUBAGhBjtm5iFpKirRypdSmDQunAQAaodPdTP7twtr44hQTE4Jb1Q4flu64QyoubjhHwQ0AQLMd9W8XlhCiTve8edKsWQ3HF1xAwQ0AOA2d7mbyd7qTQzGf+9tvrf08d+6USkutFU8BAEBINOzRHYLCeOZMacIE6+usLOmGG5r/mgCAqESnu5n8K5c3ez737t3Wnp47d0qdOklz5oQgOgAA4FdScXIhtebM6TZGeuaZhoJ70iSpX78QRAcAiFZ0upspJJ3ubdusDvfBg9Lll0urVlmFNwAACBl/p7tdsEW3MdK4cdLs2dbx9OnSxImhCQ4AELUoupup9HgzO91ffCH98pfSP/9prXy6cqWUnh7CCAEAgCQdPdnpTgnm9vLaWumRR6TXX7eOX35ZevTREEYHAIhWFN3N5O90B1V0G2Ml8H/+U+rdW1q2TLrwwhBHCAAAJKnkeDMWUlu2zCq4Y2KkN96QRo0KbXAAgKjFnO5m8s/pTg4mgXs80kcfSffcIxUWUnADAGCjY/W3lwfR6R48WJo6VcrPp+AGAASETnczlQbT6T5wQOrY0fo6M1N6910bIgMAAKc6GuhCaj/8INXUSG3bWseTJ9sTGAAgqtHpbqbS+tXLzzOBv/++1LWrtHChjVEBAIBTGWMabi8/n6K7pMRac2XwYKm83N7gAABRjaK7mQKa0z1/vnTvvVJlpbR8uc2RAQAAv+PVtaqqqZN0Hvt0f/+9NHCgtHGjtH27tGePAxECAKIVRXcz1c/pPlene9Ys6eGHrcXTRo+W/vhHB6IDAABSw3ZhrWI9au2NPfOFBw5IAwZIW7ZIqalSUZHUo4cjMQIAohNFdzOVHj9Hp9sY6Q9/kMaPt44nTJBeecVa/RQAADiifruwBK88Hk/TF+3dK/Xvb3W3L75YWrNGuuYaB6MEAEQjFlJrprLKs8zpNkZ6/HHppZes46lTpUmTrFXLAQCAYxpWLj/DnWk7dkg33SR995219sqqVVLnzs4FCACIWhTdzeSf052ScIahrLaSvGbPlh57zJmgAABAI+e1iFp1tXT11dLKlVJGhkORAQCiHUV3MxhjTllIrYkk7vFI//7v0u23Szfe6HB0AADAr2G7sDMsotatm7R6tZSeLrVv72BkAIBox8TiZqioqlVtnZF0ypzuykpp+nSpykruiomh4AYAwGX+hdTaJpzyIfnq1dZt5H7du1NwAwBCjk53M/i73LExHiW0ipUqKqRf/1pasUL66ivp3XddjhAAAEhSSX2n+2TRvXSpdMcdUmystH691LOne8EBAKJaWHS658yZo86dOys+Pl5ZWVn6/PPPz3r9ggUL1K1bN8XHx6tHjx4qKChwKNLGGrYLi5OntFTKybEK7sRE6be/dSUmAADsEqn5Wjql053olT780PqQvLJS+sUvrFvLAQCwietF9wcffKBx48YpLy9PX3zxha699lrl5OTo8OHDTV6/YcMG3X333br//vu1efNmDR06VEOHDtWXX37pcORS6cmiu2NthbXi6bp1UkqKtQDLTTc5Hg8AAHaJ5HwtSUdPFt3XFS6W7r5bqqmRhg+XFiyQ4uNdiQkA0DJ4jDHGzQCysrJ0/fXX65VXXpEk1dXVKTMzU2PGjNHEiRNPu37YsGEqLy/X0qVL68/95Cc/Uc+ePTVv3rxzvl9paalSUlJ07NgxJScnNyv2T3ce1oSXl2vBR3nqXLzXmge2YoX0b//WrNcFALRsocxVoeJ0vpZCOw53ztugqxe+oymF860TDz0kvfqqdXs5AABBON885Wqnu6qqSps2bVJ2dnb9uZiYGGVnZ2vjxo1NPmfjxo2NrpeknJycM15fWVmp0tLSRo9QKauo0lsL/2AV3B06SGvWUHADAKKOE/lasjdnX/X5pw0F9/jx0rx5FNwAAEe4WnQfOXJEtbW1SktLa3Q+LS1NxcXFTT6nuLg4oOunT5+ulJSU+kdmZmZogpdUVlWrZ296UAc6dpHWrpWuuipkrw0AQLhwIl9L9ubs5Zf00orLf6LD45+UZs60tvUEAMABrs/pttuTTz6pY8eO1T/2798fstfu2+VC3Tl2uHavXC916RKy1wUAoCWyM2dP+c21+v6t9+R77g8U3AAAR7m6ZVj79u0VGxurQ4cONTp/6NAhpaenN/mc9PT0gK73+Xzy+XyhCfhHulzURl0uamPLawMAEC6cyNeSvTn7lh4ZtrwuAADn4mqn2+v1qlevXiosLKw/V1dXp8LCQvXt27fJ5/Tt27fR9ZK0cuXKM14PAACah3wNAEDwXO10S9K4ceM0cuRI9e7dW3369NHs2bNVXl6u357c5/q+++5Tx44dNX36dEnSY489pgEDBuill17S4MGDlZ+fr7/97W+aP3++mz8GAABRjXwNAEBwXC+6hw0bpu+//17PPPOMiouL1bNnTy1btqx+8ZV9+/YpJqahId+vXz+9//77euqppzRp0iRdfvnlWrJkibp37+7WjwAAQNQjXwMAEBzX9+l2WjjufQoAwKnIVRbGAQAQziJin24AAAAAAKIZRTcAAAAAADah6AYAAAAAwCYU3QAAAAAA2ISiGwAAAAAAm1B0AwAAAABgE4puAAAAAABsQtENAAAAAIBNKLoBAAAAALAJRTcAAAAAADah6AYAAAAAwCZxbgfgNGOMJKm0tNTlSAAAaJo/R/lzVktFzgYAhLPzzdctruguKyuTJGVmZrocCQAAZ1dWVqaUlBS3w3ANORsAEAnOla89poV9jF5XV6fvvvtOSUlJ8ng8zX690tJSZWZmav/+/UpOTg5BhNGPMQsO4xY4xiw4jFvgQj1mxhiVlZWpQ4cOiolpuTPBQpmz+b0ODuMWOMYsOIxb4Biz4IRy3M43X7e4TndMTIwuvvjikL9ucnIyv+wBYsyCw7gFjjELDuMWuFCOWUvucPvZkbP5vQ4O4xY4xiw4jFvgGLPghGrczidft9yPzwEAAAAAsBlFNwAAAAAANqHobiafz6e8vDz5fD63Q4kYjFlwGLfAMWbBYdwCx5iFP/6MgsO4BY4xCw7jFjjGLDhujFuLW0gNAAAAAACn0OkGAAAAAMAmFN0AAAAAANiEohsAAAAAAJtQdJ+HOXPmqHPnzoqPj1dWVpY+//zzs16/YMECdevWTfHx8erRo4cKCgocijR8BDJmr732mvr376927dqpXbt2ys7OPucYR6tAf9f88vPz5fF4NHToUHsDDEOBjllJSYlyc3OVkZEhn8+nK664gr+j5zFus2fP1pVXXqmEhARlZmZq7NixOnHihEPRum/NmjUaMmSIOnToII/HoyVLlpzzOUVFRbruuuvk8/l02WWX6e2337Y9zpaOfB0ccnbgyNfBIWcHjnwdmLDN1wZnlZ+fb7xer3nzzTfNV199ZR588EHTtm1bc+jQoSavX79+vYmNjTUvvPCC2bZtm3nqqadMq1atzNatWx2O3D2Bjtnw4cPNnDlzzObNm8327dvNqFGjTEpKivn2228djtxdgY6b3969e03Hjh1N//79zW233eZMsGEi0DGrrKw0vXv3NoMGDTLr1q0ze/fuNUVFRWbLli0OR+6uQMftvffeMz6fz7z33ntm7969Zvny5SYjI8OMHTvW4cjdU1BQYCZPnmwWLVpkJJnFixef9fo9e/aYxMREM27cOLNt2zbz8ssvm9jYWLNs2TJnAm6ByNfBIWcHjnwdHHJ24MjXgQvXfE3RfQ59+vQxubm59ce1tbWmQ4cOZvr06U1ef9ddd5nBgwc3OpeVlWUefvhhW+MMJ4GO2Y/V1NSYpKQk884779gVYlgKZtxqampMv379zOuvv25GjhzZ4pJ4oGM2d+5c06VLF1NVVeVUiGEp0HHLzc01P//5zxudGzdunLnhhhtsjTNcnU8SnzBhgrn66qsbnRs2bJjJycmxMbKWjXwdHHJ24MjXwSFnB4583TzhlK+5vfwsqqqqtGnTJmVnZ9efi4mJUXZ2tjZu3NjkczZu3NjoeknKyck54/XRJpgx+7GKigpVV1frggsusCvMsBPsuD377LNKTU3V/fff70SYYSWYMfv444/Vt29f5ebmKi0tTd27d9e0adNUW1vrVNiuC2bc+vXrp02bNtXf0rZnzx4VFBRo0KBBjsQciVp6LnAa+To45OzAka+DQ84OHPnaGU7lgriQvlqUOXLkiGpra5WWltbofFpamnbs2NHkc4qLi5u8vri42LY4w0kwY/ZjTzzxhDp06HDaX4BoFsy4rVu3Tm+88Ya2bNniQIThJ5gx27Nnj1avXq177rlHBQUF2rVrl0aPHq3q6mrl5eU5Ebbrghm34cOH68iRI/rpT38qY4xqamr0yCOPaNKkSU6EHJHOlAtKS0t1/PhxJSQkuBRZdCJfB4ecHTjydXDI2YEjXzvDqXxNpxthZcaMGcrPz9fixYsVHx/vdjhhq6ysTCNGjNBrr72m9u3bux1OxKirq1Nqaqrmz5+vXr16adiwYZo8ebLmzZvndmhhraioSNOmTdOrr76qL774QosWLdInn3yi5557zu3QALiInH1u5OvgkbMDR74OX3S6z6J9+/aKjY3VoUOHGp0/dOiQ0tPTm3xOenp6QNdHm2DGzO/FF1/UjBkztGrVKl1zzTV2hhl2Ah233bt36+9//7uGDBlSf66urk6SFBcXp507d6pr1672Bu2yYH7XMjIy1KpVK8XGxtafu+qqq1RcXKyqqip5vV5bYw4HwYzb008/rREjRuiBBx6QJPXo0UPl5eV66KGHNHnyZMXE8Pntj50pFyQnJ9PltgH5Ojjk7MCRr4NDzg4c+doZTuVrRv4svF6vevXqpcLCwvpzdXV1KiwsVN++fZt8Tt++fRtdL0krV6484/XRJpgxk6QXXnhBzz33nJYtW6bevXs7EWpYCXTcunXrpq1bt2rLli31j1tvvVUDBw7Uli1blJmZ6WT4rgjmd+2GG27Qrl276v/DI0lff/21MjIyoj55+wUzbhUVFaclav9/gqx1SvBjLT0XOI18HRxyduDI18EhZweOfO0Mx3JBSJdli0L5+fnG5/OZt99+22zbts089NBDpm3btqa4uNgYY8yIESPMxIkT669fv369iYuLMy+++KLZvn27ycvLa3FbkAQ6ZjNmzDBer9csXLjQHDx4sP5RVlbm1o/gikDH7cda4mqogY7Zvn37TFJSknn00UfNzp07zdKlS01qaqqZOnWqWz+CKwIdt7y8PJOUlGT+/Oc/mz179pgVK1aYrl27mrvuusutH8FxZWVlZvPmzWbz5s1Gkpk1a5bZvHmz+cc//mGMMWbixIlmxIgR9df7tyB5/PHHzfbt282cOXPYMsxm5OvgkLMDR74ODjk7cOTrwIVrvqboPg8vv/yy6dSpk/F6vaZPnz7ms88+q//egAEDzMiRIxtd/+GHH5orrrjCeL1ec/XVV5tPPvnE4YjdF8iYXXLJJUbSaY+8vDznA3dZoL9rp2qpSTzQMduwYYPJysoyPp/PdOnSxTz//POmpqbG4ajdF8i4VVdXmylTppiuXbua+Ph4k5mZaUaPHm2OHj3qfOAu+fTTT5v8d8o/TiNHjjQDBgw47Tk9e/Y0Xq/XdOnSxbz11luOx93SkK+DQ84OHPk6OOTswJGvAxOu+dpjDPcaAAAAAABgB+Z0AwAAAABgE4puAAAAAABsQtENAAAAAIBNKLoBAAAAALAJRTcAAAAAADah6AYAAAAAwCYU3QAAAAAA2ISiGwAAAAAAm1B0AwAAAABgE4puAE0aNWqUPB7PaY9du3Y1+p7X69Vll12mZ599VjU1NZKkoqKiRs+56KKLNGjQIG3dutXlnwoAgOhCvgbCH0U3gDO6+eabdfDgwUaPSy+9tNH3vvnmG40fP15TpkzRzJkzGz1/586dOnjwoJYvX67KykoNHjxYVVVVbvwoAABELfI1EN4ougGckc/nU3p6eqNHbGxso+9dcskl+t3vfqfs7Gx9/PHHjZ6fmpqq9PR0XXfddfr973+v/fv3a8eOHW78KAAARC3yNRDeKLoBhERCQsIZPxU/duyY8vPzJUler9fJsAAAwCnI14Dz4twOAED4Wrp0qdq0aVN/fMstt2jBggWNrjHGqLCwUMuXL9eYMWMafe/iiy+WJJWXl0uSbr31VnXr1s3mqAEAaFnI10B4o+gGcEYDBw7U3Llz649bt25d/7U/wVdXV6uurk7Dhw/XlClTGj1/7dq1SkxM1GeffaZp06Zp3rx5ToUOAECLQb4GwhtFN4Azat26tS677LImv+dP8F6vVx06dFBc3On/nFx66aVq27atrrzySh0+fFjDhg3TmjVr7A4bAIAWhXwNhDfmdAMIij/Bd+rUqckE/mO5ubn68ssvtXjxYgeiAwAAEvkaCAcU3QAckZiYqAcffFB5eXkyxrgdDgAAaAL5Ggg9im4Ajnn00Ue1ffv20xZ3AQAA4YN8DYSWx/ARFgAAAAAAtqDTDQAAAACATSi6AQAAAACwCUU3AAAAAAA2oegGAAAAAMAmFN0AAAAAANiEohsAAAAAAJtQdAMAAAAAYBOKbgAAAAAAbELRDQAAAACATSi6AQAAAACwCUU3AAAAAAA2oegGAAAAAMAm/w8+Oq+90XaZVAAAAABJRU5ErkJggg==",
      "text/plain": [
       "<Figure size 1000x500 with 2 Axes>"
      ]
     },
     "metadata": {},
     "output_type": "display_data"
    }
   ],
   "source": [
    "# ROC Curve Plotting\n",
    "def plot_roc(y_true, y_score, label_name, ax):\n",
    "    fpr, tpr, thresholds = roc_curve(y_true, y_score)\n",
    "    ax.plot(fpr, tpr)\n",
    "    ax.plot([0, 1], [0, 1], color='red', linestyle='--')\n",
    "    ax.set_ylabel('TPR')\n",
    "    ax.set_xlabel('FPR')\n",
    "    ax.set_title(f\"{label_name}: AUC = {roc_auc_score(y_true, y_score):.4f}\")\n",
    "\n",
    "fig, ax = plt.subplots(1, 2, figsize=(10, 5))\n",
    "\n",
    "plot_roc(\n",
    "    y_test['h1n1_vaccine'],\n",
    "    y_preds['h1n1_vaccine'],\n",
    "    'h1n1_vaccine',\n",
    "    ax=ax[0]\n",
    ")\n",
    "\n",
    "plot_roc(\n",
    "    y_test['seasonal_vaccine'],\n",
    "    y_preds['seasonal_vaccine'],\n",
    "    'seasonal_vaccine',\n",
    "    ax=ax[1]\n",
    ")\n",
    "\n",
    "fig.tight_layout()\n"
   ]
  },
  {
   "cell_type": "markdown",
   "metadata": {},
   "source": [
    "Explanation: \n",
    "    We define a function to plot ROC curves and use it to visualize the performance of the model for both target variables."
   ]
  },
  {
   "cell_type": "markdown",
   "metadata": {},
   "source": [
    "Interpretation:\n",
    "\n",
    "h1n1_vaccine: AUC = 0.8470:\n",
    "    This curve shows a good performance, with an AUC close to 0.9. This indicates that the model is better than random guessing and can effectively distinguish between positive and negative cases.\n",
    "\n",
    "seasonal_vaccine: AUC = 0.8231:\n",
    "    This curve also shows good performance, but slightly lower than the h1n1_vaccine model. However, the AUC is still significantly above 0.5, indicating a better performance than random guessing."
   ]
  },
  {
   "cell_type": "code",
<<<<<<< Updated upstream
   "execution_count": 18,
=======
   "execution_count": 19,
   "metadata": {},
   "outputs": [],
   "source": [
    "# Generate binary predictions from probabilities using a threshold of 0.5\n",
    "threshold = 0.5\n",
    "h1n1_binary_preds = (y_preds['h1n1_vaccine'] > threshold).astype(int)\n",
    "seasonal_binary_preds = (y_preds['seasonal_vaccine'] > threshold).astype(int)\n"
   ]
  },
  {
   "cell_type": "code",
   "execution_count": 20,
   "metadata": {},
   "outputs": [],
   "source": [
    "# Confusion Matrices\n",
    "h1n1_cm = confusion_matrix(y_test['h1n1_vaccine'], h1n1_binary_preds)\n",
    "seasonal_cm = confusion_matrix(y_test['seasonal_vaccine'], seasonal_binary_preds)\n"
   ]
  },
  {
   "cell_type": "code",
   "execution_count": 21,
   "metadata": {},
   "outputs": [
    {
     "data": {
      "image/png": "iVBORw0KGgoAAAANSUhEUgAABJwAAAJOCAYAAADyCB3CAAAAOnRFWHRTb2Z0d2FyZQBNYXRwbG90bGliIHZlcnNpb24zLjEwLjAsIGh0dHBzOi8vbWF0cGxvdGxpYi5vcmcvlHJYcgAAAAlwSFlzAAAPYQAAD2EBqD+naQAAqIVJREFUeJzs3XmcjeX/x/H3mTGb2QczYxhjUPalpEzWohkSWUqLZE18h0KWtMiSlEiSpVKoTItEtjCyJSJb1oSIMFSYYTDbuX9/+J2T08wwozNnuL2ej8f9qHPf131d133mmPOZ6/7c12UxDMMQAAAAAAAA4CRuhd0BAAAAAAAAmAsDTgAAAAAAAHAqBpwAAAAAAADgVAw4AQAAAAAAwKkYcAIAAAAAAIBTMeAEAAAAAAAAp2LACQAAAAAAAE7FgBMAAAAAAACcqkhhdwAAABSMixcvKj093WXteXp6ytvb22XtAQAAOJur4yfJvDEUA04AAJjQxYsXFR3lp6STWS5rMzw8XAcPHjRlwAQAAMyvMOInybwxFANOAACYUHp6upJOZun3zWUV4F/wT9CnnLUqqvYhpaenmy5YAgAANwdXx0+SuWMoBpwAADAxP3+L/PwtBd6OVQXfBgAAgCu4Kn6SzB1DMWk4AAAAAAAAnIoMJwAATCzLsCrLcE07AAAAZuCq+MnWllmR4QQAAAAAAACnYsAJAAAAAAAATsUjdQAAmJhVhqwq+JxwV7QBAADgCq6Kn2xtmRUZTgAAAAAAAHAqMpwAADAxq6xyxVSUrmkFAACg4LkqfrK1ZVZkOAEAAAAAAMCpyHACAMDEsgxDWUbBzw3gijYAAABcwVXxk60tsyLDCQAAAAAAAE5FhhMAACbGKnUAAAD5wyp1zkGGEwAAAAAAAJyKAScAAAAAAAA4FY/UAQBgYlYZyuKROgAAgDxzVfxka8usyHACAAAAAACAU5HhBACAiTFpOAAAQP4wabhzkOEEAAAAAAAApyLDCQAAE8syDGUZBX/nzBVtAAAAuIKr4idbW2ZFhhMAAAAAAACcigwnAABMzPr/myvaAQAAMANXxU+2tsyKDCcAAAAAAAA4FRlOAACYWJYMZblg9RNXtAEAAOAKroqfbG2ZFRlOAAAAAAAAcCoGnAAAAAAAAOBUPFIHAICJZRmXNle0AwAAYAauip9sbZkVGU4AAAAAAABwKjKcAAAwMVct62vmJX0BAMDNxVXxk60tsyLDCQAAAAAAAE5FhhMAACZmlUVZsrikHQAAADNwVfxka8usyHACAAAAAAC4zo0ePVp16tSRv7+/QkND1bp1a+3du9d+/NSpU+rTp48qVqwoHx8flSlTRs8884ySk5Md6jl8+LBatGihokWLKjQ0VAMHDlRmZqZDmVWrVun222+Xl5eXKlSooBkzZuS7vww4AQBgYlbDdRsAAIAZuDJ+yk8MtXr1asXHx+vHH39UYmKiMjIyFBsbq9TUVEnSsWPHdOzYMY0dO1Y7d+7UjBkztGTJEnXr1s1eR1ZWllq0aKH09HStW7dOM2fO1IwZMzR06FB7mYMHD6pFixa65557tG3bNvXt21fdu3fX0qVL8/U+WgzDIEQEAMBkUlJSFBgYqE27wuTnX/D3l86dteqOqieUnJysgICAAm8PAADA2VwdP0n/LYb6888/FRoaqtWrV6thw4Y5lpk9e7aeeOIJpaamqkiRIvr222/1wAMP6NixYwoLC5MkTZ06VYMHD9aff/4pT09PDR48WIsWLdLOnTvt9Tz66KM6c+aMlixZkuf+keEEAAAAAABwg7E9KhcSEnLFMgEBASpS5NIU3uvXr1f16tXtg02SFBcXp5SUFO3atctepmnTpg71xMXFaf369fnqH5OGAwBgYlkumvTSVRNrAgAAFDRXxU+2tqRL2VWX8/LykpeXV67nWa1W9e3bV/Xq1VO1atVyLPPXX39p5MiR6tGjh31fUlKSw2CTJPvrpKSkK5ZJSUnRhQsX5OPjk6drI8MJAAAAAACgEEVGRiowMNC+jR49+orl4+PjtXPnTn3++ec5Hk9JSVGLFi1UpUoVDRs2rAB6fHVkOAEAYGJkOAEAAORPYWQ4HTlyxGEOpytlN/Xu3VsLFy7UmjVrVLp06WzHz549q2bNmsnf319z586Vh4eH/Vh4eLg2btzoUP7EiRP2Y7b/2vZdXiYgICDP2U0SGU4AAAAAAACFKiAgwGHLacDJMAz17t1bc+fO1YoVKxQdHZ2tTEpKimJjY+Xp6an58+fL29vb4XhMTIx27NihkydP2vclJiYqICBAVapUsZf57rvvHM5LTExUTExMvq6JDCcAAEzMalhkNQr+Dp0r2gAAAHAFV8VPtrbyKj4+XgkJCfrmm2/k7+9vn3MpMDBQPj4+9sGm8+fP69NPP1VKSop9bqgSJUrI3d1dsbGxqlKlijp27KgxY8YoKSlJL730kuLj4+2DXD179tS7776rQYMGqWvXrlqxYoW+/PJLLVq0KF/XxoATAAAAAADAdW7KlCmSpMaNGzvsnz59ujp37qwtW7Zow4YNkqQKFSo4lDl48KDKli0rd3d3LVy4UL169VJMTIx8fX3VqVMnjRgxwl42OjpaixYtUr9+/TRhwgSVLl1a06ZNU1xcXL76y4ATAAAmxhxOAAAA+VMYczjlhWEYVzzeuHHjq5aRpKioKC1evPiqdW3dujXPfcsJczgBAAAAAADAqRhwAgAAAAAAgFPxSB0AACaWJTdlueD+UlaBtwAAAOAaroqfLrVlXmQ4AQAAAAAAwKnIcAIAwMQMFy3ra7ho6WAAAICC5qr4ydaWWZHhBAAAAAAAAKciwwkAABNz1bK+rlo6GAAAoKC5Kn6ytWVWZDgBAAAAAADAqchwAgDAxLIMN2UZLlilzijwJgAAAFzCVfHTpbZc0kyhIMMJAAAAAAAATkWGEwAAJmaVRVYX3F+yysS35wAAwE3FVfHTpbbMG0OR4QRcp2bMmCGLxaJDhw4VdlcKxSeffKJKlSrJw8NDQUFBTq9/2LBhsljMO0Fffh06dEgWi0UzZswo7K4AAG5QFotFw4YNK+xuXLPOnTurbNmyhd2NQpGZmalBgwYpMjJSbm5uat26tdPbaNy4sRo3buz0em9UN3usj5sDA07IN9svx02bNuV4vHHjxqpWrZrDvmXLlqlbt26qVq2a3N3dc/0yX7VqlSwWiywWizZv3pzteOfOneXn5+ewb+PGjfrf//6n2rVry8PDI8+DCFu2bJHFYtFLL72Ua5l9+/bJYrGof//+earTbObOnavmzZurePHi8vT0VEREhNq3b68VK1YUaLu//PKLOnfurPLly+uDDz7Q+++/X6DtuZrtM969e/ccj7/44ov2Mn/99Ve+61+8ePENHfADwPVux44deuihhxQVFSVvb2+VKlVK9913nyZOnFjYXbuuvfXWW7JYLFq+fHmuZT744ANZLBbNnz/fhT27Ply8eFHjx4/XXXfdpcDAQHl7e+vWW29V79699euvvxZo2x999JHefPNNPfTQQ5o5c6b69etXoO250uV/X3z66ac5lqlXr54sFku2v2HyavLkydy0A3LAgBNcIiEhQQkJCQoMDFRERESezsnrH8yLFy/WtGnTZLFYVK5cuTz36fbbb1elSpX02Wef5VomISFBkvTEE0/kuV5n6dixoy5cuKCoqCiXt20Yhrp06aK2bdvqxIkT6t+/v6ZOnar4+Hj99ttvatKkidatW1dg7a9atUpWq1UTJkxQ586d1b59e6e38dJLL+nChQtOrzevvL29NWfOHKWnp2c79tlnn8nb2/ua6168eLGGDx+er3OioqJ04cIFdezY8ZrbxfXJtqyvKzbgZrBu3Trdcccd+vnnn/XUU0/p3XffVffu3eXm5qYJEyYUdveua48++qjc3Nzs8VVOEhISVKxYMTVv3tyFPbvkgw8+0N69e13eriT99ddfql+/vvr376/Q0FCNGDFCkyZNUuvWrTV//vxrHgjJqxUrVqhUqVIaP368OnbsqEaNGjm9jWXLlmnZsmVOrzevvL29c/zsHTp0SOvWrftPsde1DDgVZqyPq3Nl/GTmGIo5nOASr732mj744AN5eHjogQce0M6dO69YvlatWlq4cKG2bNmi22+//Yple/XqpcGDB8vHxyffd4A6dOigl19+WT/++KPq1q2b7fhnn32mSpUqXbUPBcHd3V3u7u4ub1eSxo0bpxkzZqhv3772u5E2L774oj755BMVKVJwvz5OnjwpSQXyKJ1NkSJFCvQarqZZs2aaP3++vv32Wz344IP2/evWrdPBgwfVrl07zZkzp8D7kZmZKavVKk9Pz/8UaAHAzWLUqFEKDAzUTz/9lO17yvb9hZxFRETonnvu0ddff60pU6bIy8vL4fjRo0e1Zs0a9ejRQx4eHi7vX2G0adO5c2dt3bpVX331ldq1a+dwbOTIkXrxxRcLtP2TJ08WaNwlSZ6engVa/9Xcf//9mj9/vv766y8VL17cvj8hIUFhYWG65ZZbdPr06QLvR2pqqnx9fQs11gdchQwnuERERES+vsT79Omj4ODgPGU5hYWFycfH55r61aFDB0nK8W7H5s2btXfvXnuZb775Ri1atFBERIS8vLxUvnx5jRw5UllZWdnO3bBhg+6//34FBwfL19dXNWrUyHbX85dfflH79u1VokQJ+fj4qGLFig7BRE7PdZctW1YPPPCA1q5dqzvvvFPe3t4qV66cPv7442x9OHPmjPr27avIyEh5eXmpQoUKeuONN2S1Wq/4nly4cEGjR49WpUqVNHbs2BwfUezYsaPuvPNO++vffvtNDz/8sEJCQlS0aFHVrVtXixYtcjjHls785ZdfatSoUSpdurS8vb3VpEkT7d+/3+EaX3nlFUlSiRIlHOaDyG1uiLJly6pz58721xkZGRo+fLhuueUWeXt7q1ixYqpfv74SExPtZXKawykzM1MjR45U+fLl5eXlpbJly+qFF15QWlpatvby+nPITalSpdSwYcNsn71Zs2apevXqOd7J/P777/Xwww+rTJky8vLyUmRkpPr16+eQqdW5c2dNmjTJ/n7ZNumfeZrGjh2rt99+236du3fvzjaH08mTJ1WiRAk1btxYhvHPRIb79++Xr6+vHnnkkTxfKwqXbVlfV2zAzeDAgQOqWrVqjn+ch4aGZtv36aefqnbt2vLx8VFISIgeffRRHTlyxKFMXn6/S1JSUpK6dOmi0qVLy8vLSyVLltSDDz6YbQ6YyZMnq2rVqvLy8lJERITi4+N15swZhzK2KRB2796te+65R0WLFlWpUqU0ZswYh3Lp6ekaOnSoateurcDAQPn6+qpBgwZauXJl3t+0yzzxxBNKTk7OFidI0ueffy6r1WqPvcaOHau7775bxYoVk4+Pj2rXrq2vvvoqx3o//fRT3XnnnSpatKiCg4PVsGHDbNk03377rRo1aiR/f38FBASoTp06Dt/D/57D6fLvzffff9/+vVmnTh399NNP2frwyy+/6KGHHlJISIi8vb11xx135OnRwA0bNmjRokXq1q1btsEmSfLy8tLYsWMd9q1YsUINGjSQr6+vgoKC9OCDD2rPnj0OZWyxzv79+9W5c2cFBQUpMDBQXbp00fnz5x2uceXKldq1a5c9bli1apU9dlu1apVDvTnN+5iXz2ZOczidPHlS3bp1U1hYmLy9vVWzZk3NnDkzx/by+nPIzYMPPigvLy/Nnj3bYX9CQoLat2+f4+DP9OnTde+99yo0NFReXl6qUqWKpkyZ4lCmbNmy2rVrl1avXm1//2zXaYvnV69erf/9738KDQ1V6dKlHY7Z3qMVK1bIzc1NQ4cOzdY/i8WSrV0ULFfGT2aOochwwjVLTk7OcX6ZjIyM/1x3QECA+vXrp6FDh+Ypy+laRUdH6+6779aXX36p8ePHO3zR2AKQxx9/XNKlLwU/Pz/1799ffn5+WrFihYYOHaqUlBS9+eab9vMSExP1wAMPqGTJknr22WcVHh6uPXv2aOHChXr22WclSdu3b1eDBg3k4eGhHj16qGzZsjpw4IAWLFigUaNGXbHP+/fv10MPPaRu3bqpU6dO+uijj9S5c2fVrl1bVatWlSSdP39ejRo10tGjR/X000+rTJkyWrdunYYMGaLjx4/r7bffzrX+tWvX6tSpU+rbt2+e7rqcOHFCd999t86fP69nnnlGxYoV08yZM9WqVSt99dVXatOmjUP5119/XW5ubhowYICSk5M1ZswYdejQQRs2bJAkvf322/r44481d+5cTZkyRX5+fqpRo8ZV+3G5YcOGafTo0erevbvuvPNOpaSkaNOmTdqyZYvuu+++XM/r3r27Zs6cqYceekjPPfecNmzYoNGjR2vPnj2aO3euQ9m8/Byu5vHHH9ezzz6rc+fOyc/PT5mZmZo9e7b69++vixcvZis/e/ZsnT9/Xr169VKxYsW0ceNGTZw4UX/88Yc9eHr66ad17NgxJSYm6pNPPsmx3enTp+vixYvq0aOHvLy8FBISkm0gMjQ0VFOmTNHDDz+siRMn6plnnpHValXnzp3l7++vyZMn5+kaAcBsoqKitH79eu3cufOqjzmNGjVKL7/8stq3b6/u3bvrzz//1MSJE9WwYUNt3brVPmiVl9/vktSuXTvt2rVLffr0UdmyZXXy5EklJibq8OHD9oGSYcOGafjw4WratKl69eqlvXv3asqUKfrpp5/0ww8/ONwAPH36tJo1a6a2bduqffv2+uqrrzR48GBVr17d/khbSkqKpk2bpscee0xPPfWUzp49qw8//FBxcXHauHGjatWqla/3r23bturVq5cSEhLUtm1bh2MJCQmKiopSvXr1JEkTJkxQq1at1KFDB6Wnp+vzzz/Xww8/rIULF6pFixb284YPH65hw4bp7rvv1ogRI+Tp6akNGzZoxYoVio2NlXQpjuvatauqVq2qIUOGKCgoSFu3btWSJUvssV5uEhISdPbsWT399NOyWCwaM2aM2rZtq99++83+fu7atUv16tVTqVKl9Pzzz8vX11dffvmlWrdurTlz5mSLhy5nG5TK62Pty5cvV/PmzVWuXDkNGzZMFy5c0MSJE1WvXj1t2bIl21yp7du3V3R0tEaPHq0tW7Zo2rRpCg0N1RtvvKESJUrok08+0ahRo3Tu3DmNHj1aklS5cuVsA1hXkpfP5r9duHBBjRs31v79+9W7d29FR0dr9uzZ6ty5s86cOWOPm23y8nO4kqJFi+rBBx/UZ599pl69ekmSfv75Z+3atUvTpk3T9u3bs50zZcoUVa1aVa1atVKRIkW0YMEC/e9//5PValV8fLykS7Frnz595OfnZ795HBYW5lDP//73P5UoUUJDhw5Vampqjv2799579b///U+jR49W69atdfvtt+v48ePq06ePmjZtqp49e171GoHrjgHk0/Tp0w1JV9yqVq2a6/ktWrQwoqKicjy2cuVKQ5Ixe/Zs48yZM0ZwcLDRqlUr+/FOnToZvr6+udYdHx9v5PdjPWnSJEOSsXTpUvu+rKwso1SpUkZMTIx93/nz57Od+/TTTxtFixY1Ll68aBiGYWRmZhrR0dFGVFSUcfr0aYeyVqvV/v8NGzY0/P39jd9//z3XMrb3+eDBg/Z9UVFRhiRjzZo19n0nT540vLy8jOeee86+b+TIkYavr6/x66+/OtT//PPPG+7u7sbhw4dzfT8mTJhgSDLmzp2ba5nL9e3b15BkfP/99/Z9Z8+eNaKjo42yZcsaWVlZhmH887OtXLmykZaWlq29HTt22Pe98sorhiTjzz//dGhLkvHKK69k60NUVJTRqVMn++uaNWsaLVq0uGK/bW3YbNu2zZBkdO/e3aHcgAEDDEnGihUrHNrLy88hN5KM+Ph449SpU4anp6fxySefGIZhGIsWLTIsFotx6NChHN+DnD6Do0ePNiwWi8NnKbd/BwcPHjQkGQEBAcbJkydzPDZ9+nSH/Y899phRtGhR49dffzXefPNNQ5Ixb968q14jCl9ycrIhyZjz863Gkt8qF/g25+dbDUlGcnJyYV86UKCWLVtmuLu7G+7u7kZMTIwxaNAgY+nSpUZ6erpDuUOHDhnu7u7GqFGjHPbv2LHDKFKkiMP+vPx+P336tCHJePPNN3Pt28mTJw1PT08jNjbW/v1rGIbx7rvvGpKMjz76yL6vUaNGhiTj448/tu9LS0szwsPDjXbt2tn3ZWZmOnxv2/oSFhZmdO3a1WF/bt/T//bwww8b3t7eDr8vfvnlF0OSMWTIEPu+f78v6enpRrVq1Yx7773Xvm/fvn2Gm5ub0aZNG4drNox/4qozZ84Y/v7+xl133WVcuHAhxzKGcSnOvDxGtX03FitWzDh16pR9/zfffGNIMhYsWGDf16RJE6N69er2mNBW9913323ccsstV3w/2rRpY0jKFjvmplatWkZoaKjx999/2/f9/PPPhpubm/Hkk0/a99liiX//nNq0aWMUK1bMYV+jRo2yxe+22G3lypUO+/8dM+Tls2lro1GjRvbXb7/9tiHJ+PTTT+370tPTjZiYGMPPz89ISUlxaC8vP4ecXP73xcKFCw2LxWKPhQcOHGiUK1cu1/cgp3+bcXFx9nNsqlat6nBtNrZ4vn79+kZmZmaOxy6P9VNTU40KFSoYVatWNS5evGi0aNHCCAgIyPY3AwqOq+Mns8dQ5s3dQoGbNGmSEhMTs235zUbJTWBgoPr27av58+dr69atTqkzJ4888og8PDwcUqpXr16to0eP2lO6JTk8tnf27Fn99ddfatCggc6fP69ffvlFkrR161YdPHhQffv2zZZqb3us6c8//9SaNWvUtWtXlSlTJscyV1KlShU1aNDA/rpEiRKqWLGifvvtN/u+2bNnq0GDBgoODtZff/1l35o2baqsrCytWbMm1/pTUlIkSf7+/lfti3Rpguo777xT9evXt+/z8/NTjx49dOjQIe3evduhfJcuXRye4bddy+X9/6+CgoK0a9cu7du3L8/nLF68WJKyrUj43HPPSVK21P+8/ByuJjg4WM2aNbNPXJ+QkKC7774718kjL/8Mpqam6q+//tLdd98twzDy9W+kXbt2KlGiRJ7KvvvuuwoMDNRDDz2kl19+WR07dnSYcwoAbjb33Xef1q9fr1atWunnn3/WmDFjFBcXp1KlSjk8PvX111/LarWqffv2Dt/F4eHhuuWWWxweScvL73cfHx95enpq1apVuc4zs3z5cqWnp6tv375yc/snzH/qqacUEBCQ7bvMz8/PYWEUT09P3XnnnQ7fZe7u7vbvbavVqlOnTikzM1N33HGHtmzZci1voZ544gldvHhRX3/9tX2fLQ7LLfY6ffq0kpOT1aBBA4d2582bJ6vVqqFDhzpcs/RPXJWYmKizZ8/q+eefzzZfYV5ir0ceeUTBwcH21/+OXU6dOqUVK1aoffv29hjxr7/+0t9//624uDjt27dPR48ezbX+/MRex48f17Zt29S5c2eFhITY99eoUUP33XefPZ653L8zYxo0aKC///7b3u5/lZfPZk4WL16s8PBwPfbYY/Z9Hh4eeuaZZ3Tu3DmtXr3aofzVfg55ERsbq5CQEH3++ecyDEOff/65Q/v/dvln0PZ0R6NGjfTbb78pOTk5z+0+9dRTeXpyoGjRopoxY4b27Nmjhg0batGiRRo/fny2vxmAGwUDTrhmd955p5o2bZptu/yL4L969tlnFRQUVKBLvBcrVkxxcXGaO3eu/TGmhIQEFSlSxGF1tF27dqlNmzYKDAxUQECASpQoYQ/SbF84Bw4ckKQrptjbvhSvdbWRnL5wgoODHb7g9+3bpyVLlqhEiRIOW9OmTSVdeVLTgIAASZcG1fLi999/V8WKFbPtr1y5sv34lfpv+7w4c5LGESNG6MyZM7r11ltVvXp1DRw4MMc06cv9/vvvcnNzU4UKFRz2h4eHKygo6KrXIWX/OeTF448/bk85nzdv3hXT+g8fPmwPMP38/FSiRAn7KjL5CXqio6PzXDYkJETvvPOOtm/frsDAQL3zzjt5PhfXB6vclOWCzUpIgZtInTp19PXXX+v06dPauHGjhgwZorNnz+qhhx6y32jZt2+fDMPQLbfcku37eM+ePQ7fxXn5/e7l5aU33nhD3377rcLCwtSwYUONGTNGSUlJ9nps31X//l729PRUuXLlsn2XlS5dOtuAS07fZTNnzlSNGjXs8yKWKFFCixYtytd3z+WaN2+ukJAQh5t9n332mWrWrOnwWPrChQtVt25deXt7KyQkRCVKlNCUKVMc2j1w4IDc3NxUpUqVXNvLS3x2JVeLXfbv3y/DMPTyyy9n+1nb5qV0VuyV289YuhR7/fXXX9ke2Sro2Csvn82c/P7777rllluyDRQWZAzp4eGhhx9+WAkJCVqzZo2OHDlyxdjrhx9+UNOmTe1zZZUoUUIvvPCCpIKLverVq6devXpp48aNiouLU9euXfN8LpzHVfGT2WMo5nDCdc2W5TRs2LACzXJ64okntHDhQi1cuFCtWrXSnDlzFBsba88COXPmjBo1aqSAgACNGDFC5cuXl7e3t7Zs2aLBgwdfdSJuZ8rt7ohx2cTOVqtV9913nwYNGpRj2VtvvTXX+itVqiRJ2rFjh1q3bn3tHc1FXvqfX/+euL1hw4Y6cOCAvvnmGy1btkzTpk3T+PHjNXXqVHXv3v2KdeXlTqfkvOto1aqVvLy81KlTJ6WlpTkMcl4uKytL9913n06dOqXBgwerUqVK8vX11dGjR9W5c+d8fQbzO8n+0qVLJV0K6P74448CX8UGAG4Unp6eqlOnjurUqaNbb71VXbp00ezZs/XKK6/IarXKYrHo22+/zfE7w8/PT1L+fr/37dtXLVu21Lx587R06VK9/PLLGj16tFasWKHbbrst3/3Py3fZp59+qs6dO6t169YaOHCgQkND5e7urtGjR9sHcvLLw8ND7du31wcffKATJ07o8OHD2rdvn8OE5d9//71atWqlhg0bavLkySpZsqQ8PDw0ffr0HBd7KUhXe59sP6MBAwYoLi4ux7L/vqF1uctjr8uzp53lWmOW3GKinBbMcfZnMyfOir0ef/xxTZ06VcOGDVPNmjVzHaw8cOCAmjRpokqVKumtt95SZGSkPD09tXjxYo0fP77AYq+0tDT7RO0HDhzQ+fPnVbRo0TyfD1xPGHDCda9v3756++23NXz48AL7Q7dVq1by9/dXQkKCPDw8dPr0aYeU7lWrVunvv//W119/rYYNG9r3Hzx40KGe8uXLS5J27txpzyb6t3LlytnLFJTy5cvr3LlzufbhSurXr6/g4GB99tlneuGFF66a/hsVFaW9e/dm2297zDC3x8OuRXBwcLZVdtLT03X8+PFsZUNCQtSlSxd16dJF586dU8OGDTVs2LBcB5yioqJktVq1b98++5016dKk6GfOnHHqdVzOx8dHrVu31qeffqrmzZs7LNN7uR07dujXX3/VzJkz9eSTT9r3X77ynk1eB83yYsmSJZo2bZoGDRqkWbNmqVOnTtqwYYOKFOHrAwAud8cdd0iS/TupfPnyMgxD0dHRV7zRk5/f77Z6n3vuOT333HPat2+fatWqpXHjxunTTz+1f1ft3bvXHm9Il74rDx48eE1xwVdffaVy5crp66+/dvh+sWXuXKsOHTpo6tSp+uKLL3Tw4EFZLBaHR5vmzJkjb29vLV26VF5eXvb906dPd6infPnyslqt2r17d64TmF8en11p4Oda2d5rDw+Pa3qPW7ZsqdGjR+vTTz+96oDT5T/jf/vll19UvHhx+fr65rsPObFlEP079vp35pHNlT6bOYmKitL27dtltVodspwKIoa8XP369VWmTBmtWrVKb7zxRq7lFixYoLS0NM2fP98huyqnFRqdGXu98sor2rNnj8aOHavBgwfr+eefJ8McNyzz5m7BNGxZTt988422bdtWIG34+PioTZs2Wrx4saZMmSJfX1+HeWpsgy6X30FJT0/PtlLX7bffrujoaL399tvZvpxt55YoUUINGzbURx99pMOHD+dY5r9q37691q9fb89MudyZM2eUmZmZ67lFixbV4MGDtWfPHg0ePDjHPn366afauHGjJOn+++/Xxo0btX79evvx1NRUvf/++ypbtuwVU9zzq3z58tnmn3r//fez3Wn7+++/HV77+fmpQoUKSktLy7Xu+++/X5KyreD31ltvSZLDajjONmDAAL3yyit6+eWXcy2T02fQMAxNmDAhW1lboPnvz2B+nTlzxr7S32uvvaZp06Zpy5Yteu211/5TvXAtlvQFnGvlypU5fjfa5s6xPerUtm1bubu7a/jw4dnKG4Zh/67K6+/38+fPZ1vBtHz58vL397d/vzVt2lSenp565513HOr78MMPlZycfE3fZTn1b8OGDQ7f+9eiXr16Klu2rD799FN98cUXatSokX25eFu7FovF4Tv+0KFDmjdvnkM9rVu3lpubm0aMGJEt48TW59jYWPn7+2v06NHZ3kNnxF6hoaFq3Lix3nvvvRxvgv35559XPD8mJkbNmjXTtGnTsl2fdCnmHDBggCSpZMmSqlWrlmbOnOnwPb9z504tW7bMHs84Q1RUlNzd3bPFXv+Of/Py2czJ/fffr6SkJH3xxRf2fZmZmZo4caL8/Pzsj5U6m8Vi0TvvvKNXXnnliisD5vTZT05OzjboKV2Kvf5r3CVd+rc1duxY9e3bV88995wGDhyod999N9t8Vih4royfzBxDcYsaLrF9+3b7RJr79+9XcnKyXn31VUlSzZo11bJlyyue/+yzz2r8+PH6+eefs921+f333+3Lv2/atEmS7HVHRUXleYnZJ554Qh9//LGWLl2qDh06OLRz9913Kzg4WJ06ddIzzzwji8WiTz75JFuQ4ubmpilTpqhly5aqVauWunTpopIlS+qXX37Rrl277ANA77zzjurXr6/bb79dPXr0UHR0tA4dOqRFixY5ZVBt4MCBmj9/vh544AF17txZtWvXVmpqqnbs2KGvvvpKhw4dyjWTxnb+rl27NG7cOK1cuVIPPfSQwsPDlZSUpHnz5mnjxo1at26dJOn555/XZ599pubNm+uZZ55RSEiIZs6cqYMHD2rOnDnZnsv/L7p3766ePXuqXbt2uu+++/Tzzz9r6dKl2a6lSpUqaty4sWrXrq2QkBBt2rRJX331lXr37p1r3TVr1lSnTp30/vvv2x+h3Lhxo2bOnKnWrVvrnnvucdp15NR2zZo1r1imUqVKKl++vAYMGKCjR48qICBAc+bMyXHegtq1a0uSnnnmGcXFxcnd3V2PPvpovvv17LPP6u+//9by5cvl7u6uZs2aqXv37nr11Vf14IMPXrXPAGBGffr00fnz59WmTRtVqlRJ6enpWrdunb744guVLVtWXbp0kXTpD+5XX31VQ4YM0aFDh9S6dWv5+/vr4MGDmjt3rnr06KEBAwbk+ff7r7/+qiZNmqh9+/aqUqWKihQporlz5+rEiRP23/ElSpTQkCFDNHz4cDVr1kytWrXS3r17NXnyZNWpU8dhgvC8euCBB/T111+rTZs2atGihQ4ePKipU6eqSpUqOnfu3DW/jxaLRY8//rj9JsaIESMcjrdo0UJvvfWWmjVrpscff1wnT57UpEmTVKFCBYd5GStUqKAXX3xRI0eOVIMGDdS2bVt5eXnpp59+UkREhEaPHq2AgACNHz9e3bt3V506dfT4448rODhYP//8s86fP6+ZM2de83XYTJo0SfXr11f16tX11FNPqVy5cjpx4oTWr1+vP/74Qz///PMVz//4448VGxurtm3bqmXLlmrSpIl8fX21b98+ff755zp+/LjGjh0rSXrzzTfVvHlzxcTEqFu3brpw4YImTpyowMBAp857GhgYqIcfflgTJ06UxWJR+fLltXDhwmzzUeXls5mTHj166L333lPnzp21efNmlS1bVl999ZV++OEHvf3223lewOZaPPjgg1ddBCU2Nlaenp5q2bKlnn76aZ07d04ffPCBQkNDsw0s1q5dW1OmTNGrr76qChUqKDQ0VPfee2+++nTx4kV16tRJt9xyi0aNGiVJGj58uBYsWKAuXbpox44dTsteA1zGFUvhwVxsS3j+9NNPOR7PaUlR2zk5bZcvZ3/5sqX/Zlva1dfX12G/7ZyctpyWJ81NZmamUbJkSUOSsXjx4mzHf/jhB6Nu3bqGj4+PERERYV8GWTksF7t27VrjvvvuM/z9/Q1fX1+jRo0axsSJEx3K7Ny502jTpo0RFBRkeHt7GxUrVjRefvnlbO/Z5UulRkVFGS1atMjWt38vM2sYhnH27FljyJAhRoUKFQxPT0+jePHixt13322MHTs229LNufnqq6+M2NhYIyQkxChSpIhRsmRJ45FHHjFWrVrlUO7AgQPGQw89ZL+WO++801i4cKFDmdx+tv9eWtcw/vlZ//nnnw5ls7KyjMGDBxvFixc3ihYtasTFxRn79+83oqKiHD5Hr776qnHnnXcaQUFBho+Pj1GpUiVj1KhRDtdta+NyGRkZxvDhw43o6GjDw8PDiIyMNIYMGeKwxLFh5O/nkBNJRnx8/BXL5PQe7N6922jatKnh5+dnFC9e3HjqqaeMn3/+Odv7l5mZafTp08coUaKEYbFY7Ndpe69zWrb43z8H21LD48aNcyiXkpJiREVFGTVr1szz5wiFw7asb8K2asa8AzULfEvYVi1fS/pOnjzZqF69uuHv72/4+/sbdevWdfjda1uy/fLt6aefdqjj999/N+6//37Dx8fHKFGihDFgwAAjIyPDoczKlSuN2267zfD09DTKly/v8G8FuBbffvut0bVrV6NSpUqGn5+f4enpaVSoUMHo06ePceLEiWzl58yZY9SvX9/w9fU1fH19jUqVKhnx8fHG3r177WXy8vv9r7/+MuLj441KlSoZvr6+RmBgoHHXXXcZX375ZbY23333XaNSpUqGh4eHERYWZvTq1cs4ffq0Q5mc4jXDMIxOnToZUVFR9tdWq9V47bXXjKioKMPLy8u47bbbjIULF2YrZxiXvt9eeeWVPL+Xu3btMiQZXl5e2fpnGIbx4YcfGrfccovh5eVlVKpUyZg+fXqO39+GYRgfffSRcdtttxleXl5GcHCw0ahRIyMxMdGhzPz58427777b8PHxMQICAow777zT+Oyzz3K99it9b+Z0rQcOHDCefPJJIzw83PDw8DBKlSplPPDAA8ZXX32Vp/fj/PnzxtixY406derYP1u33HKL0adPH2P//v0OZZcvX27Uq1fPfi0tW7Y0du/e7VAmt3gqpxgzt8/Dn3/+abRr184oWrSoERwcbDz99NPGzp07r+mzmVOcdOLECaNLly5G8eLFDU9PT6N69erZfk/n9+fwb1f6++Lf/fv3ezB//nyjRo0ahre3t1G2bFnjjTfeMD766KNs719SUpLRokULw9/f3+FvkCv93fTvn0O/fv0Md3d3Y8OGDQ7lNm3aZBQpUsTo1avXFfsP53B1/HQtMdSNxGIYTnqGBwAAXDdSUlIUGBiohG3VVNT/6ksx/1fnz2bp8Vo7lZycbF9x6UoWLFggd3d33XLLLTIMQzNnztSbb76prVu3qmrVqmrcuLFuvfVWh6yHokWL2uvOyspSrVq1FB4erjfffFPHjx/Xk08+qaeeesqeMXHw4EFVq1ZNPXv2VPfu3fXdd9+pb9++WrRoUa4T+wIAgJuXq+MnKf8x1I2ER+oAADCxLMOiLMN5k5leqZ38+Pej1KNGjdKUKVP0448/2pdFL1q0qMLDw3M8f9myZdq9e7eWL1+usLAw1apVSyNHjtTgwYM1bNgweXp6aurUqYqOjta4ceMkXVpqe+3atRo/fjwDTgAAIFeuip9sbZmVeWenAgAAN4SsrCx9/vnnSk1NVUxMjH3/rFmzVLx4cVWrVk1DhgzR+fPn7cfWr1+v6tWrKywszL4vLi5OKSkp2rVrl73Mv1eMiouL+8+THQMAAODqyHACAMDEsuSmLBfcX8rSpSf0U1JSHPZ7eXk5LGl+uR07digmJkYXL16Un5+f5s6da1/Z8vHHH1dUVJQiIiK0fft2DR48WHv37tXXX38tSUpKSnIYbJJkf52UlHTFMikpKbpw4YJ8fHz+41UDAAAzclX8dKkt885yxIATAABwmsjISIfXr7zySq6rJlWsWFHbtm1TcnKyvvrqK3Xq1EmrV69WlSpV1KNHD3u56tWrq2TJkmrSpIkOHDig8uXLF+QlAAAAwAkYcAIAwMSshpusRsHfobP+/xokR44ccZjwMrfsJkny9PRUhQoVJF1aUvqnn37ShAkT9N5772Ure9ddd0mS9u/fr/Llyys8PFwbN250KHPixAlJss/7FB4ebt93eZmAgACymwAAQK5cFT9dasu8GU7M4QQAAJwmICDAYbvSgNO/Wa1WpaWl5Xhs27ZtkqSSJUtKkmJiYrRjxw6dPHnSXiYxMVEBAQH2x/JiYmL03XffOdSTmJjoME8UAAAACsZNl+FktVp17Ngx+fv7y2Ix72zwAIDrk2EYOnv2rCIiIuTmdvPe9xkyZIiaN2+uMmXK6OzZs0pISNCqVau0dOlSHThwQAkJCbr//vtVrFgxbd++Xf369VPDhg1Vo0YNSVJsbKyqVKmijh07asyYMUpKStJLL72k+Ph4+yBXz5499e6772rQoEHq2rWrVqxYoS+//FKLFi0qzEu/YRFDAQAKC/HTjemmG3A6duxYtvklAABwtSNHjqh06dIF3o6rJw3Pq5MnT+rJJ5/U8ePHFRgYqBo1amjp0qW67777dOTIES1fvlxvv/22UlNTFRkZqXbt2umll16yn+/u7q6FCxeqV69eiomJka+vrzp16qQRI0bYy0RHR2vRokXq16+fJkyYoNKlS2vatGmKi4tz2nXfTIihAACFzWzx06W2zPtI3U034OTv7y9J+n1LWQX4MTIKXIs2t1Yv7C4AN6xMZWitFtu/j25WH374Ya7HIiMjtXr16qvWERUVpcWLF1+xTOPGjbV169Z89w/ZEUMB/x0xFHBtiJ9uTDfdgJMtBTzAz00B/gRLwLUoYvEo7C4AN67/v4nlqkeSrJKyjIJvy1rgLaCwEUMB/x0xFHCNTBo/2doyK6IFAAAAAAAAONVNl+EEAMDNxCo3WV1wf8kVbQAAALiCq+InW1tmZd4rAwAAAAAAQKEgwwkAABPLMtyUZbhglToXtAEAAOAKroqfbG2ZlXmvDAAAAAAAAIWCAScAAAAAAAA4FY/UAQBgYlZZZFXBL+vrijYAAABcwVXxk60tsyLDCQAAAAAAAE5FhhMAACbGpOEAAAD5w6ThzmHeKwMAAAAAAEChIMMJAAATy5Kbslxwf8kVbQAAALiCq+InW1tmZd4rAwAAAAAAQKEgwwkAABOzGhZZDResUueCNgAAAFzBVfGTrS2zIsMJAAAAAAAATsWAEwAAAAAAAJyKR+oAADAxq4smvbRyDwsAAJiEq+InW1tmZd4rAwAAAAAAQKEgwwkAABOzGm6yGi7IcHJBGwAAAK7gqvjJ1pZZmffKAAAAAAAATGL06NGqU6eO/P39FRoaqtatW2vv3r0OZS5evKj4+HgVK1ZMfn5+ateunU6cOOFQ5vDhw2rRooWKFi2q0NBQDRw4UJmZmQ5lVq1apdtvv11eXl6qUKGCZsyYke/+MuAEAICJZcnisg0AAMAMXBk/5SeGWr16teLj4/Xjjz8qMTFRGRkZio2NVWpqqr1Mv379tGDBAs2ePVurV6/WsWPH1LZt23+uLStLLVq0UHp6utatW6eZM2dqxowZGjp0qL3MwYMH1aJFC91zzz3atm2b+vbtq+7du2vp0qX5eh95pA4AAAAAAOA6t2TJEofXM2bMUGhoqDZv3qyGDRsqOTlZH374oRISEnTvvfdKkqZPn67KlSvrxx9/VN26dbVs2TLt3r1by5cvV1hYmGrVqqWRI0dq8ODBGjZsmDw9PTV16lRFR0dr3LhxkqTKlStr7dq1Gj9+vOLi4vLcXzKcAAAwMdscBK7YAAAAzMCV8ZMthkpJSXHY0tLSrtrP5ORkSVJISIgkafPmzcrIyFDTpk3tZSpVqqQyZcpo/fr1kqT169erevXqCgsLs5eJi4tTSkqKdu3aZS9zeR22MrY68oroEAAAAAAAoBBFRkYqMDDQvo0ePfqK5a1Wq/r27at69eqpWrVqkqSkpCR5enoqKCjIoWxYWJiSkpLsZS4fbLIdtx27UpmUlBRduHAhz9fEI3UAAJhYluSS+ZWyCrwFAAAA13BV/GRrS5KOHDmigIAA+34vL68rnhcfH6+dO3dq7dq1Bdi7/4YMJwAAAAAAgEIUEBDgsF1pwKl3795auHChVq5cqdKlS9v3h4eHKz09XWfOnHEof+LECYWHh9vL/HvVOtvrq5UJCAiQj49Pnq+JAScAAAAAAIDrnGEY6t27t+bOnasVK1YoOjra4Xjt2rXl4eGh7777zr5v7969Onz4sGJiYiRJMTEx2rFjh06ePGkvk5iYqICAAFWpUsVe5vI6bGVsdeQVj9QBAGBirprQm0nDAQCAWbhyQZT8tBMfH6+EhAR988038vf3t8+5FBgYKB8fHwUGBqpbt27q37+/QkJCFBAQoD59+igmJkZ169aVJMXGxqpKlSrq2LGjxowZo6SkJL300kuKj4+3Z1X17NlT7777rgYNGqSuXbtqxYoV+vLLL7Vo0aJ8XRvRIQAAAAAAwHVuypQpSk5OVuPGjVWyZEn79sUXX9jLjB8/Xg888IDatWunhg0bKjw8XF9//bX9uLu7uxYuXCh3d3fFxMToiSee0JNPPqkRI0bYy0RHR2vRokVKTExUzZo1NW7cOE2bNk1xcXH56i8ZTgAAmFiW4aYsF9yhc0UbAAAAruCq+MnWVl4ZhnHVMt7e3po0aZImTZqUa5moqCgtXrz4ivU0btxYW7duzXPfckJ0CAAAAAAAAKciwwkAABMzZJHVBcv6Gi5aOhgAAKCguSp+srVlVmQ4AQAAAAAAwKnIcAIAwMSYwwkAACB/rtc5nG405r0yAAAAAAAAFAoGnAAAAAAAAOBUPFIHAICJWQ2LrEbBT0bpijYAAABcwVXxk60tsyLDCQAAAAAAAE5FhhMAACaWJTdlueD+kivaAAAAcAVXxU+2tszKvFcGAAAAAACAQkGGEwAAJsYcTgAAAPnDHE7OQYYTAAAAAAAAnIoMJwAATMwqN1ldcH/JFW0AAAC4gqviJ1tbZmXeKwMAAAAAAEChIMMJAAATyzIsynLB3ACuaAMAAMAVXBU/2doyKzKcAAAAAAAA4FQMOAEAAAAAAMCpeKQOAAATc9WyvmZe0hcAANxcXBU/2doyKzKcAAAAAAAA4FRkOAEAYGKG4SarUfD3lwwXtAEAAOAKroqfbG2ZlXmvDAAAAAAAAIWCDCcAAEwsSxZlqeDnBnBFGwAAAK7gqvjJ1pZZkeEEAAAAAAAApyLDCQAAE7Marln9xGoUeBMAAAAu4ar4ydaWWZHhBAAAAAAAAKdiwAkAAAAAAABOxSN1AACYmNVFy/q6aulgAACAguaq+MnWllmZ98oAAAAAAABQKMhwAgDAxKyyyOqC5XZd0QYAAIAruCp+srVlVmQ4AQAAAAAAwKnIcAIAwMSyDIuyXLCsryvaAAAAcAVXxU+2tsyKDCcAAAAAAAA4FRlOAACYGKvUAQAA5A+r1DmHea8MAAAAAAAAhYIMJwAATMwqi6wumBvAzCusAACAm4ur4idbW2ZFhhMAAAAAAACcigEnAADgclOmTFGNGjUUEBCggIAAxcTE6Ntvv7Ufv3jxouLj41WsWDH5+fmpXbt2OnHihEMdhw8fVosWLVS0aFGFhoZq4MCByszMdCizatUq3X777fLy8lKFChU0Y8YMV1weAADATY8BJwAATMyQ5VJaeAFvRj7TwUuXLq3XX39dmzdv1qZNm3TvvffqwQcf1K5duyRJ/fr104IFCzR79mytXr1ax44dU9u2be3nZ2VlqUWLFkpPT9e6des0c+ZMzZgxQ0OHDrWXOXjwoFq0aKF77rlH27ZtU9++fdW9e3ctXbrUOW8uAAAwJVfFT9cSQ91ImMMJAAC4XMuWLR1ejxo1SlOmTNGPP/6o0qVL68MPP1RCQoLuvfdeSdL06dNVuXJl/fjjj6pbt66WLVum3bt3a/ny5QoLC1OtWrU0cuRIDR48WMOGDZOnp6emTp2q6OhojRs3TpJUuXJlrV27VuPHj1dcXJzLrxkAAOBmQoYTAAAmZjUsLtskKSUlxWFLS0u7ah+zsrL0+eefKzU1VTExMdq8ebMyMjLUtGlTe5lKlSqpTJkyWr9+vSRp/fr1ql69usLCwuxl4uLilJKSYs+SWr9+vUMdtjK2OgAAAHLiyvjJVZOTFwYGnAAAgNNERkYqMDDQvo0ePTrXsjt27JCfn5+8vLzUs2dPzZ07V1WqVFFSUpI8PT0VFBTkUD4sLExJSUmSpKSkJIfBJttx27ErlUlJSdGFCxf+66UCAADgCnikDgAAE7MabrIaBX9/ydbGkSNHFBAQYN/v5eWV6zkVK1bUtm3blJycrK+++kqdOnXS6tWrC7yvAAAAV+Kq+MnWllkx4AQAAJzGtupcXnh6eqpChQqSpNq1a+unn37ShAkT9Mgjjyg9PV1nzpxxyHI6ceKEwsPDJUnh4eHauHGjQ322VewuL/Pvle1OnDihgIAA+fj4XNP1AQAAIG/MO5QGAABuqPkHrFar0tLSVLt2bXl4eOi7776zH9u7d68OHz6smJgYSVJMTIx27NihkydP2sskJiYqICBAVapUsZe5vA5bGVsdAAAAOWEOJ+cgwwkAALjckCFD1Lx5c5UpU0Znz55VQkKCVq1apaVLlyowMFDdunVT//79FRISooCAAPXp00cxMTGqW7euJCk2NlZVqlRRx44dNWbMGCUlJemll15SfHy8/TG+nj176t1339WgQYPUtWtXrVixQl9++aUWLVpUmJcOAABwU2DACQAAuNzJkyf15JNP6vjx4woMDFSNGjW0dOlS3XfffZKk8ePHy83NTe3atVNaWpri4uI0efJk+/nu7u5auHChevXqpZiYGPn6+qpTp04aMWKEvUx0dLQWLVqkfv36acKECSpdurSmTZumuLg4l18vAADAzYYBJwAATMwqi6wq+FTt/Lbx4YcfXvG4t7e3Jk2apEmTJuVaJioqSosXL75iPY0bN9bWrVvz1TcAAHBzc1X8ZGvLrJjDCQAAAAAAAE5FhhMAACbmqskozTzhJQAAuLm4cjJvM8dQZDgBAAAAAADAqchwAgDAxMhwAgAAyB8ynJyDDCcAAAAAAAA4FRlOAACYGBlOAAAA+UOGk3OQ4QQAAAAAAHADWLNmjVq2bKmIiAhZLBbNmzfP4fi5c+fUu3dvlS5dWj4+PqpSpYqmTp3qUObixYuKj49XsWLF5Ofnp3bt2unEiRMOZQ4fPqwWLVqoaNGiCg0N1cCBA5WZmZmvvjLgBAAAAAAAcANITU1VzZo1NWnSpByP9+/fX0uWLNGnn36qPXv2qG/fvurdu7fmz59vL9OvXz8tWLBAs2fP1urVq3Xs2DG1bdvWfjwrK0stWrRQenq61q1bp5kzZ2rGjBkaOnRovvrKI3UAAJgYj9QBAADkz/X8SF3z5s3VvHnzXI+vW7dOnTp1UuPGjSVJPXr00HvvvaeNGzeqVatWSk5O1ocffqiEhATde++9kqTp06ercuXK+vHHH1W3bl0tW7ZMu3fv1vLlyxUWFqZatWpp5MiRGjx4sIYNGyZPT8889ZUMJwAAAAAAgEKUkpLisKWlpV1TPXfffbfmz5+vo0ePyjAMrVy5Ur/++qtiY2MlSZs3b1ZGRoaaNm1qP6dSpUoqU6aM1q9fL0lav369qlevrrCwMHuZuLg4paSkaNeuXXnuCwNOAACYmCHJKkuBb0ZhXygAAICTuCp+ujyGioyMVGBgoH0bPXr0NfV94sSJqlKlikqXLi1PT081a9ZMkyZNUsOGDSVJSUlJ8vT0VFBQkMN5YWFhSkpKspe5fLDJdtx2LK94pA4AAAAAAKAQHTlyRAEBAfbXXl5e11TPxIkT9eOPP2r+/PmKiorSmjVrFB8fr4iICIesJldgwAkAABNjDicAAID8KYw5nAICAhwGnK7FhQsX9MILL2ju3Llq0aKFJKlGjRratm2bxo4dq6ZNmyo8PFzp6ek6c+aMQ5bTiRMnFB4eLkkKDw/Xxo0bHeq2rWJnK5MXPFIHAAAAAABwg8vIyFBGRobc3ByHetzd3WW1WiVJtWvXloeHh7777jv78b179+rw4cOKiYmRJMXExGjHjh06efKkvUxiYqICAgJUpUqVPPeHDCcAAEyMDCcAAID8uZ5XqTt37pz2799vf33w4EFt27ZNISEhKlOmjBo1aqSBAwfKx8dHUVFRWr16tT7++GO99dZbkqTAwEB169ZN/fv3V0hIiAICAtSnTx/FxMSobt26kqTY2FhVqVJFHTt21JgxY5SUlKSXXnpJ8fHx+XrUjwEnAAAAAACAG8CmTZt0zz332F/3799fktSpUyfNmDFDn3/+uYYMGaIOHTro1KlTioqK0qhRo9SzZ0/7OePHj5ebm5vatWuntLQ0xcXFafLkyfbj7u7uWrhwoXr16qWYmBj5+vqqU6dOGjFiRL76yoATAAAmRoYTAABA/lzPGU6NGzeWYeS+PnB4eLimT59+xTq8vb01adIkTZo0KdcyUVFRWrx4cb769m/M4QQAAAAAAACnYsAJAAAAAAAATsUjdQAAmBiP1AEAAOTP9fxI3Y2EASc43YKZxbTo4+I6ccRTkhRV8aI69EtSnXvPSpKOHfLUByMitGujnzLSLap9T4riXz2q4BKZkqSf1/lp0EMVcqz7ncV7VbHWBUnSb7u99e4LpfXrz0UVGJKpB7v+pfbxJ3M8D7iRPdL7hOrdn6zICmlKv+im3ZuK6sNRJfXHAW97mWfeOKLbGpxTsbAMXTjvpj2bfPXhqJI6sv9Smfvan9KAt4/kWH/76lWU/LeHS64FAJC7zyeG6ofFQTqy30ue3lZVueO8ur14TJEV0uxlJgwqra3f++vvEx7yKWpV5TtS1e3FYypzyz9lJr9USrt+8tXve70VWSFNU5bvdWgn6YinOt2VfVnrtxf8qsq1zxfcBQIu9sRzSer43AmHfUf2e6l7w0qSrh4/SVKt+mfVaVCSyla6qIvn3bR8drCmv15S1izzDhIAznLdDDh17txZM2fO1OjRo/X888/b98+bN09t2rS54qRYuL6UKJmhri8cU6noNBmGRYmzgzWsS7QmLftV4ZHpeuGx8ipX5YLemH1pKceZY0pqaKdoTVi4T25uUpU7UvXZtp0Odc4cU1Lb1vrp1pqXBptSz7rphcfK67YGZ/XMG3/o0B5vvdW/jPwCs3T/E3+7/JqBglQjJlULZhTXr9uKyr2Ioc7PH9drn/2mpxpVVNoFd0nSvu1FteLrYP151FP+wZl64rkTeu2z39TprsqyWi1aPT9Im1b6O9Q74O0j8vCyMthkcoZhkeGCO2euaAM5I4Yyj+3r/dSy81+6tdZ5ZWVKM14vqRceK68PVv8i76JWSdItNS7o3ranVaJUhs6edten48L1wmPlNXPDbrm7/1NX3KOn9MvWojq42yfX9l7/Yr+iKl60vw4IziywawMKy6FfvPX8I+Xsr7MuGyi6WvxUrsoFjfzkoD5/J1RvPlNGxcIz9Mwbf8jNXfpgRERhXA5cxFXxk60ts7puBpykSzOlv/HGG3r66acVHBxc2N3BNaobm+LwusvzSVr4cXH9srmo/j7uoRNHPDVp2V75+l8KnAZO+F3tKlfXtrV+ur3hOXl4GgoJ/SfgycyQ1i8N0INd/5Ll//8trvg6WBkZFvV/64g8PA2VrXhRB3b5aM57JRhwgum82KGcw+txfcvoy527dEuNC9q5wU+S9O2sYvbjJ/7w1Mw3wjX1u18VFpmu4797Kf2im9Iv/jNtX2BIpmrWO6fxz5V2zUUAKFDEUObwWsJvDq+fe/uwHqleXfu2+6h63VRJcohzwiOlToOPq1fTSjpxxFMRZdMlSf979agkKfnv8CsOOAUEZznEXIAZZWVJp//M+eba1eKnRq3O6OAeb80aHy5JOnbIS9NeLakXp/6uT8eF6UKqe471Arjkupo0vGnTpgoPD9fo0aNzLTNnzhxVrVpVXl5eKlu2rMaNG+fCHiK/srKkVfOClHbeTZXvSFVGukWySB6e/9xt9fAyZHGTdm30y7GO9csCdfZ0EcU+csq+b89mX1W/K9WhntqNz+qPA946e4Zf/DA334AsScr1s+7lk6XYR07p+O+e+vNYzgFW04dPKe2CRd8vCiqobuI6YZXFZRsKDzGUOaWmXPo97x+UlePxi+fdtOyLEIWXSVOJiIx81/9K52i1r15V/R+soPVLA/5TX4HrVanodCVs2aUZ6/do8Lu/q0Sp9BzL5RQ/eXgaykhz/JM5/aKbvHwM3VLjQoH3HYXHlfGTmWOo62rAyd3dXa+99pomTpyoP/74I9vxzZs3q3379nr00Ue1Y8cODRs2TC+//LJmzJjh+s7iig7u8daDFarrgbI19c7zkRr64UFF3ZqmSrVT5V3Uqg9HRejieYsunnfTByMiZM2y6NTJnBPuln5WTLUbn3UIpE6fLKLgEo6Ble316T+vq8Q9wKksFkM9hx/Vzo1F9ftex7vWD3T6S/P27dD8AztV596zGvJoOWVm5PxrPu6xU1o5N9gh6wnAjYsYynysVmnqK6VUtc45la100eHYghnF9GCF6nqwQg39tCJAoz8/4HAT7mp8imapxytH9dL7hzTyk99U9c5UDe8azaATTOeXLUU1tm+kXuxQThOfL6XwMukaN3e/fHz/GcS9Uvy0abW/Kt+RqsatT8vNzVCx8Ax16HdpTqiQsPwP8gI3m+vuL/M2bdqoVq1aeuWVV/Thhx86HHvrrbfUpEkTvfzyy5KkW2+9Vbt379abb76pzp0751hfWlqa0tL+mUQxJSUlx3JwrtLl0zQ5ca/On3XX9wuDNPbZKL359T5F3Zqml947pIlDSuubD4vL4ibd0/q0KlQ/L0sOf/f+ecxDm1f564X3Drn8GoDrUe/Xjiqq0kU91zr7xPorvg7WljX+CgnN0EO9/tSL7/2ufg9WyHZnrnLtVEXdmqYxfcq4qtsoRKxSd/MghjKXd18ord9/8dG4efuyHbu37Wnd3vCsTp300FdTQjXq6bIa/80+eXrnbdApsFiW2j39p/11xVoX9PcJD82eEqqYOH7OMI9NK/8ZRD24x0e/bPXVJxt3q2GrM1r62aXH6a4UP21Z7a9pIyP0zOt/aNA7h5WR7qZZb4eqet1UGdbCuiq4AqvUOcd1eWv7jTfe0MyZM7Vnzx6H/Xv27FG9evUc9tWrV0/79u1TVlbOqcajR49WYGCgfYuMjCywfuMfHp6GSkWn65YaF9T1heOKrnJB86aVkHTp0bcZ6/foi+07NXvnTg2aeFh/J3moZJm0bPUs+yJE/sGZiolNdtgfHJqZ7Vls22vbaneA2cSP+kN33ZeiQQ+V11/HPbMdP3/WXccOemnnBj+9+lSUIiukqV7z5Gzlmj1+Svt3emv/jqKu6DYAFyKGMod3XyilDYkBGvPV/hwflfMNsKpUuXRVr5uqlz44pCP7vfTDt4H/qc1Kt53X8UNe/6kO4HqXmuKuP37zss93Jl09fvr6/RJqW6manqhTRQ9Xq6r1Sy79Wzv+O/9egKu5LgecGjZsqLi4OA0ZMuQ/1zVkyBAlJyfbtyNHcl4WHAXLMKSMdMePW2CxLPkFZmnbWj+d+atItsnGDePSgFPTh06ryL+moalcO1U7Nvgq87IYbMsaf5UufzHXeQ6AG5eh+FF/6O5myRr0cHmdOHL1AMdikWQxsj1i4V00Sw1b/nNXD4C5EEPd2Azj0mDTuiWBGjN7v8LL5DzXzL/PkWHJFmfl14FdPgoJ5REhmJt30SxFRKXnOpVHbvGTZNGpEx5Kv+ime9qc0cmjHtq/I/cJ+QFcct09Umfz+uuvq1atWqpYsaJ9X+XKlfXDDz84lPvhhx906623yt09l8lzvbzk5cXosyt99FpJ1bk3RSVKZejCOTetnBus7ev8NCrhgCRp6echKnPLRQUWy9Sezb6aMrSU2vT4U5EVHDOctq31U9JhLzV7PPuqc/e2Oa1Zb4XrrefKqH38SR36xVvzphVXz+HHXHKNgCv1fu2o7mlzWsO6ROvCOTf7fGWpZ92VftFN4WXS1KjVGW1e7a/kU0VUomSG2vc+qfQLbtr4nb9DXY0ePCN3d0PfzWEVq5uFq5b1NfOSvjcaYqgb17svlNbKucEaNv03+fhZ7X8U+/pnycvH0PHfPbV6fpBqNzqrwJBM/XncQ1++GyZPH6vubPLPjbujBz11MdVdp/4sovSLFh3YeekP4zK3XpSHp6HEL4NVxMNQ+WqXJj3+4dtALfs8RH3HMqgIc3lq6DH9uCxAJ//wVLHwDHUckKQsq7RqbnCe46eHep3UppX+MqwW1bs/We3jT2pUzyhZrXzvmZmr4idbW2Z13Q44Va9eXR06dNA777xj3/fcc8+pTp06GjlypB555BGtX79e7777riZPnlyIPcW/nfmriN58JkqnThZRUf8sRVe+qFEJB1S70TlJ0h8HvDR9dEmdPeOusMh0PfbMCbXt8We2epZ8VkxV7jinMrdkf9TON8Cq1z47oHdfKK3ezW5VYEimOvQ74bBUMGAWLTtf+lyP/fqAw/6xfSOV+GWI0tPcVO2uVLV56i/5BWbpzF9FtONHX/V7sIKS/3ZMD2z22Cn98G2gfeUjAOZDDHXjWjizuCRpYLtbHPY/N/6wYh85JU8vq3Zu8NPcD0roXLK7gopnqnrdcxr/zT4FFf9nSoG3B5TR9vX/rP77v9hLg48zN+xWeOSlrKmEt8N14g8PuReRIitc1AtTD6nBA9kfwwZuZMVLZmjI5N/lH5yl5L+LaNdPvur7wC1KPlVE7h5GnuKnOvec1WPPnJCHp6HfdvtoWJeyDnNDAcidxTCMvC9pUYA6d+6sM2fOaN68efZ9hw4dUsWKFZWeni5bN+fMmaOhQ4dq3759KlmypPr06aMBAwbkuZ2UlBQFBgbq9K/lFOB/XT5RCFz34iJqFXYXgBtWppGhVfpGycnJCggouIDV9n13x9d9VcS34LNUMlPTtKnt2wV+XciOGAq4cRBDAdfGrPGTZO4Y6rrJcMppWd6yZcs6rI4iSe3atVO7du1c1CsAAIDrGzEUAAC4Hl03A04AAMD5mMMJAAAgf5jDyTnIhwYAAAAAAIBTkeEEAICJGYZFVjKcAAAA8sxV8ZOtLbMiwwkAAAAAAABORYYTAAAmZkhyxXq018WStwAAAE7gqvjJ1pZZkeEEAAAAAAAAp2LACQAAAAAAAE7FI3UAAJiYVRZZVPCTUVpd0AYAAIAruCp+srVlVmQ4AQAAAAAAwKnIcAIAwMQMw+KS5XbNvKQvAAC4ubgqfrK1ZVZkOAEAAAAAAMCpyHACAMDErIZFFhfcObOa+O4cAAC4ubgqfrK1ZVZkOAEAAAAAAMCpyHACAMDEDOPS5op2AAAAzMBV8ZOtLbMiwwkAAAAAAABOxYATAAAAAAAAnIpH6gAAMDFXLetr5iV9AQDAzcVV8ZOtLbMiwwkAAAAAAABORYYTAAAmRoYTAABA/pDh5BxkOAEAAAAAAMCpyHACAMDErIZFFhfcObOa+O4cAAC4ubgqfrK1ZVZkOAEAAAAAAMCpyHACAMDEDOPS5op2AAAAzMBV8ZOtLbMiwwkAAAAAAABOxYATAAAAAAAAnIpH6gAAMLFLKeEFPxmlmdPBAQDAzcVV8ZOtLbMiwwkAAAAAAABORYYTAAAmZhgWF2U4mXdJXwAAcHNxVfxka8usyHACAAAAAACAU5HhBACAiRn/v7miHQAAADNwVfxka8usyHACAAAAAACAU5HhBACAiTGHEwAAQP4wh5NzkOEEAAAAAAAAp2LACQAAMzNcuOXD6NGjVadOHfn7+ys0NFStW7fW3r17Hco0btxYFovFYevZs6dDmcOHD6tFixYqWrSoQkNDNXDgQGVmZjqUWbVqlW6//XZ5eXmpQoUKmjFjRv46CwAAbi6ujJ9MPIkTA04AAMDlVq9erfj4eP34449KTExURkaGYmNjlZqa6lDuqaee0vHjx+3bmDFj7MeysrLUokULpaena926dZo5c6ZmzJihoUOH2sscPHhQLVq00D333KNt27apb9++6t69u5YuXeqyawUAALgZMYcTAABwuSVLlji8njFjhkJDQ7V582Y1bNjQvr9o0aIKDw/PsY5ly5Zp9+7dWr58ucLCwlSrVi2NHDlSgwcP1rBhw+Tp6ampU6cqOjpa48aNkyRVrlxZa9eu1fjx4xUXF1dwFwgAAHCTI8MJAAAz+/9JLwt60/9PeJmSkuKwpaWl5ambycnJkqSQkBCH/bNmzVLx4sVVrVo1DRkyROfPn7cfW79+vapXr66wsDD7vri4OKWkpGjXrl32Mk2bNnWoMy4uTuvXr8//ewkAAG4OLoqfLo+hzIgMJwAA4DSRkZEOr1955RUNGzbsiudYrVb17dtX9erVU7Vq1ez7H3/8cUVFRSkiIkLbt2/X4MGDtXfvXn399deSpKSkJIfBJkn210lJSVcsk5KSogsXLsjHx+earhMAAABXRoYTAAAmZhiu2yTpyJEjSk5Otm9Dhgy5ah/j4+O1c+dOff755w77e/Toobi4OFWvXl0dOnTQxx9/rLlz5+rAgQMF8VYBAABIcm38ZIuh8mrNmjVq2bKlIiIiZLFYNG/evGxl9uzZo1atWikwMFC+vr6qU6eODh8+bD9+8eJFxcfHq1ixYvLz81O7du104sQJhzrysjDL1TDgBAAAnCYgIMBh8/LyumL53r17a+HChVq5cqVKly59xbJ33XWXJGn//v2SpPDw8GzBke21bd6n3MoEBASQ3QQAAG44qampqlmzpiZNmpTj8QMHDqh+/fqqVKmSVq1ape3bt+vll1+Wt7e3vUy/fv20YMECzZ49W6tXr9axY8fUtm1b+/G8LMySFzxSBwCAidnnB3BBO/krb6hPnz6aO3euVq1apejo6Kues23bNklSyZIlJUkxMTEaNWqUTp48qdDQUElSYmKiAgICVKVKFXuZxYsXO9STmJiomJiYfPUXAADcPFwVP9nayo/mzZurefPmuR5/8cUXdf/99zus7Fu+fHn7/ycnJ+vDDz9UQkKC7r33XknS9OnTVblyZf3444+qW7dunhZmyQsynAAAgMvFx8fr008/VUJCgvz9/ZWUlKSkpCRduHBB0qW7cyNHjtTmzZt16NAhzZ8/X08++aQaNmyoGjVqSJJiY2NVpUoVdezYUT///LOWLl2ql156SfHx8fbMqp49e+q3337ToEGD9Msvv2jy5Mn68ssv1a9fv0K7dgAAgH+71oVXLme1WrVo0SLdeuutiouLU2hoqO666y6Hx+42b96sjIwMh0VVKlWqpDJlytgXVcnLwix5wYATAABmZlv9xBVbPkyZMkXJyclq3LixSpYsad+++OILSZKnp6eWL1+u2NhYVapUSc8995zatWunBQsW2Otwd3fXwoUL5e7urpiYGD3xxBN68sknNWLECHuZ6OhoLVq0SImJiapZs6bGjRunadOmKS4uzjnvLwAAMB9Xxk//H0NFRkYqMDDQvo0ePTrf3T558qTOnTun119/Xc2aNdOyZcvUpk0btW3bVqtXr5Z0aUEVT09PBQUFOZwbFhZ21UVXbMfyikfqAACAyxlXmSEzMjLSHhhdSVRUVLZH5v6tcePG2rp1a776BwAA4EpHjhxRQECA/fXV5sHMidVqlSQ9+OCD9mzuWrVqad26dZo6daoaNWrknM7mERlOAAAAAAAAhSi/C6/kpHjx4ipSpIh9LkubypUr21epCw8PV3p6us6cOeNQ5sSJE1dddMV2LK8YcAIAwMSu1yV9AQAArleujJ+cGUN5enqqTp062rt3r8P+X3/9VVFRUZKk2rVry8PDQ9999539+N69e3X48GH7oioxMTHasWOHTp48aS/z74VZ8oJH6gAAAAAAAG4A586d0/79++2vDx48qG3btikkJERlypTRwIED9cgjj6hhw4a65557tGTJEi1YsECrVq2SJAUGBqpbt27q37+/QkJCFBAQoD59+igmJkZ169aV5Lgwy5gxY5SUlJRtYZa8YMAJAAAzM/5/c0U7AAAAZuCq+MnWVj5s2rRJ99xzj/11//79JUmdOnXSjBkz1KZNG02dOlWjR4/WM888o4oVK2rOnDmqX7++/Zzx48fLzc1N7dq1U1pamuLi4jR58mT7cdvCLL169VJMTIx8fX3VqVMnh4VZ8oIBJwAAAAAAgBtA48aNr7r4SteuXdW1a9dcj3t7e2vSpEmaNGlSrmXysjDL1TDgBACAiRmGRcb/L7db0O0AAACYgaviJ1tbZsWk4QAAAAAAAHAqMpwAADA75lcCAADIH+Kn/4wMJwAAAAAAADgVGU4AAJgYczgBAADkD3M4OQcZTgAAAAAAAHAqBpwAAAAAAADgVDxSBwCAmRlyzaSXTKwJAADMwlXxk60tkyLDCQAAAAAAAE5FhhMAAKZm+f/NFe0AAACYgaviJ1tb5kSGEwAAAAAAAJyKDCcAAMyMOZwAAADyhzmcnIIMJwAAAAAAADgVGU4AAJgZGU4AAAD5Q4aTU5DhBAAAAAAAAKdiwAkAAAAAAABOxSN1AACYmWG5tLmiHQAAADNwVfxka8uk8jTgNH/+/DxX2KpVq2vuDAAAgFkQPwEAgJtZngacWrdunafKLBaLsrKy/kt/AACAExnGpc0V7cAR8RMAADcmV8VPtrbMKk8DTlartaD7AQAAYCrETwAA4Gb2n+Zwunjxory9vZ3VFwAA4GyuWtbXxHfnnI34CQCA65yr4idbWyaV71XqsrKyNHLkSJUqVUp+fn767bffJEkvv/yyPvzwQ6d3EAAA4EZH/AQAAG42+R5wGjVqlGbMmKExY8bI09PTvr9atWqaNm2aUzsHAAD+I9sqK67YkCviJwAAbiCujJ9MHEPle8Dp448/1vvvv68OHTrI3d3dvr9mzZr65ZdfnNo5AAAAMyB+AgAAN5t8DzgdPXpUFSpUyLbfarUqIyPDKZ0CAAAwE+InAABws8n3gFOVKlX0/fffZ9v/1Vdf6bbbbnNKpwAAgHNYDNdtyB3xEwAANw5Xxk9mjqHyvUrd0KFD1alTJx09elRWq1Vff/219u7dq48//lgLFy4siD4CAADc0IifAADAzSbfGU4PPvigFixYoOXLl8vX11dDhw7Vnj17tGDBAt13330F0UcAAHCtDBduyBXxEwAANxBXxk8mjqHyneEkSQ0aNFBiYqKz+wIAAGBaxE8AAOBmck0DTpK0adMm7dmzR9KleQlq167ttE4BAAAncdVyuyZe0teZiJ8AALgBuCp+srVlUvkecPrjjz/02GOP6YcfflBQUJAk6cyZM7r77rv1+eefq3Tp0s7uIwAAwA2N+AkAANxs8j2HU/fu3ZWRkaE9e/bo1KlTOnXqlPbs2SOr1aru3bsXRB8BAMC1Yv6B6wLxEwAANxDmcHKKfGc4rV69WuvWrVPFihXt+ypWrKiJEyeqQYMGTu0cAACAGRA/AQCAm02+B5wiIyOVkZGRbX9WVpYiIiKc0ikAAOAkrrpzZuK7c85A/AQAwA3ElZlHJo6h8v1I3Ztvvqk+ffpo06ZN9n2bNm3Ss88+q7Fjxzq1cwAAAGZA/AQAAG42ecpwCg4OlsXyz8zpqampuuuuu1SkyKXTMzMzVaRIEXXt2lWtW7cukI4CAADcSIifAADAzSxPA05vv/12AXcDAAAUCB6pKzTETwAA3KB4pM4p8jTg1KlTp4LuBwAAgKkQPwEAgJtZvicNv9zFixeVnp7usC8gIOA/dQgAADiRYbm0uaId5AnxEwAA1zlXxU+2tkwq35OGp6amqnfv3goNDZWvr6+Cg4MdNgAAADgifgIAADebfA84DRo0SCtWrNCUKVPk5eWladOmafjw4YqIiNDHH39cEH0EAADXyGK4bkPuiJ8AALhxuDJ+MnMMle9H6hYsWKCPP/5YjRs3VpcuXdSgQQNVqFBBUVFRmjVrljp06FAQ/QQAALhhET8BAICbTb4znE6dOqVy5cpJujTfwKlTpyRJ9evX15o1a5zbOwAA8N8YLtyQK+InAABuIK6Mn0wcQ+V7wKlcuXI6ePCgJKlSpUr68ssvJV26cxcUFOTUzgEAAJgB8RMAALjZ5HvAqUuXLvr5558lSc8//7wmTZokb29v9evXTwMHDnR6BwEAAG50xE8AAOBmk+85nPr162f//6ZNm+qXX37R5s2bVaFCBdWoUcOpnQMAADAD4icAAHCzyfeA079FRUUpKirKGX0BAAC4KRA/AQAAs8vTgNM777yT5wqfeeaZa+4MAABwLotcs9yupeCbuOEQPwEAcGNyVfxka8us8jTgNH78+DxVZrFYCJgAAABE/AQAAG5ueRpwsq2qYiYPNXtARdy9CrsbwA2pSMkLhd0F4MZlTZeSXNieYbm0uaIdODBj/CRJD7VsTQwFXKPUJVmF3QXghpSZmia1dWGDroqfbG2ZVL5XqQMAAAAAAACu5D9PGg4AAK5jxv9vrmgHAADADFwVP9naMikynAAAAAAAAOBUDDgBAGBmhgs3AAAAM3Bl/JTPGGrNmjVq2bKlIiIiZLFYNG/evFzL9uzZUxaLRW+//bbD/lOnTqlDhw4KCAhQUFCQunXrpnPnzjmU2b59uxo0aCBvb29FRkZqzJgx+euoGHACAAAAAAC4IaSmpqpmzZqaNGnSFcvNnTtXP/74oyIiIrId69Chg3bt2qXExEQtXLhQa9asUY8ePezHU1JSFBsbq6ioKG3evFlvvvmmhg0bpvfffz9ffb2mAafvv/9eTzzxhGJiYnT06FFJ0ieffKK1a9deS3UAAACmR/wEAAD+q+bNm+vVV19VmzZtci1z9OhR9enTR7NmzZKHh4fDsT179mjJkiWaNm2a7rrrLtWvX18TJ07U559/rmPHjkmSZs2apfT0dH300UeqWrWqHn30UT3zzDN666238tXXfA84zZkzR3FxcfLx8dHWrVuVlpYmSUpOTtZrr72W3+oAAEABshiu25A74icAAG4croyfnB1DWa1WdezYUQMHDlTVqlWzHV+/fr2CgoJ0xx132Pc1bdpUbm5u2rBhg71Mw4YN5enpaS8TFxenvXv36vTp03nuS74HnF599VVNnTpVH3zwgcNIWb169bRly5b8VgcAAGB6xE8AAOBKUlJSHDbbzan8euONN1SkSBE988wzOR5PSkpSaGiow74iRYooJCRESUlJ9jJhYWEOZWyvbWXyIt8DTnv37lXDhg2z7Q8MDNSZM2fyWx0AAChI1+mElzcb4icAAG4ghTBpeGRkpAIDA+3b6NGj893tzZs3a8KECZoxY4YsFsu1XLlTFcnvCeHh4dq/f7/Kli3rsH/t2rUqV66cs/oFAABgGsRPAADgSo4cOaKAgAD7ay8vr3zX8f333+vkyZMqU6aMfV9WVpaee+45vf322zp06JDCw8N18uRJh/MyMzN16tQphYeHS7oUt5w4ccKhjO21rUxe5DvD6amnntKzzz6rDRs2yGKx6NixY5o1a5YGDBigXr165bc6AABQkK7TDKfRo0erTp068vf3V2hoqFq3bq29e/c6lLl48aLi4+NVrFgx+fn5qV27dtmCn8OHD6tFixYqWrSoQkNDNXDgQGVmZjqUWbVqlW6//XZ5eXmpQoUKmjFjRv466wTETwAA3EAKIcMpICDAYbuWAaeOHTtq+/bt2rZtm32LiIjQwIEDtXTpUklSTEyMzpw5o82bN9vPW7FihaxWq+666y57mTVr1igjI8NeJjExURUrVlRwcHCe+5PvDKfnn39eVqtVTZo00fnz59WwYUN5eXlpwIAB6tOnT36rAwAAN6HVq1crPj5ederUUWZmpl544QXFxsZq9+7d8vX1lST169dPixYt0uzZsxUYGKjevXurbdu2+uGHHyRdumPXokULhYeHa926dTp+/LiefPJJeXh42CfiPnjwoFq0aKGePXtq1qxZ+u6779S9e3eVLFlScXFxLrte4icAAOAM586d0/79++2vDx48qG3btikkJERlypRRsWLFHMp7eHgoPDxcFStWlCRVrlxZzZo101NPPaWpU6cqIyNDvXv31qOPPqqIiAhJ0uOPP67hw4erW7duGjx4sHbu3KkJEyZo/Pjx+eprvgecLBaLXnzxRQ0cOFD79+/XuXPnVKVKFfn5+eW3KgAAUMBctYJcfttYsmSJw+sZM2YoNDRUmzdvVsOGDZWcnKwPP/xQCQkJuvfeeyVJ06dPV+XKlfXjjz+qbt26WrZsmXbv3q3ly5crLCxMtWrV0siRIzV48GANGzZMnp6emjp1qqKjozVu3DhJl4KstWvXavz48S4dcCJ+AgDgxuHKFXjz286mTZt0zz332F/3799fktSpU6c8Z3HPmjVLvXv3VpMmTeTm5qZ27drpnXfesR8PDAzUsmXLFB8fr9q1a6t48eIaOnSoevToka++5nvAycbT01NVqlS51tMBAADskpOTJUkhISGSLk16mZGRoaZNm9rLVKpUSWXKlNH69etVt25drV+/XtWrV3dYRSUuLk69evXSrl27dNttt2n9+vUOddjK9O3bt+AvKgfETwAA4L9o3LixDCPvo1SHDh3Kti8kJEQJCQlXPK9GjRr6/vvv89s9B/kecLrnnnuuONv5ihUr/lOHAADAjSslJcXhtZeX11XnILBarerbt6/q1aunatWqSbq05K6np6eCgoIcyoaFheVryd7cyqSkpOjChQvy8fHJ3wVeI+InAABws8n3gFOtWrUcXmdkZGjbtm3auXOnOnXq5Kx+AQAAZzAslzZXtKNLS/pe7pVXXtGwYcOueGp8fLx27typtWvXFlTvCh3xEwAANxBXxU+2tkwq3wNOuU0SNWzYMJ07d+4/dwgAANy48rukb+/evbVw4UKtWbNGpUuXtu8PDw9Xenq6zpw545DldOLECYclezdu3OhQ37+X7M1tWd+AgACXZTdJxE8AAODm4+asip544gl99NFHzqoOAAA4w3W6pK9hGOrdu7fmzp2rFStWKDo62uF47dq15eHhoe+++86+b+/evTp8+LBiYmIkXVqyd8eOHTp58qS9TGJiogICAuzzJMXExDjUYStjq6OwET8BAHAdcmX85KLJyQvDNU8a/m/r16+Xt7e3s6oDAAAmFh8fr4SEBH3zzTfy9/e3z7kUGBgoHx8fBQYGqlu3burfv79CQkIUEBCgPn36KCYmRnXr1pUkxcbGqkqVKurYsaPGjBmjpKQkvfTSS4qPj7cPdPXs2VPvvvuuBg0apK5du2rFihX68ssvtWjRokK79ssRPwEAALPK94BT27ZtHV4bhqHjx49r06ZNevnll53WMQAA8N+5alnf/LYxZcoUSZdWWrnc9OnT1blzZ0mXHkOzLdWblpamuLg4TZ482V7W3d1dCxcuVK9evRQTEyNfX1916tRJI0aMsJeJjo7WokWL1K9fP02YMEGlS5fWtGnTFBcXd03Xea2InwAAuHG4Kn6ytWVW+R5wCgwMdHjt5uamihUrasSIEYqNjXVaxwAAgHnlZTlfb29vTZo0SZMmTcq1TFRUlBYvXnzFeho3bqytW7fmu4/ORPwEAABuNvkacMrKylKXLl1UvXp1BQcHF1SfAACAs7hqbgAT3537r4ifAAC4wbhybiUTx1D5mjTc3d1dsbGxOnPmTAF1BwAAwFyInwAAwM0o36vUVatWTb/99ltB9AUAADib8c88BAW5mfnunDMQPwEAcANxUfxk9hgq3wNOr776qgYMGKCFCxfq+PHjSklJcdgAAADgiPgJAADcbPI8h9OIESP03HPP6f7775cktWrVShaLxX7cMAxZLBZlZWU5v5cAAAA3IOInAABws8rzgNPw4cPVs2dPrVy5siD7AwAAnIlJwwsV8RMAADcgJg13ijwPONmWL27UqFGBdQYAAMBMiJ8AAMDNKs8DTpIcUsABAMANgAynQkf8BADADYYMJ6fI14DTrbfeetWg6dSpU/+pQwAAAGZC/AQAAG5G+RpwGj58uAIDAwuqLwAAwMnsS+66oB3kjPgJAIAbi6viJ1tbZpWvAadHH31UoaGhBdUXAAAA0yF+AgAANyO3vBZk/gEAAID8IX4CAAA3qzwPONlWWQEAAEDeED8BAICbVZ4fqbNarQXZDwAAANMhfgIAADerfM3hBAAAbjCuWtaXRB4AAGAWroqfbG2ZVJ4fqQMAAAAAAADyggwnAABMzFXL+pp5SV8AAHBzcVX8ZGvLrMhwAgAAAAAAgFOR4QQAgNmZ+M4ZAABAgSB++s/IcAIAAAAAAIBTkeEEAICZsUodAABA/rBKnVOQ4QQAAAAAAACnYsAJAAAAAAAATsUjdQAAmJirlvU185K+AADg5uKq+MnWllmR4QQAAAAAAACnIsMJAAAzY9JwAACA/GHScKcgwwkAAAAAAABORYYTAAAmxhxOAAAA+cMcTs5BhhMAAAAAAACcigwnAADMjDmcAAAA8oc5nJyCDCcAAAAAAAA4FRlOAACYGRlOAAAA+UOGk1OQ4QQAAAAAAACnYsAJAAAAAAAATsUjdQAAmJirlvU185K+AADg5uKq+MnWllmR4QQAAAAAAACnIsMJAAAzY9JwAACA/GHScKcgwwkAAAAAAABORYYTAABmRoYTAABA/pDh5BRkOAEAAAAAAMCpyHACAMDEWKUOAAAgf1ilzjnIcAIAAAAAAIBTMeAEAAAAAAAAp+KROgAAzIxJwwEAAPKHScOdggwnAAAAAAAAOBUZTgAAmBiThgMAAOQPk4Y7BxlOAAAAAAAAN4A1a9aoZcuWioiIkMVi0bx58+zHMjIyNHjwYFWvXl2+vr6KiIjQk08+qWPHjjnUcerUKXXo0EEBAQEKCgpSt27ddO7cOYcy27dvV4MGDeTt7a3IyEiNGTMm331lwAkAADMzXLgBAACYgSvjp3zGUKmpqapZs6YmTZqU7dj58+e1ZcsWvfzyy9qyZYu+/vpr7d27V61atXIo16FDB+3atUuJiYlauHCh1qxZox49etiPp6SkKDY2VlFRUdq8ebPefPNNDRs2TO+//36++sojdQAAAAAAADeA5s2bq3nz5jkeCwwMVGJiosO+d999V3feeacOHz6sMmXKaM+ePVqyZIl++ukn3XHHHZKkiRMn6v7779fYsWMVERGhWbNmKT09XR999JE8PT1VtWpVbdu2TW+99ZbDwNTVkOEEAICZXad35wAAAK5b13GGU34lJyfLYrEoKChIkrR+/XoFBQXZB5skqWnTpnJzc9OGDRvsZRo2bChPT097mbi4OO3du1enT5/Oc9tkOAEAAAAAABSilJQUh9deXl7y8vL6T3VevHhRgwcP1mOPPaaAgABJUlJSkkJDQx3KFSlSRCEhIUpKSrKXiY6OdigTFhZmPxYcHJyn9slwAgDAxCwu3AAAAMzAlfGTLYaKjIxUYGCgfRs9evR/uoaMjAy1b99ehmFoypQp/6mua0WGEwAAAAAAQCE6cuSIPQtJ0n/KbrINNv3+++9asWKFQ73h4eE6efKkQ/nMzEydOnVK4eHh9jInTpxwKGN7bSuTF2Q4AQAAAAAAFKKAgACH7VoHnGyDTfv27dPy5ctVrFgxh+MxMTE6c+aMNm/ebN+3YsUKWa1W3XXXXfYya9asUUZGhr1MYmKiKlasmOfH6SQGnAAAMDeTTHgJAADgMtfxpOHnzp3Ttm3btG3bNknSwYMHtW3bNh0+fFgZGRl66KGHtGnTJs2aNUtZWVlKSkpSUlKS0tPTJUmVK1dWs2bN9NRTT2njxo364Ycf1Lt3bz366KOKiIiQJD3++OPy9PRUt27dtGvXLn3xxReaMGGC+vfvn6++8kgdAAAAAADADWDTpk2655577K9tg0CdOnXSsGHDNH/+fElSrVq1HM5buXKlGjduLEmaNWuWevfurSZNmsjNzU3t2rXTO++8Yy8bGBioZcuWKT4+XrVr11bx4sU1dOhQ9ejRI199ZcAJAAATsxiXNle0AwAAYAauip9sbeVH48aNZRi5n3SlYzYhISFKSEi4YpkaNWro+++/z1/n/oVH6gAAAAAAAOBUZDgBAGBmrppfiQwnAABgFq6cn9LEMRQZTgAAAAAAAHAqMpwAADA7E985AwAAKBDET/8ZGU4AAAAAAABwKgacAAAAAAAA4FQ8UgcAgIm5allfVy0dDAAAUNBcFT/Z2jIrMpwAAAAAAADgVGQ4AQBgZq5a1tfEd+cAAMBNxlXxk60tkyLDCQAAuNyaNWvUsmVLRUREyGKxaN68eQ7HO3fuLIvF4rA1a9bMocypU6fUoUMHBQQEKCgoSN26ddO5c+ccymzfvl0NGjSQt7e3IiMjNWbMmIK+NAAAAIgBJwAATM02B4ErtvxITU1VzZo1NWnSpFzLNGvWTMePH7dvn332mcPxDh06aNeuXUpMTNTChQu1Zs0a9ejRw348JSVFsbGxioqK0ubNm/Xmm29q2LBhev/99/PXWQAAcFNxZfxk5jmceKQOAAC4XPPmzdW8efMrlvHy8lJ4eHiOx/bs2aMlS5bop59+0h133CFJmjhxou6//36NHTtWERERmjVrltLT0/XRRx/J09NTVatW1bZt2/TWW285DEwBAADA+chwAgDAzAwXbrqUVXT5lpaWds1dX7VqlUJDQ1WxYkX16tVLf//9t/3Y+vXrFRQUZB9skqSmTZvKzc1NGzZssJdp2LChPD097WXi4uK0d+9enT59+pr7BQAATM6V8ZOJM5wYcAIAAE4TGRmpwMBA+zZ69OhrqqdZs2b6+OOP9d133+mNN97Q6tWr1bx5c2VlZUmSkpKSFBoa6nBOkSJFFBISoqSkJHuZsLAwhzK217YyAAAAKBg8UgcAAJzmyJEjCggIsL/28vK6pnoeffRR+/9Xr15dNWrUUPny5bVq1So1adLkP/cTAAAABYsBJwAATMxVk1Ha2ggICHAYcHKWcuXKqXjx4tq/f7+aNGmi8PBwnTx50qFMZmamTp06ZZ/3KTw8XCdOnHAoY3ud29xQAAAArpzM28yThvNIHQAAuO798ccf+vvvv1WyZElJUkxMjM6cOaPNmzfby6xYsUJWq1V33XWXvcyaNWuUkZFhL5OYmKiKFSsqODjYtRcAAABwk2HACQAAM7tOJ7w8d+6ctm3bpm3btkmSDh48qG3btunw4cM6d+6cBg4cqB9//FGHDh3Sd999pwcffFAVKlRQXFycJKly5cpq1qyZnnrqKW3cuFE//PCDevfurUcffVQRERGSpMcff1yenp7q1q2bdu3apS+++EITJkxQ//798/8+AgCAmweThjsFA04AAMDlNm3apNtuu0233XabJKl///667bbbNHToULm7u2v79u1q1aqVbr31VnXr1k21a9fW999/7zAn1KxZs1SpUiU1adJE999/v+rXr6/333/ffjwwMFDLli3TwYMHVbt2bT333HMaOnSoevTo4fLrBQAAuNkwhxNcpljxC+rSc5fuuOuEvLyzdPyon8aPvk379gbL3d2qJ5/aozp1Tyi8ZKpSUz20bVMJTX+vik797SNJCg1P1WOd9qrm7X8pOOSiTv3lrRXLIvXFJxWVmcnYKczr8R771eHpAw77jhzyVc929SVJzdocUaNmx1WhUoqK+mWpfaN7lXrOw6H80Le2KLriWQUFp+vc2SLatqGYpr9zq0795e2y60AhcdWds3y20bhxYxlG7ictXbr0qnWEhIQoISHhimVq1Kih77//Pn+dA64T02ctVlj4+Wz7F35TXpPfue2yPYZGjF6rO+48oZFDY7T+h1L2I7dUPKUu3Xeowq1nZBjSr7+E6KP3q+vgb0EFfwGAi7ntuCCPr5Llti9NbqeydHFomLLu9rUf9232W47npXcLUcbDQf/aaci771G5/5auC5NKyVr+nxselt/S5DXpb7n9miYj0E2ZDwZmPx83NldmHpk4w4kBJ7iEn1+6xk5ao+1bS2jooLuVfMZTEaVTdfaspyTJyztLFW45o89mVtRv+wPk55+hns/s0CujN+jZHo0lSZFlzsnNIk0cW0vH//BVVLkUPTNwm7x9svTh5GqFeHVAwTu0308v/e8O++usLIv9/728s7RlfXFtWV9cnfvsy/H87ZtC9MVH5XTqLy8VD72obn1/1QtjftaArncVeN8BANfm2f81kbvbP3+JREUn67U3v9f3q0s5lGvdbp8Mw/Lv0+XtnamRr6/VhnUlNWnC7XJ3t+qJzrs18o3v1enRFsrK4oYdzMVy0ZA12lOZsf7yHnki2/HzCWUcXrtvuiDP8X8qs75vtrKeH/4to5i79O8xqlSrvF9MkrWWjy70KS63Q+nyGv+nDF83Zd7v/EUzgBtZoXzLGIahpk2b2udhuNzkyZMVFBSkP/74oxB6hoLyUId9+vNkUY1//Xb9uidYJ477autPoUo6dumX+/lUD734XD19v7KUjh7x197dIZr8dg3dUumMSoReurO3eWOYxr9++6Xzjvtqww8l9fXnFXR3w2OFeWmAS1izLDr9t5d9SznjaT/2zWdlNXtGOf2yIyjX8+cllNXenUH6M8lHe7YHa/aMaFWsfkbuRawu6D0Kk22VFVdsKHjEUDeXlGQvnT7tbd/urHtcx476asfPJexlypU/o7YP79Pbb96R7fzIMikKCEjXJzOq6ugf/jr8e6ASPq6ikJA0hYZlz5wCbnRZdYoqo3OIsuplH0CSJCOkiMPmvj5V1preMko6Zoa7/3Re7lsuKL17sWx1FFl5TpYMQ2n9S8go66msxn7KeDBAHl8nF8g1oXC4Mn4ycwxVKANOFotF06dP14YNG/Tee+/Z9x88eFCDBg3SxIkTVbp06cLoGgpI3XpJ2rc3SEOGb1TCN4s1cdpKxT1w6Irn+PpmyGqVzv3r0SCHMn4ZOpfimetxwCwiypzXx0tW6cNv1mjAq9tVIvzCNdflF5Cuxs2Pa8/2IGXxOCpwQyGGunkVKWLVPU0Pa9mSspIuZTN5eWVq0IsbNPmd23T6dPZHpP844q/kZE/FNT+oIkWs8vTMUmzzgzr8u79OJBV17QUA15vTmXLfeF4ZcQHZ9ntO+FNpA0Mlr+yZg257Liqrurfk8c+xrNpF5fZHhnQ2q6B7DdxQCu0vjcjISE2YMEEDBgzQwYMHZRiGunXrptjYWN12221q3ry5/Pz8FBYWpo4dO+qvv/6yn/vVV1+pevXq8vHxUbFixdS0aVOlpqYW1qUgD8JLpqrFgwd17A8/vTTgbi36Jlo9n92uJs0O51jewzNLXXru0urvSuvC+ZwHnEqWOqeWbX/T4vllC7DnQOHbuzNQ44dV09DetTXp9SoKj7igMdM2yqdoZr7q6dJnr+asXa4vVq5UifALGtn/tqufhBsfK6yYDjHUzSmm3lH5+WVo+dKy9n1P/e9n7dlVTD+ui8jxnAsXPPR8/0a6p+lhzV38teYsnKvadU5o6PP1ZbVywwE3N4/l5yQfN2XVu2zw1TDkNe5PZd4fIOutXjme53Y6S0aQu8M+22vLaQacTINV6pyiUL9pOnXqpCZNmqhr16569913tXPnTr333nu69957ddttt2nTpk1asmSJTpw4ofbt20uSjh8/rscee0xdu3bVnj17tGrVKrVt2zbXiUfT0tKUkpLisMH1LG6G9u8L0swPqui3fUFasqCsliwoq/tbHcxW1t3dqiHDf5LFIr07rmaO9RUrfkEj31yvtatKaenCsgXce6BwbV5XQmuXh+vQfn9tWV9crzxzu3z9M9XgvqR81TPnk2j1eTxGL/6vtqxWi54bsUOm/oYDTIwY6uYT2/yQNm0Mty+mclfMMdWs9afem1Qr13M8PbPUd8Am7d5VXP373KsBz96j3w8FaNhrP8jTkz+McXMrsvSsMu/1kzz/+ZO4yDcpspy3KuORoMLrGGAihT5p+Pvvv6+qVatqzZo1mjNnjt577z3ddttteu211+xlPvroI0VGRurXX3/VuXPnlJmZqbZt2yoqKkqSVL169VzrHz16tIYPH17g14ErO/23t44c8nfYd+R3f9Vr5Dj/km2wKTTsvIb0rZ9jdlNIsQt6fcJa7dkZonferFWQ3QauS6nnPHT096IqGZm/+TdSzngq5Yynjh321ZGDfvr429WqVD35inM/Abh+EUPdPEJDU1Xr9hMaNexu+76at51UyYhzmj3/G4eyL7yyXrt2FNfzzzVW4yaHFRp+Xv373GufVHzMqLv05bxvVLfeMa1ZGenS6wCuF247L8jtjwylvRDqsN/95wty+yVNRVs63hT37nNUmff6KX1AqKzB7rKccRywtb02gh0zn4CbXaEPOIWGhurpp5/WvHnz1Lp1a82aNUsrV66Un59ftrIHDhxQbGysmjRpourVqysuLk6xsbF66KGHFBwcnGP9Q4YMUf/+/e2vU1JSFBnJl6ur7d5RTKUizznsKxV5TidP/JPCahtsiih9Ts8/W19nc5ibqVjxS4NN+/YGafzrt+e4Igtgdt4+mSpZ+rxWLM75EYq8cPv/VY88PJk03OwshiFLLhkszm4HrkUMdfO4r9khJZ/x1sYfw+37Zn9WSUsXRzuUm/Jhoj6YUlMb1l/6fvDyypJhtejyf55W66XcVjczz1ILXEWRJWeVdYunrOUcH5tL71Vc6vRPbOT2d6a8X0xS2guhsla8NE+atbK3PGeckjINqcilv0Xct1yQtbSH5M+Ak1m4Kn6ytWVWhT7gJElFihRRkSKXunLu3Dm1bNlSb7zxRrZyJUuWlLu7uxITE7Vu3TotW7ZMEydO1IsvvqgNGzYoOjo62zleXl7y8sr5+Vu4ztzZ5TVu8hq1f2Kvvl9ZShUrn1bzlof0zthaki4NNr0wcqMq3JqsYYPryt3dUHDIRUnS2RRPZWa6XRpsemetTiYV1YeTqykwKM1e/+lT2SfKBMyiW9+92rCmhE4e91GxEhfV4ekDslotWr2kpCQpuFiagoul2TOeylY4pwvn3XUyyVvnUjxVsdoZ3VIlWbu3BetsiodKRp5Xx577deyIj/ZsDyrEKwPwXxFDmZ/FYui+Zr9r+bIoh3mXbCvX/dufJ4vqRNKlFbq2bg5Vt6e363/PbNWCeRVksRhq/9heZWW56edtJbKdC9zwLljldizD/tKSlCG3A2ky/N1lhP7/n76pVhX5PlXpPbKvQGcv8/+s3pcGlIySHjJKXDqWeY+fPGadluf4P5XxcJDcfk+Xx7xkpT+dvT7gZnddDDhd7vbbb9ecOXNUtmxZewD1bxaLRfXq1VO9evU0dOhQRUVFae7cuQ534XB92fdLsF598S51fnq3Hu+0V0lJRfXexOpalXjpTmmxEhcUU//SfDSTpq90OHfwM/W0Y1sJ3XbHSZUqnapSpVP1yddLHcrc37C1S64DKAzFQi9q0GvbFRCYruTTntq1LVj9O9dVyplLWYDN2x1Rh6cP2MuP+XCjJGn8sGpavqCULl501933nlSHpw/I2ydLp/7y0ub1xfXF8zWVmcGksabnqskozXtz7oZBDGVOtW4/odCw80pcUjbf5/5xJEDDX6qnxzvu1riJK2VYpQP7g/Ty8/V1+pSP8zsLFDK3X9PkM/i4/bXX+6ckSRlNLz0OJ0lFVl966iKzcfZs0DzxddPFUeHymvS3fPoclRHopowOwcq8P+Dq5+LG4crJvE0cQ113A07x8fH64IMP9Nhjj2nQoEEKCQnR/v379fnnn2vatGnatGmTvvvuO8XGxio0NFQbNmzQn3/+qcqVKxd213EVG9eHa+P68ByPnUzyveqg0fIlUVq+JKoAegZc38a8kPPk+TYJ71dQwvsVcj3++35/vdCzjrO7BeA6QwxlTls3h+v+Jg/lqWxO5bZuDtPWzWHO7hZwXbLW9FHqknJXLJN5f0CeB4eMcI8c6zPKeeniuGuf2gC4WVx3A04RERH64YcfNHjwYMXGxiotLU1RUVFq1qyZ3NzcFBAQoDVr1ujtt99WSkqKoqKiNG7cODVv3rywuw4AwHXHYlzaXNEOChcxFAAAzuGq+MnWlllZjNzWwjWplJQUBQYGqkm5Z1TEnXkJgGthSb1Q2F0AbliZ1nQtT3pfycnJCggouPR72/fdbR1Gyd2z4Oe5y0q/qK2zXizw60LhscdQFfsTQwHXKGV81tULAcgmMzVNP7WdYLr4STJ3DHXdZTgBAAAnYg4nAACA/GEOJ6dgtlgAAAAAAAA4FQNOAAAAAAAAcCoeqQMAwMSYNBwAAPxfe/cfVWWd7v//tZHhR+aGqNybPYPIlD/QQ2p6FjGaZTKitjqanvFDMYUTR+aUTMfUrNZRIjRJy5ZBJfZLdA1OecaJ1dgMRjSGKYPKGcyMo+Rg0hnBZggJ54sKe3//sH1P+6gldnsDt8/HWu+15L7f+77emxZ0ce3rft/oGjYNNwcdTgAAAAAAADAVHU4AANgZm4YDAAB0DZuGm4IOJwAAAAAAAJiKDicAAGyMPZwAAAC6hj2czEGHEwAAAAAAAExFhxMAAHbGHk4AAABdwx5OpqDDCQAAAAAAAKaiwwkAAJuz894AAAAAlwL503dHhxMAAAAAAABMRcEJAAAAAAAApuKWOgAA7MznOzOsiAMAAGAHVuVP/lg2RYcTAAAAAAAATEWHEwAANubwWbPpJRtrAgAAu7Aqf/LHsis6nAAAAAAAAGAqOpwAALAz31fDijgAAAB2YFX+5I9lU3Q4AQAAAAAAwFR0OAEAYGMO75lhRRwAAAA7sCp/8seyKzqcAAAAAAAAYCoKTgAAAAAAAL1ARUWF7rjjDnk8HjkcDpWUlASc9/l8ys7OVnR0tMLDw5WcnKy6urqAOc3NzUpLS5PT6VRkZKQyMjLU1tYWMOfDDz/UzTffrLCwMMXExGjlypVdXisFJwAA7Mxn4QAAALADK/OnLuZQJ06c0IgRI/TCCy+c8/zKlSuVn5+vwsJCVVVVqW/fvkpJSVF7e7sxJy0tTfv371dZWZm2bNmiiooKZWZmGudbW1s1adIkxcbGqrq6Wk8//bRycnL00ksvdWmt7OEEAAAAAADQC0yZMkVTpkw55zmfz6fVq1dr8eLFmjZtmiRpw4YNcrlcKikpUWpqqmpra1VaWqrdu3drzJgxkqSCggJNnTpVzzzzjDwej4qLi3Xq1Cm99tprCgkJ0fDhw1VTU6Nnn302oDD1behwAgDAxhw+6wYAAIAdWJk/+XOo1tbWgHHy5Mkur7u+vl6NjY1KTk42jkVERCgxMVGVlZWSpMrKSkVGRhrFJklKTk5WUFCQqqqqjDnjx49XSEiIMSclJUUHDhzQF198ccHroeAEAAAAAADQjWJiYhQREWGMvLy8Ll+jsbFRkuRyuQKOu1wu41xjY6P69+8fcD44OFhRUVEBc851ja/HuBDcUgcAgJ35fGeGFXEAAADswKr8yR9LUkNDg5xOp3E4NDTUmviXEB1OAAAAAAAA3cjpdAaMiyk4ud1uSVJTU1PA8aamJuOc2+3WsWPHAs53dHSoubk5YM65rvH1GBeCghMAADbGHk4AAABd0x17OJkhLi5Obrdb5eXlxrHW1lZVVVUpKSlJkpSUlKSWlhZVV1cbc9577z15vV4lJiYacyoqKnT69GljTllZmYYMGaKrrrrqgtdDwQkAAAAAAKAXaGtrU01NjWpqaiSd2Si8pqZGR44ckcPh0Lx587Rs2TK99dZb2rdvn+699155PB5Nnz5dkhQfH6/Jkydrzpw52rVrl3bs2KGsrCylpqbK4/FIku6++26FhIQoIyND+/fv1xtvvKHnnntO8+fP79Ja2cMJAAA78301rIgDAABgB1blT/5YXbBnzx5NmDDB+NpfBEpPT1dRUZEWLVqkEydOKDMzUy0tLRo3bpxKS0sVFhZmvKa4uFhZWVmaOHGigoKCNHPmTOXn5xvnIyIi9M4772ju3LkaPXq0rrnmGmVnZyszM7NLa6XgBAAAAAAA0Avceuut8n3DhuYOh0O5ubnKzc0975yoqCht3LjxG+PccMMN2r59+0WvU+KWOgAAAAAAAJiMDicAAGzMqg292TQcAADYhZUPRLFzDkWHEwAAAAAAAExFhxMAAHbm850ZVsQBAACwA6vyJ38sm6LDCQAAAAAAAKaiwwkAABtjDycAAICuYQ8nc9DhBAAAAAAAAFPR4QQAgJ35vhpWxAEAALADq/InfyybosMJAAAAAAAApqLgBAAAAAAAAFNxSx0AADbGpuEAAABdw6bh5qDDCQAAAAAAAKaiwwkAADvz+s4MK+IAAADYgVX5kz+WTdHhBAAAAAAAAFPR4QQAgJ1Z9Vhf+344BwAALjdW5U/+WDZFhxMAAAAAAABMRYcTAAA25pBFT6m79CEAAAAsYVX+5I9lV3Q4AQAAAAAAwFQUnAAAAAAAAGAqbqkDAMDOfL4zw4o4AAAAdmBV/uSPZVN0OAEAAMtVVFTojjvukMfjkcPhUElJScB5n8+n7OxsRUdHKzw8XMnJyaqrqwuY09zcrLS0NDmdTkVGRiojI0NtbW0Bcz788EPdfPPNCgsLU0xMjFauXHmp3xoAAABEwQkAAFtz+KwbXXHixAmNGDFCL7zwwjnPr1y5Uvn5+SosLFRVVZX69u2rlJQUtbe3G3PS0tK0f/9+lZWVacuWLaqoqFBmZqZxvrW1VZMmTVJsbKyqq6v19NNPKycnRy+99NJFfS8BAMDlwcr8yarNybsDt9QBAADLTZkyRVOmTDnnOZ/Pp9WrV2vx4sWaNm2aJGnDhg1yuVwqKSlRamqqamtrVVpaqt27d2vMmDGSpIKCAk2dOlXPPPOMPB6PiouLderUKb322msKCQnR8OHDVVNTo2effTagMAUAAADz0eEEAICd+SwcOtNV9PVx8uTJLi+5vr5ejY2NSk5ONo5FREQoMTFRlZWVkqTKykpFRkYaxSZJSk5OVlBQkKqqqow548ePV0hIiDEnJSVFBw4c0BdffNHldQEAgMuElfmTjTucKDgBAADTxMTEKCIiwhh5eXldvkZjY6MkyeVyBRx3uVzGucbGRvXv3z/gfHBwsKKiogLmnOsaX48BAACAS4Nb6gAAsDGHzyeHBU8/8cdoaGiQ0+k0joeGhl7y2AAAAGayKn/yx7IrOpwAAIBpnE5nwLiYgpPb7ZYkNTU1BRxvamoyzrndbh07dizgfEdHh5qbmwPmnOsaX48BAACAS4OCEwAAdua1cJgkLi5Obrdb5eXlxrHW1lZVVVUpKSlJkpSUlKSWlhZVV1cbc9577z15vV4lJiYacyoqKnT69GljTllZmYYMGaKrrrrKvAUDAAB7sTJ/MjGH6mkoOAEAAMu1tbWppqZGNTU1ks5sFF5TU6MjR47I4XBo3rx5WrZsmd566y3t27dP9957rzwej6ZPny5Jio+P1+TJkzVnzhzt2rVLO3bsUFZWllJTU+XxeCRJd999t0JCQpSRkaH9+/frjTfe0HPPPaf58+d307sGAAC4fLCHEwAAsNyePXs0YcIE42t/ESg9PV1FRUVatGiRTpw4oczMTLW0tGjcuHEqLS1VWFiY8Zri4mJlZWVp4sSJCgoK0syZM5Wfn2+cj4iI0DvvvKO5c+dq9OjRuuaaa5Sdna3MzEzr3igAAMBlioITAAA2ZvWm4Rfq1ltvle8bXuNwOJSbm6vc3NzzzomKitLGjRu/Mc4NN9yg7du3d2ltAADg8sam4ebgljoAAAAAAACYig4nAADszPfVsCIOAACAHViVP/lj2RQdTgAAAAAAADAVHU4AANiZz3dmWBEHAADADqzKn/yxbIoOJwAAAAAAAJiKDicAAGzM4TszrIgDAABgB1blT/5YdkWHEwAAAAAAAExFwQkAAAAAAACm4pY6AADsjE3DAQAAuoZNw01BhxMAAAAAAABMRYcTAAA25vCeGVbEAQAAsAOr8id/LLuiwwkAAAAAAACmosMJAAA7Yw8nAACArmEPJ1PQ4QQAAAAAAABT0eEEAICd+b4aVsQBAACwA6vyJ38sm6LDCQAAAAAAAKaiwwkAABtz+HxyWLA3gBUxAAAArGBV/uSPZVd0OAEAAAAAAMBUFJwAAAAAAABgKm6pAwDAzqx6rK+N28EBAMBlxqr8yR/LpuhwAgAAAAAAgKnocAIAwM58krwWxQEAALADq/InfyybosMJAAAAAACgh+vs7NSSJUsUFxen8PBwXXfddVq6dKl8X7stz+fzKTs7W9HR0QoPD1dycrLq6uoCrtPc3Ky0tDQ5nU5FRkYqIyNDbW1tpq+XghMAADbmf6yvFQMAAMAOrMyfupJDrVixQmvWrNHzzz+v2tparVixQitXrlRBQYExZ+XKlcrPz1dhYaGqqqrUt29fpaSkqL293ZiTlpam/fv3q6ysTFu2bFFFRYUyMzNN/R5K3FIHAAAAAADQ4+3cuVPTpk3T7bffLkkaOHCgfvWrX2nXrl2SznQ3rV69WosXL9a0adMkSRs2bJDL5VJJSYlSU1NVW1ur0tJS7d69W2PGjJEkFRQUaOrUqXrmmWfk8XhMWy8dTgAA2JlP/3jSyiUd3f1GAQAATGJZ/vSPHKq1tTVgnDx58qxl/ehHP1J5ebkOHjwoSdq7d68++OADTZkyRZJUX1+vxsZGJScnG6+JiIhQYmKiKisrJUmVlZWKjIw0ik2SlJycrKCgIFVVVZn6baTDCQAAAAAAoBvFxMQEfP34448rJycn4Nijjz6q1tZWDR06VH369FFnZ6eefPJJpaWlSZIaGxslSS6XK+B1LpfLONfY2Kj+/fsHnA8ODlZUVJQxxywUnAAAAAAAALpRQ0ODnE6n8XVoaOhZczZt2qTi4mJt3LhRw4cPV01NjebNmyePx6P09HQrl3tBKDgBAGBn/nZtK+IAAADYgVX5kz+WJKfTGVBwOpeHH35Yjz76qFJTUyVJCQkJ+vTTT5WXl6f09HS53W5JUlNTk6Kjo43XNTU1aeTIkZIkt9utY8eOBVy3o6NDzc3NxuvNwh5OAAAAAAAAPdzf//53BQUFlnH69Okjr9crSYqLi5Pb7VZ5eblxvrW1VVVVVUpKSpIkJSUlqaWlRdXV1cac9957T16vV4mJiaaulw4nAADszCvJYVEcAAAAO7Aqf/LHukB33HGHnnzySQ0YMEDDhw/Xn/70Jz377LO67777JEkOh0Pz5s3TsmXLNGjQIMXFxWnJkiXyeDyaPn26JCk+Pl6TJ0/WnDlzVFhYqNOnTysrK0upqammPqFOouAEAAAAAADQ4xUUFGjJkiV64IEHdOzYMXk8Hv385z9Xdna2MWfRokU6ceKEMjMz1dLSonHjxqm0tFRhYWHGnOLiYmVlZWnixIkKCgrSzJkzlZ+fb/p6KTgBAGBjDp9PDgv2ILAiBgAAgBWsyp/8sS5Uv379tHr1aq1evfr813M4lJubq9zc3PPOiYqK0saNG7uyzIty2RWcfF/9x+zwnuzmlQC9l8N7qruXAPRaHV/9/Pgo0KCXMXKoTnIo4GJ1nOjs7iUAvVLn38/8v4f8qXe57ApOX375pSTp/cNru3klAIDL2ZdffqmIiIhLH4in1MEkRg71yQvdvBKgF5vR3QsAejfb5U/+WDZ12RWcPB6PGhoa1K9fPzkcVu0Chq5obW1VTEyMGhoavvWxkAAC8fPT8/l8Pn355Zemb8oIXGrkUD0bv/+B74afoZ6N/Kl3uuwKTkFBQfrBD37Q3cvABXA6nfyyBy4SPz89myWfzAEmI4fqHfj9D3w3/Az1XORPvc9lV3ACAOCywi11AAAAXcMtdaYI6u4FAAAAAAAAwF7ocEKPExoaqscff1yhoaHdvRSg1+HnB2ehwwm4LPD7H/hu+BlCADqcTOHw8VxBAABsp7W1VREREZoYv0DBfS598tzReVLltat0/Phx9r4AAAC9ktX5k2TvHIoOJwAA7MwryYoHinktiAEAAGAFq/InfyybYg8nAAAAAAAAmIoOJwAAbMzh88lhwd3zVsQAAACwglX5kz+WXdHhhG4xe/ZsORwOPfXUUwHHS0pK5HBY1bsI9B4+n0/JyclKSUk569yLL76oyMhIffbZZ92wMgCAVcifgK4jhwK6DwUndJuwsDCtWLFCX3zxRXcvBejxHA6H1q1bp6qqKq1du9Y4Xl9fr0WLFqmgoEA/+MEPunGF6LH8T1mxYgC45MifgK4hh8JFsTJ/snEORcEJ3SY5OVlut1t5eXnnnbN582YNHz5coaGhGjhwoFatWmXhCoGeJSYmRs8995wWLlyo+vp6+Xw+ZWRkaNKkSRo1apSmTJmiK6+8Ui6XS/fcc4/++te/Gq/99a9/rYSEBIWHh+vqq69WcnKyTpw40Y3vBgBwMcifgK4jhwK6BwUndJs+ffpo+fLlKigoOGcba3V1tWbNmqXU1FTt27dPOTk5WrJkiYqKiqxfLNBDpKena+LEibrvvvv0/PPP66OPPtLatWt12223adSoUdqzZ49KS0vV1NSkWbNmSZKOHj2qu+66S/fdd59qa2u1bds2zZgxQz4bf5oCAHZF/gRcHHIowHoOHz8t6AazZ89WS0uLSkpKlJSUpGHDhunVV19VSUmJ7rzzTvl8PqWlpenzzz/XO++8Y7xu0aJFevvtt7V///5uXD3QvY4dO6bhw4erublZmzdv1kcffaTt27dr69atxpzPPvtMMTExOnDggNra2jR69GgdPnxYsbGx3bhyWKm1tVURERFKvm6egvuEXvJ4HZ0n9e6h1Tp+/LicTucljwdcjsifgO+GHArfxur8SbJ3DkWHE7rdihUrtH79etXW1gYcr62t1dixYwOOjR07VnV1ders7LRyiUCP0r9/f/385z9XfHy8pk+frr179+oPf/iDrrzySmMMHTpUknTo0CGNGDFCEydOVEJCgn7yk5/o5ZdfZu8PAOjlyJ+AriOHAqxFwQndbvz48UpJSdFjjz3W3UsBeo3g4GAFBwdLktra2nTHHXeopqYmYNTV1Wn8+PHq06ePysrK9Pvf/17Dhg1TQUGBhgwZovr6+m5+F7AEG14CtkT+BFwccihcEDYNN0Vwdy8AkKSnnnpKI0eO1JAhQ4xj8fHx2rFjR8C8HTt2aPDgwerTp4/VSwR6rBtvvFGbN2/WwIEDjQTq/3I4HBo7dqzGjh2r7OxsxcbG6s0339T8+fMtXi0AwCzkT8B3Qw4FXFp0OKFHSEhIUFpamvLz841jCxYsUHl5uZYuXaqDBw9q/fr1ev7557Vw4cJuXCnQ88ydO1fNzc266667tHv3bh06dEhbt27Vz372M3V2dqqqqkrLly/Xnj17dOTIEf3mN7/R559/rvj4+O5eOixh1Sdz9v10DuipyJ+A74YcCudnZXeTfXMoCk7oMXJzc+X1eo2vb7zxRm3atEmvv/66/umf/knZ2dnKzc3V7Nmzu2+RQA/k8Xi0Y8cOdXZ2atKkSUpISNC8efMUGRmpoKAgOZ1OVVRUaOrUqRo8eLAWL16sVatWacqUKd29dADAd0T+BFw8cijg0uIpdQAA2JDxlJW4Xyg4yIKn1HlP6t36Als+YQUAAFwerM6fJHvnUHQ4AQAAAAAAwFQUnAAAAAAAAGAqnlIHAICdeS3ajNLLHfoAAMAmrMqfjFj2RIcTAAAAAAAATEWHEwAAdubznhlWxAEAALADq/InfyybosMJAAAAAAAApqLDCQAAO/P5zgwr4gAAANiBVfmTP5ZN0eEEAAAAAAAAU1FwAmxo9uzZmj59uvH1rbfeqnnz5lm+jm3btsnhcKilpeW8cxwOh0pKSi74mjk5ORo5cuR3Wtfhw4flcDhUU1Pzna4D9Apen3UDAHo5cqhvRg6Fy4aV+ZONcygKToBFZs+eLYfDIYfDoZCQEF1//fXKzc1VR0fHJY/9m9/8RkuXLr2guReS4AAAAFiFHAoAeicKToCFJk+erKNHj6qurk4LFixQTk6Onn766XPOPXXqlGlxo6Ki1K9fP9OuB6AX8e9BYMXogpycHOMPSP8YOnSocb69vV1z587V1VdfrSuvvFIzZ85UU1NTwDWOHDmi22+/XVdccYX69++vhx9+2JI/QAFYjxwKgKWszJ/YwwmAGUJDQ+V2uxUbG6v7779fycnJeuuttyT9o4X7ySeflMfj0ZAhQyRJDQ0NmjVrliIjIxUVFaVp06bp8OHDxjU7Ozs1f/58RUZG6uqrr9aiRYvk+z+/tP5vO/jJkyf1yCOPKCYmRqGhobr++uv16quv6vDhw5owYYIk6aqrrpLD4dDs2bMlSV6vV3l5eYqLi1N4eLhGjBihX//61wFxfve732nw4MEKDw/XhAkTAtZ5oR555BENHjxYV1xxhX74wx9qyZIlOn369Fnz1q5dq5iYGF1xxRWaNWuWjh8/HnD+lVdeUXx8vMLCwjR06FC9+OKLXV4LgEtr+PDhOnr0qDE++OAD49xDDz2k3/72t/qv//ovvf/++/rLX/6iGTNmGOc7Ozt1++2369SpU9q5c6fWr1+voqIiZWdnd8dbAXCJkUN9O3IoAD0NT6kDulF4eLj+9re/GV+Xl5fL6XSqrKxMknT69GmlpKQoKSlJ27dvV3BwsJYtW6bJkyfrww8/VEhIiFatWqWioiK99tprio+P16pVq/Tmm2/qtttuO2/ce++9V5WVlcrPz9eIESNUX1+vv/71r4qJidHmzZs1c+ZMHThwQE6nU+Hh4ZKkvLw8/fKXv1RhYaEGDRqkiooK/fSnP9W1116rW265RQ0NDZoxY4bmzp2rzMxM7dmzRwsWLOjy96Rfv34qKiqSx+PRvn37NGfOHPXr10+LFi0y5nzyySfatGmTfvvb36q1tVUZGRl64IEHVFxcLEkqLi5Wdna2nn/+eY0aNUp/+tOfNGfOHPXt21fp6eldXhOASyM4OFhut/us48ePH9err76qjRs3Gr/L1q1bp/j4eP3xj3/UTTfdpHfeeUcff/yx3n33XblcLo0cOVJLly7VI488opycHIWEhFj9dgBYiBzqbORQAHoaCk5AN/D5fCovL9fWrVv1i1/8wjjet29fvfLKK8YfSr/85S/l9Xr1yiuvyOFwSDrzR1dkZKS2bdumSZMmafXq1XrssceMT/4LCwu1devW88Y+ePCgNm3apLKyMiUnJ0uSfvjDHxrno6KiJEn9+/dXZGSkpDOf5i1fvlzvvvuukpKSjNd88MEHWrt2rW655RatWbNG1113nVatWiVJGjJkiPbt26cVK1Z06XuzePFi498DBw7UwoUL9frrrwckS+3t7dqwYYO+//3vS5IKCgp0++23a9WqVXK73Xr88ce1atUq43sSFxenjz/+WGvXriVZwuXHJ2tatS8iRF1dnTwej8LCwpSUlKS8vDwNGDBA1dXVOn36tPE7SpKGDh2qAQMGqLKyUjfddJMqKyuVkJAgl8tlzElJSdH999+v/fv3a9SoUWa8KwA9DDnU+ZFDASayKn/yx7IpCk6AhbZs2aIrr7xSp0+fltfr1d13362cnBzjfEJCQsCn8nv37tUnn3xy1t4B7e3tOnTokI4fP66jR48qMTHROBccHKwxY8ac1RLuV1NToz59+uiWW2654HV/8skn+vvf/64f//jHAcdPnTpl/FFXW1sbsA5JRmLVFW+88Yby8/N16NAhtbW1qaOjQ06nM2DOgAEDjETJH8fr9erAgQPq16+fDh06pIyMDM2ZM8eY09HRoYiIiC6vB0DXtLa2BnwdGhqq0NDQs+YlJiaqqKhIQ4YM0dGjR/XEE0/o5ptv1kcffaTGxkaFhIQYf7D5uVwuNTY2SpIaGxsDik3+8/5zAOyFHOrbkUMB6GkoOAEWmjBhgtasWaOQkBB5PB4FBwf+CPbt2zfg67a2No0ePdpoc/66a6+99qLW4G/v7oq2tjZJ0ttvvx2QpEg65x+SF6uyslJpaWl64oknlJKSooiICL3++uvGJ35dWevLL798VvLWp08f09YK9BpWbUb5VYyYmJiAw48//njAH4V+U6ZMMf59ww03KDExUbGxsdq0adNF/Z4CYG/kUN+MHAowmZWbedt403AKToCF+vbtq+uvv/6C5994441644031L9//7M+ofKLjo5WVVWVxo8fL+nMp1DV1dW68cYbzzk/ISFBXq9X77//fsDtKn7+Twc7OzuNY8OGDVNoaKiOHDly3k/14uPjjc07/f74xz9++5v8mp07dyo2Nlb/+Z//aRz79NNPz5p35MgR/eUvf5HH4zHiBAUFaciQIXK5XPJ4PPrzn/+stLS0LsUH8N01NDQE/L660D+oIiMjNXjwYH3yySf68Y9/rFOnTqmlpSWgy6mpqcnY88ntdmvXrl0B1/A/xe5c+0IB6N3Iob4ZORSAnoin1AE9WFpamq655hpNmzZN27dvV319vbZt26YHH3xQn332mSTpP/7jP/TUU0+ppKRE//M//6MHHnhALS0t573mwIEDlZ6ervvuu08lJSXGNTdt2iRJio2NlcPh0JYtW/T555+rra1N/fr108KFC/XQQw9p/fr1OnTokP77v/9bBQUFWr9+vSTp3//931VXV6eHH35YBw4c0MaNG1VUVNSl9zto0CAdOXJEr7/+ug4dOqT8/Hy9+eabZ80LCwtTenq69u7dq+3bt+vBBx/UrFmzjD8yn3jiCeXl5Sk/P18HDx7Uvn37tG7dOj377LNdWg9gC16vdUOS0+kMGBdacGpra9OhQ4cUHR2t0aNH63vf+57Ky8uN8wcOHNCRI0eM20ySkpK0b98+HTt2zJhTVlYmp9OpYcOGmfgNBNAbkUORQwHfiZX501c5lB1RcAJ6sCuuuEIVFRUaMGCAZsyYofj4eGVkZKi9vd34tG7BggW65557lJ6erqSkJPXr10933nnnN153zZo1+td//Vc98MADGjp0qObMmaMTJ05Ikr7//e/riSee0KOPPiqXy6WsrCxJ0tKlS7VkyRLl5eUpPj5ekydP1ttvv624uDhJZ/YE2Lx5s0pKSjRixAgVFhZq+fLlXXq///Iv/6KHHnpIWVlZGjlypHbu3KklS5acNe/666/XjBkzNHXqVE2aNEk33HBDwCN7/+3f/k2vvPKK1q1bp4SEBN1yyy0qKioy1gqg+y1cuFDvv/++Dh8+rJ07d+rOO+9Unz59dNdddykiIkIZGRmaP3++/vCHP6i6ulo/+9nPlJSUpJtuukmSNGnSJA0bNkz33HOP9u7dq61bt2rx4sWaO3euqbepAOidyKHIoQB0P4fvfLviAQCAXqu1tVURERFKvjZDwUEh3/6C76jDe0rvfv6qjh8/ft7bV74uNTVVFRUV+tvf/qZrr71W48aN05NPPqnrrrtO0pmNfRcsWKBf/epXOnnypFJSUvTiiy8G3C736aef6v7779e2bduMR3Y/9dRTZ+3tAgAAcCGszp+krudQvQkFJwAAbKinF5wAAAB6GgpO5uKWOgAAAAAAAJiKnnMAAOzMqsf60jANAADswqr8yR/LpuhwAgAAAAAAgKnocAIAwM68PkkWfHLmte+ncwAA4DJjVf5kxLInOpwAAAAAAABgKjqcAACwMZ/PK5/Pa0kcAAAAO7Aqf/LHsis6nAAAAAAAAGAqOpwAALAzn8+avQFs/IQVAABwmbEqf/LHsik6nAAAAAAAAGAqCk4AAAAAAAAwFQUnAADszOezbgAAANiBlflTF3Oo//3f/9VPf/pTXX311QoPD1dCQoL27NnztaX7lJ2drejoaIWHhys5OVl1dXUB12hublZaWpqcTqciIyOVkZGhtrY2U751X0fBCQAAAAAAoIf74osvNHbsWH3ve9/T73//e3388cdatWqVrrrqKmPOypUrlZ+fr8LCQlVVValv375KSUlRe3u7MSctLU379+9XWVmZtmzZooqKCmVmZpq+XjYNBwDAzrxeyWHB43Zt/EhfAABwmbEqf5K6lEOtWLFCMTExWrdunXEsLi7uH5fy+bR69WotXrxY06ZNkyRt2LBBLpdLJSUlSk1NVW1trUpLS7V7926NGTNGklRQUKCpU6fqmWeekcfjMemN0eEEAAAAAADQrVpbWwPGyZMnz5rz1ltvacyYMfrJT36i/v37a9SoUXr55ZeN8/X19WpsbFRycrJxLCIiQomJiaqsrJQkVVZWKjIy0ig2SVJycrKCgoJUVVVl6nui4AQAgJ310P0HAAAAeqxu2MMpJiZGERERxsjLyztrWX/+85+1Zs0aDRo0SFu3btX999+vBx98UOvXr5ckNTY2SpJcLlfA61wul3GusbFR/fv3DzgfHBysqKgoY45ZuKUOAAAAAACgGzU0NMjpdBpfh4aGnjXH6/VqzJgxWr58uSRp1KhR+uijj1RYWKj09HTL1nqhKDgBAGBjPq9XPgv2IPCxhxMAALAJq/In6R85lNPpDCg4nUt0dLSGDRsWcCw+Pl6bN2+WJLndbklSU1OToqOjjTlNTU0aOXKkMefYsWMB1+jo6FBzc7PxerNwSx0AAAAAAEAPN3bsWB04cCDg2MGDBxUbGyvpzAbibrdb5eXlxvnW1lZVVVUpKSlJkpSUlKSWlhZVV1cbc9577z15vV4lJiaaul46nAAAsDOfT5IF+yuxhxMAALALq/InI9aFeeihh/SjH/1Iy5cv16xZs7Rr1y699NJLeumllyRJDodD8+bN07JlyzRo0CDFxcVpyZIl8ng8mj59uqQzHVGTJ0/WnDlzVFhYqNOnTysrK0upqammPqFOouAEAAAAAADQ4/3zP/+z3nzzTT322GPKzc1VXFycVq9erbS0NGPOokWLdOLECWVmZqqlpUXjxo1TaWmpwsLCjDnFxcXKysrSxIkTFRQUpJkzZyo/P9/09Tp8Pj6SBADAblpbWxUREaHbwv+fgh0hlzxeh++U3vv/3tDx48e/df8BAACAnsjq/Emydw5FhxMAAHbm9UkObqkDAAC4YFblT5Ktcyg2DQcAAAAAAICp6HACAMDOfD5JFjzW18afzgEAgMuMVfmTEcue6HACAAAAAACAqehwAgDAxnxen3wW7EHAM0gAAIBdWJU/SfbOoehwAgAAAAAAgKnocAIAwM58Xlmzh5NF+xwAAABcalblT0Yse6LDCQAAAAAAAKai4AQAAAAAAABTcUsdAAA2xqbhAAAAXcOm4eagwwkAAAAAAACmosMJAAA7Y9NwAACArmHTcFNQcAIAwMY6dFqyoFO7Q6cvfRAAAAALWJU/GbFsioITAAA2FBISIrfbrQ8af2dZTLfbrZCQEMviAQAAmKk78ifJvjmUw2fnHaoAALiMtbe369SpU5bFCwkJUVhYmGXxAAAAzGZ1/iTZN4ei4AQAAAAAAABT8ZQ6AAAAAAAAmIqCEwAAAAAAAExFwQkAAAAAAACmouAEAAAAAAAAU1FwAgAAAAAAgKkoOAEAAAAAAMBUFJwAAAAAAABgqv8fUUn+6s449JEAAAAASUVORK5CYII=",
      "text/plain": [
       "<Figure size 1200x600 with 4 Axes>"
      ]
     },
     "metadata": {},
     "output_type": "display_data"
    }
   ],
   "source": [
    "# Plot Confusion Matrices\n",
    "fig, ax = plt.subplots(1, 2, figsize=(12, 6))\n",
    "\n",
    "ConfusionMatrixDisplay(h1n1_cm, display_labels=[\"No\", \"Yes\"]).plot(ax=ax[0])\n",
    "ax[0].set_title(\"H1N1 Vaccine Confusion Matrix\")\n",
    "\n",
    "ConfusionMatrixDisplay(seasonal_cm, display_labels=[\"No\", \"Yes\"]).plot(ax=ax[1])\n",
    "ax[1].set_title(\"Seasonal Vaccine Confusion Matrix\")\n",
    "\n",
    "plt.tight_layout()\n",
    "plt.show()"
   ]
  },
  {
   "cell_type": "markdown",
   "metadata": {},
   "source": [
    "Explanation: \n",
    "    We generate binary predictions using a threshold of 0.5, compute confusion matrices, and plot them to evaluate the model's performance."
   ]
  },
  {
   "cell_type": "markdown",
   "metadata": {},
   "source": [
    "Analysis of H1N1 Vaccine Confusion Matrix:\n",
    "    True Positives: 3968 correctly predicted \"No\" for H1N1 vaccine\n",
    "    True Negatives: 514 correctly predicted \"Yes\" for H1N1 vaccine\n",
    "    False Positives: 239 incorrectly predicted \"Yes\" for H1N1 vaccine when it was \"No\"\n",
    "    False Negatives: 621 incorrectly predicted \"No\" for H1N1 vaccine when it was \"Yes\"\n",
    "\n",
    "Analysis of Seasonal Vaccine Confusion Matrix:\n",
    "    True Positives: 2315 correctly predicted \"No\" for Seasonal vaccine\n",
    "    True Negatives: 1740 correctly predicted \"Yes\" for Seasonal vaccine\n",
    "    False Positives: 539 incorrectly predicted \"Yes\" for Seasonal vaccine when it was \"No\"\n",
    "    False Negatives: 748 incorrectly predicted \"No\" for Seasonal vaccine when it was \"Yes\"\n",
    "\n",
    "Interpretation:\n",
    "    H1N1 Vaccine: The model seems to have a higher number of True Positives (correctly predicting \"No\") compared to True Negatives. This might indicate a bias towards predicting the negative class. The False Negative rate is also relatively high, which means the model misses a significant number of cases where the actual response is \"Yes\".\n",
    "    Seasonal Vaccine: The model appears to be more balanced in terms of True Positives and True Negatives. The False Negative rate is still relatively high, but lower than that of the H1N1 vaccine.\n",
    "\n",
    "\n",
    " This model (with Imputation) seems to predict better then the model woth dropping columns as it has a lower False Negative Rate, indicating it's more likely to correctly identify individuals who will accept the vaccine."
   ]
  },
  {
   "cell_type": "code",
   "execution_count": 25,
>>>>>>> Stashed changes
   "metadata": {},
   "outputs": [],
   "source": [
    "# Final Model Fitting on Full Training Data\n",
    "best_estimator.fit(X_train_df, training_set_labels_df)\n",
    "preds = best_estimator.predict_proba(X_test_df)"
   ]
  },
  {
   "cell_type": "markdown",
   "metadata": {},
   "source": [
    "Explanation: \n",
    "    We fit the best estimator on the full training data and make final predictions on the test set."
   ]
  },
  {
   "cell_type": "code",
<<<<<<< Updated upstream
   "execution_count": 19,
=======
   "execution_count": 26,
>>>>>>> Stashed changes
   "metadata": {},
   "outputs": [
    {
     "name": "stdout",
     "output_type": "stream",
     "text": [
      "y_preds.shape: (26708, 2)\n"
     ]
    }
   ],
   "source": [
    "# Generate Final Predictions\n",
    "y_preds = pd.DataFrame(\n",
    "    {\n",
    "        'h1n1_vaccine': preds[0][:, 1],\n",
    "        'seasonal_vaccine': preds[1][:, 1],\n",
    "    },\n",
    "    index=X_test_df.index\n",
    ")\n",
    "print('y_preds.shape:', y_preds.shape)"
   ]
  },
  {
   "cell_type": "markdown",
   "metadata": {},
   "source": [
    "Explanation: \n",
    "    We convert the final predictions into a DataFrame."
   ]
  },
  {
   "cell_type": "code",
   "execution_count": 20,
   "metadata": {},
   "outputs": [],
   "source": [
    "# Save Predictions to CSV\n",
    "y_preds.to_csv('results/pred_decision_tree_impute_output.csv', index=True)\n"
   ]
  }
 ],
 "metadata": {
  "kernelspec": {
   "display_name": "ml-env",
   "language": "python",
   "name": "python3"
  },
  "language_info": {
   "codemirror_mode": {
    "name": "ipython",
    "version": 3
   },
   "file_extension": ".py",
   "mimetype": "text/x-python",
   "name": "python",
   "nbconvert_exporter": "python",
   "pygments_lexer": "ipython3",
   "version": "3.11.9"
  }
 },
 "nbformat": 4,
 "nbformat_minor": 2
}
