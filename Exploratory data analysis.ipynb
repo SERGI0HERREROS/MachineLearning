{
 "cells": [
  {
   "cell_type": "markdown",
   "metadata": {},
   "source": [
    "# 🤖 Exploratory data analysis (EDA)"
   ]
  },
  {
   "cell_type": "markdown",
   "metadata": {},
   "source": [
    "### Authors:\n",
    "| Name                          | Github user                                        |\n",
    "|-------------------------------|----------------------------------------------------|\n",
    "| Sergio Herreros Fernández     | [@SergioHerreros](https://github.com/SERGI0HERREROS)\n",
    "| Francisco Javier Luna Ortiz   | [@Lunao01](https://github.com/Lunao01)\n",
    "| Carlos Romero Navarro         | [@KarManiatic](https://github.com/KarManiatic)\n",
    "| Tatsiana Shelepen             | [@Naschkatzee](https://github.com/Naschkatzee)  "
   ]
  },
  {
   "cell_type": "markdown",
   "metadata": {},
   "source": [
    "<br>"
   ]
  },
  {
   "cell_type": "markdown",
   "metadata": {},
   "source": [
    "## 1. Introduction"
   ]
  },
  {
   "cell_type": "markdown",
   "metadata": {},
   "source": [
    "### 1.1. Problem description"
   ]
  },
  {
   "cell_type": "markdown",
   "metadata": {},
   "source": [
    "The goal of this project is to predict the probability that people receive two types of vaccines:\n",
    "- H1N1 flu vaccine.\n",
    "- Seasonal flu vaccine.\n",
    "\n",
    "All the information is on the following site:<br>\n",
    "https://www.drivendata.org/competitions/66/flu-shot-learning/page/210/"
   ]
  },
  {
   "cell_type": "markdown",
   "metadata": {},
   "source": [
    "<br>"
   ]
  },
  {
   "cell_type": "markdown",
   "metadata": {},
   "source": [
    "### 1.2. Labels"
   ]
  },
  {
   "cell_type": "markdown",
   "metadata": {},
   "source": [
    "There are two target variables:\n",
    "- **h1n1_vaccine** - Whether respondent received H1N1 flu vaccine.\n",
    "- **seasonal_vaccine** - Whether respondent received seasonal flu vaccine.\n",
    "\n",
    "Both are binary variables: 0 = No; 1 = Yes."
   ]
  },
  {
   "cell_type": "markdown",
   "metadata": {},
   "source": [
    "<br>"
   ]
  },
  {
   "cell_type": "markdown",
   "metadata": {},
   "source": [
    "### 1.3. Features"
   ]
  },
  {
   "cell_type": "markdown",
   "metadata": {},
   "source": [
    "List of features:\n",
    "\n",
    "- **h1n1_concern** - Level of concern about the H1N1 flu.\n",
    "    - 0 = Not at all concerned; 1 = Not very concerned; 2 = Somewhat concerned; 3 = Very concerned.\n",
    "\n",
    "- **h1n1_knowledge** - Level of knowledge about H1N1 flu.\n",
    "    - 0 = No knowledge; 1 = A little knowledge; 2 = A lot of knowledge.\n",
    "\n",
    "- **behavioral_antiviral_meds** - Has taken antiviral medications. (binary)\n",
    "\n",
    "- **behavioral_avoidance** - Has avoided close contact with others with flu-like symptoms. (binary)\n",
    "\n",
    "- **behavioral_face_mask** - Has bought a face mask. (binary)\n",
    "\n",
    "- **behavioral_wash_hands** - Has frequently washed hands or used hand sanitizer. (binary)\n",
    "\n",
    "- **behavioral_large_gatherings** - Has reduced time at large gatherings. (binary)\n",
    "\n",
    "- **behavioral_outside_home** - Has reduced contact with people outside of own household. (binary)\n",
    "\n",
    "- **behavioral_touch_face** - Has avoided touching eyes, nose, or mouth. (binary)\n",
    "\n",
    "- **doctor_recc_h1n1** - H1N1 flu vaccine was recommended by doctor. (binary)\n",
    "\n",
    "- **doctor_recc_seasonal** - Seasonal flu vaccine was recommended by doctor. (binary)\n",
    "\n",
    "- **chronic_med_condition** - Has any of the following chronic medical conditions: asthma or an other lung condition, diabetes, a heart condition, a kidney condition, sickle cell anemia or other anemia, a neurological or neuromuscular condition, a liver condition, or a weakened immune system caused by a chronic illness or by medicines taken for a chronic illness. (binary)\n",
    "\n",
    "- **child_under_6_months** - Has regular close contact with a child under the age of six months. (binary)\n",
    "\n",
    "- **health_worker** - Is a healthcare worker. (binary)\n",
    "\n",
    "- **health_insurance** - Has health insurance. (binary)\n",
    "\n",
    "- **opinion_h1n1_vacc_effective** - Respondent's opinion about H1N1 vaccine effectiveness.\n",
    "    - 1 = Not at all effective; 2 = Not very effective; 3 = Don't know; 4 = Somewhat effective; 5 = Very effective.\n",
    "\n",
    "- **opinion_h1n1_risk** - Respondent's opinion about risk of getting sick with H1N1 flu without vaccine.\n",
    "    - 1 = Very Low; 2 = Somewhat low; 3 = Don't know; 4 = Somewhat high; 5 = Very high.\n",
    "\n",
    "- **opinion_h1n1_sick_from_vacc** - Respondent's worry of getting sick from taking H1N1 vaccine.\n",
    "    - 1 = Not at all worried; 2 = Not very worried; 3 = Don't know; 4 = Somewhat worried; 5 = Very worried.\n",
    "\n",
    "- **opinion_seas_vacc_effective** - Respondent's opinion about seasonal flu vaccine effectiveness.\n",
    "    - 1 = Not at all effective; 2 = Not very effective; 3 = Don't know; 4 = Somewhat effective; 5 = Very effective.\n",
    "\n",
    "- **opinion_seas_risk** - Respondent's opinion about risk of getting sick with seasonal flu without vaccine.\n",
    "    - 1 = Very Low; 2 = Somewhat low; 3 = Don't know; 4 = Somewhat high; 5 = Very high.\n",
    "    \n",
    "- **opinion_seas_sick_from_vacc** - Respondent's worry of getting sick from taking seasonal flu vaccine.\n",
    "    - 1 = Not at all worried; 2 = Not very worried; 3 = Don't know; 4 = Somewhat worried; 5 = Very worried.\n",
    "\n",
    "- **age_group** - Age group of respondent.\n",
    "\n",
    "- **education** - Self-reported education level.\n",
    "\n",
    "- **race** - Race of respondent.\n",
    "\n",
    "- **sex** - Sex of respondent.\n",
    "\n",
    "- **income_poverty** - Household annual income of respondent with respect to 2008 Census poverty thresholds.\n",
    "\n",
    "- **marital_status** - Marital status of respondent.\n",
    "\n",
    "- **rent_or_own** - Housing situation of respondent.\n",
    "\n",
    "- **employment_status** - Employment status of respondent.\n",
    "\n",
    "- **hhs_geo_region** - Respondent's residence using a 10-region geographic classification defined by the U.S. Dept. of Health and Human Services. Values are represented as short random character strings.\n",
    "\n",
    "- **census_msa** - Respondent's residence within metropolitan statistical areas (MSA) as defined by the U.S. Census.\n",
    "\n",
    "- **household_adults** - Number of other adults in household, top-coded to 3.\n",
    "\n",
    "- **household_children** - Number of children in household, top-coded to 3.\n",
    "\n",
    "- **employment_industry** - Type of industry respondent is employed in. Values are represented as short random character strings.\n",
    "\n",
    "- **employment_occupation** - Type of occupation of respondent. Values are represented as short random character strings."
   ]
  },
  {
   "cell_type": "markdown",
   "metadata": {},
   "source": [
    "Note: For all binary variables: 0 = No; 1 = Yes."
   ]
  },
  {
   "cell_type": "markdown",
   "metadata": {},
   "source": [
    "<br>"
   ]
  },
  {
   "cell_type": "markdown",
   "metadata": {},
   "source": [
    "## 2. Data"
   ]
  },
  {
   "cell_type": "markdown",
   "metadata": {},
   "source": [
    "The datasets that will be used throughout the project are imported."
   ]
  },
  {
   "cell_type": "code",
   "execution_count": 7,
   "metadata": {},
   "outputs": [],
   "source": [
    "# Libraries\n",
    "import pandas as pd\n",
    "\n",
    "# Data\n",
    "training_set_features_df = pd.read_csv('data/training_set_features.csv') # training set features\n",
    "\n",
    "training_set_labels_df = pd.read_csv('data/training_set_labels.csv') # training set labels\n",
    "\n",
    "test_set_features_df = pd.read_csv('data/test_set_features.csv') # test set features"
   ]
  },
  {
   "cell_type": "markdown",
   "metadata": {},
   "source": [
    "<br>"
   ]
  },
  {
   "cell_type": "markdown",
   "metadata": {},
   "source": [
    "## 3. Exploratory data analysis (EDA)"
   ]
  },
  {
   "cell_type": "markdown",
   "metadata": {},
   "source": [
    "Exploratory Data Analysis (EDA) is a critical step in the data analysis process, where various techniques are used to summarize the main characteristics of a dataset, often through visualizations and statistical analysis. EDA helps to identify patterns, trends, and anomalies in the data, as well as to uncover relationships between variables. This phase is essential for understanding the data and making informed decisions about how to preprocess and model it."
   ]
  }
 ],
 "metadata": {
  "kernelspec": {
   "display_name": "Python 3",
   "language": "python",
   "name": "python3"
  },
  "language_info": {
   "codemirror_mode": {
    "name": "ipython",
    "version": 3
   },
   "file_extension": ".py",
   "mimetype": "text/x-python",
   "name": "python",
   "nbconvert_exporter": "python",
   "pygments_lexer": "ipython3",
   "version": "3.11.8"
  }
 },
 "nbformat": 4,
 "nbformat_minor": 2
}
