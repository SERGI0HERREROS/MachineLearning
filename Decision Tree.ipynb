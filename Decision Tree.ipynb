{
  "cells": [
    {
      "cell_type": "markdown",
      "metadata": {},
      "source": [
        "# **Decision Tree**"
      ]
    },
    {
      "cell_type": "markdown",
      "metadata": {},
      "source": [
        "**This deciscion tree has taken the data from the gold data**"
      ]
    },
    {
      "cell_type": "code",
<<<<<<< Updated upstream
      "execution_count": 19,
=======
      "execution_count": 1,
>>>>>>> Stashed changes
      "metadata": {
        "id": "oxXdyruFmWeg"
      },
      "outputs": [],
      "source": [
        "# Decision Tree Model for Predicting Vaccine Probabilities with Categorical Handling\n",
        "\n",
        "# Import necessary libraries\n",
        "import pandas as pd\n",
        "import numpy as np\n",
        "import matplotlib.pyplot as plt\n",
        "import seaborn as sns\n",
        "from sklearn.model_selection import train_test_split, GridSearchCV\n",
        "from sklearn.tree import DecisionTreeClassifier\n",
        "from sklearn.metrics import roc_auc_score, confusion_matrix, classification_report, roc_curve\n",
        "from sklearn.multioutput import MultiOutputClassifier\n",
        "from sklearn.metrics import ConfusionMatrixDisplay"
      ]
    },
    {
      "cell_type": "code",
<<<<<<< Updated upstream
      "execution_count": 20,
=======
      "execution_count": 2,
>>>>>>> Stashed changes
      "metadata": {
        "colab": {
          "base_uri": "https://localhost:8080/",
          "height": 376
        },
        "id": "We2KrdHioAOX",
        "outputId": "21f931b3-93e4-4114-d874-7833d78bd6d3"
      },
      "outputs": [],
      "source": [
        "# Load the datasets\n",
        "X_train_df = pd.read_csv('gold/X_train_df.csv', index_col='respondent_id')\n",
        "training_set_labels_df = pd.read_csv('data/training_set_labels.csv', index_col='respondent_id')\n",
        "X_test_df = pd.read_csv('gold/X_test_df.csv', index_col='respondent_id')\n",
        "submission_format_df = pd.read_csv('data/submission_format.csv', index_col='respondent_id')\n"
      ]
    },
    {
      "cell_type": "code",
<<<<<<< Updated upstream
      "execution_count": 21,
=======
      "execution_count": 3,
      "metadata": {},
      "outputs": [
        {
          "name": "stdout",
          "output_type": "stream",
          "text": [
            "Dropping columns with more than 50.0% missing values: ['employment_occupation']\n"
          ]
        }
      ],
      "source": [
        "# Check and Handle Missing Values\n",
        "missing_threshold = 0.5  # Drop columns with more than 50% missing values\n",
        "missing_percentages = X_train_df.isnull().mean()\n",
        "columns_to_drop = missing_percentages[missing_percentages > missing_threshold].index\n",
        "\n",
        "print(f\"Dropping columns with more than {missing_threshold*100}% missing values:\", columns_to_drop.tolist())\n",
        "X_train_df.drop(columns=columns_to_drop, inplace=True)\n",
        "X_test_df.drop(columns=columns_to_drop, inplace=True)\n"
      ]
    },
    {
      "cell_type": "markdown",
      "metadata": {},
      "source": [
        "Explanation:\n",
        "    The code calculates the percentage of missing values/feature. And then it drops features with more than 50% missing data.\n",
        "\n",
        "Justification:\n",
        "    It preserves the features with sufficient data to ensure reliable model training while discarding the features that are uninformative."
      ]
    },
    {
      "cell_type": "code",
      "execution_count": 4,
      "metadata": {},
      "outputs": [
        {
          "name": "stdout",
          "output_type": "stream",
          "text": [
            "Categorical columns: ['age_group', 'education', 'race', 'sex', 'income_poverty', 'marital_status', 'rent_or_own', 'employment_status', 'hhs_geo_region', 'census_msa', 'employment_industry']\n"
          ]
        }
      ],
      "source": [
        "# Handle Categorical Data\n",
        "categorical_columns = X_train_df.select_dtypes(include=['object']).columns\n",
        "print(\"Categorical columns:\", categorical_columns.tolist())\n",
        "X_train_df = pd.get_dummies(X_train_df, columns=categorical_columns, drop_first=True)\n",
        "X_test_df = pd.get_dummies(X_test_df, columns=categorical_columns, drop_first=True)\n",
        "X_test_df = X_test_df.reindex(columns=X_train_df.columns, fill_value=0)"
      ]
    },
    {
      "cell_type": "markdown",
      "metadata": {},
      "source": [
        "Explanation:\n",
        "    The part of the code converts categorical features into numerical format using one-hot encoding. It ensures that the features are aligned consistently between training and test datasets.\n",
        "\n",
        "Justification:\n",
        "    As Decision Trees models require numerical input, one-hot encoding allows us to use categorical data effectively."
      ]
    },
    {
      "cell_type": "code",
      "execution_count": 5,
>>>>>>> Stashed changes
      "metadata": {},
      "outputs": [],
      "source": [
        "X_train, X_test, y_train, y_test = train_test_split(X_train_df, training_set_labels_df, test_size=0.2, random_state=42, stratify=training_set_labels_df)\n"
      ]
    },
    {
<<<<<<< Updated upstream
      "cell_type": "code",
      "execution_count": 22,
=======
      "cell_type": "markdown",
      "metadata": {},
      "source": [
        "Explanation:\n",
        "    The code splits the data into training and test sets preserving the distribution of target classes.\n",
        "\n",
        "Justification:\n",
        "    Using a stratified split that reflects the real-world class distribution in the end ensures fair model evaluation."
      ]
    },
    {
      "cell_type": "code",
      "execution_count": 7,
      "metadata": {},
      "outputs": [],
      "source": [
        "# Hyperparameter Grid for Decision Trees\n",
        "param_grid = {\n",
        "    'estimator__max_depth': [3, 5, 10, None],\n",
        "    'estimator__min_samples_split': [2, 5, 10],\n",
        "    'estimator__min_samples_leaf': [1, 2, 4]\n",
        "}"
      ]
    },
    {
      "cell_type": "markdown",
      "metadata": {},
      "source": [
        "Explanation:\n",
        "    The code defines a range of hyperparameters for tuning the Decision Tree model.\n",
        "\n",
        "Justification:\n",
        "    In order to find the best-performing model configuration we can optimize the parameters."
      ]
    },
    {
      "cell_type": "code",
      "execution_count": 8,
>>>>>>> Stashed changes
      "metadata": {},
      "outputs": [],
      "source": [
        "# MultiOutputClassifier with Decision Tree\n",
        "multi_output_clf = MultiOutputClassifier(DecisionTreeClassifier(random_state=42))"
      ]
    },
    {
      "cell_type": "code",
<<<<<<< Updated upstream
      "execution_count": 23,
=======
      "execution_count": 9,
>>>>>>> Stashed changes
      "metadata": {},
      "outputs": [],
      "source": [
        "# # Hyperparameter Grid for Decision Trees\n",
        "# param_grid = {\n",
        "#     'estimator__max_depth': [3, 5, 10, None],\n",
        "#     'estimator__min_samples_split': [2, 5, 10],\n",
        "#     'estimator__min_samples_leaf': [1, 2, 4]\n",
        "# }"
      ]
    },
    {
      "cell_type": "code",
      "execution_count": 24,
      "metadata": {},
      "outputs": [],
      "source": [
        "# # GridSearchCV for Hyperparameter Tuning\n",
        "# grid_search = GridSearchCV(\n",
        "#     estimator=multi_output_clf,\n",
        "#     param_grid=param_grid,\n",
        "#     cv=5,  # 5-fold cross-validation\n",
        "#     scoring='roc_auc',  # Use ROC AUC as the scoring metric\n",
        "#     n_jobs=-1  # Use all available cores\n",
        "# )"
      ]
    },
    {
      "cell_type": "code",
      "execution_count": 25,
      "metadata": {},
      "outputs": [],
      "source": [
        "# # Print Best Parameters and Score\n",
        "# print(\"Best parameters:\", grid_search.best_params_)\n",
        "# print(\"Best cross-validation score (AUC):\", grid_search.best_score_)\n",
        "\n",
        "# Best parameters: {'estimator__max_depth': 5, 'estimator__min_samples_leaf': 4, 'estimator__min_samples_split': 2}\n",
        "# Best cross-validation score (AUC): 0.8306425214386911"
      ]
    },
    {
      "cell_type": "code",
      "execution_count": 26,
      "metadata": {},
      "outputs": [],
      "source": [
        "estimators = MultiOutputClassifier(\n",
        "    estimator=DecisionTreeClassifier(\n",
        "        max_depth=5, \n",
        "        min_samples_leaf=4,\n",
        "        min_samples_split=2\n",
        "    )\n",
        ")"
      ]
    },
    {
      "cell_type": "code",
<<<<<<< Updated upstream
      "execution_count": 27,
=======
      "execution_count": 10,
>>>>>>> Stashed changes
      "metadata": {},
      "outputs": [
        {
          "data": {
            "text/html": [
              "<style>#sk-container-id-2 {\n",
              "  /* Definition of color scheme common for light and dark mode */\n",
              "  --sklearn-color-text: black;\n",
              "  --sklearn-color-line: gray;\n",
              "  /* Definition of color scheme for unfitted estimators */\n",
              "  --sklearn-color-unfitted-level-0: #fff5e6;\n",
              "  --sklearn-color-unfitted-level-1: #f6e4d2;\n",
              "  --sklearn-color-unfitted-level-2: #ffe0b3;\n",
              "  --sklearn-color-unfitted-level-3: chocolate;\n",
              "  /* Definition of color scheme for fitted estimators */\n",
              "  --sklearn-color-fitted-level-0: #f0f8ff;\n",
              "  --sklearn-color-fitted-level-1: #d4ebff;\n",
              "  --sklearn-color-fitted-level-2: #b3dbfd;\n",
              "  --sklearn-color-fitted-level-3: cornflowerblue;\n",
              "\n",
              "  /* Specific color for light theme */\n",
              "  --sklearn-color-text-on-default-background: var(--sg-text-color, var(--theme-code-foreground, var(--jp-content-font-color1, black)));\n",
              "  --sklearn-color-background: var(--sg-background-color, var(--theme-background, var(--jp-layout-color0, white)));\n",
              "  --sklearn-color-border-box: var(--sg-text-color, var(--theme-code-foreground, var(--jp-content-font-color1, black)));\n",
              "  --sklearn-color-icon: #696969;\n",
              "\n",
              "  @media (prefers-color-scheme: dark) {\n",
              "    /* Redefinition of color scheme for dark theme */\n",
              "    --sklearn-color-text-on-default-background: var(--sg-text-color, var(--theme-code-foreground, var(--jp-content-font-color1, white)));\n",
              "    --sklearn-color-background: var(--sg-background-color, var(--theme-background, var(--jp-layout-color0, #111)));\n",
              "    --sklearn-color-border-box: var(--sg-text-color, var(--theme-code-foreground, var(--jp-content-font-color1, white)));\n",
              "    --sklearn-color-icon: #878787;\n",
              "  }\n",
              "}\n",
              "\n",
              "#sk-container-id-2 {\n",
              "  color: var(--sklearn-color-text);\n",
              "}\n",
              "\n",
              "#sk-container-id-2 pre {\n",
              "  padding: 0;\n",
              "}\n",
              "\n",
              "#sk-container-id-2 input.sk-hidden--visually {\n",
              "  border: 0;\n",
              "  clip: rect(1px 1px 1px 1px);\n",
              "  clip: rect(1px, 1px, 1px, 1px);\n",
              "  height: 1px;\n",
              "  margin: -1px;\n",
              "  overflow: hidden;\n",
              "  padding: 0;\n",
              "  position: absolute;\n",
              "  width: 1px;\n",
              "}\n",
              "\n",
              "#sk-container-id-2 div.sk-dashed-wrapped {\n",
              "  border: 1px dashed var(--sklearn-color-line);\n",
              "  margin: 0 0.4em 0.5em 0.4em;\n",
              "  box-sizing: border-box;\n",
              "  padding-bottom: 0.4em;\n",
              "  background-color: var(--sklearn-color-background);\n",
              "}\n",
              "\n",
              "#sk-container-id-2 div.sk-container {\n",
              "  /* jupyter's `normalize.less` sets `[hidden] { display: none; }`\n",
              "     but bootstrap.min.css set `[hidden] { display: none !important; }`\n",
              "     so we also need the `!important` here to be able to override the\n",
              "     default hidden behavior on the sphinx rendered scikit-learn.org.\n",
              "     See: https://github.com/scikit-learn/scikit-learn/issues/21755 */\n",
              "  display: inline-block !important;\n",
              "  position: relative;\n",
              "}\n",
              "\n",
              "#sk-container-id-2 div.sk-text-repr-fallback {\n",
              "  display: none;\n",
              "}\n",
              "\n",
              "div.sk-parallel-item,\n",
              "div.sk-serial,\n",
              "div.sk-item {\n",
              "  /* draw centered vertical line to link estimators */\n",
              "  background-image: linear-gradient(var(--sklearn-color-text-on-default-background), var(--sklearn-color-text-on-default-background));\n",
              "  background-size: 2px 100%;\n",
              "  background-repeat: no-repeat;\n",
              "  background-position: center center;\n",
              "}\n",
              "\n",
              "/* Parallel-specific style estimator block */\n",
              "\n",
              "#sk-container-id-2 div.sk-parallel-item::after {\n",
              "  content: \"\";\n",
              "  width: 100%;\n",
              "  border-bottom: 2px solid var(--sklearn-color-text-on-default-background);\n",
              "  flex-grow: 1;\n",
              "}\n",
              "\n",
              "#sk-container-id-2 div.sk-parallel {\n",
              "  display: flex;\n",
              "  align-items: stretch;\n",
              "  justify-content: center;\n",
              "  background-color: var(--sklearn-color-background);\n",
              "  position: relative;\n",
              "}\n",
              "\n",
              "#sk-container-id-2 div.sk-parallel-item {\n",
              "  display: flex;\n",
              "  flex-direction: column;\n",
              "}\n",
              "\n",
              "#sk-container-id-2 div.sk-parallel-item:first-child::after {\n",
              "  align-self: flex-end;\n",
              "  width: 50%;\n",
              "}\n",
              "\n",
              "#sk-container-id-2 div.sk-parallel-item:last-child::after {\n",
              "  align-self: flex-start;\n",
              "  width: 50%;\n",
              "}\n",
              "\n",
              "#sk-container-id-2 div.sk-parallel-item:only-child::after {\n",
              "  width: 0;\n",
              "}\n",
              "\n",
              "/* Serial-specific style estimator block */\n",
              "\n",
              "#sk-container-id-2 div.sk-serial {\n",
              "  display: flex;\n",
              "  flex-direction: column;\n",
              "  align-items: center;\n",
              "  background-color: var(--sklearn-color-background);\n",
              "  padding-right: 1em;\n",
              "  padding-left: 1em;\n",
              "}\n",
              "\n",
              "\n",
              "/* Toggleable style: style used for estimator/Pipeline/ColumnTransformer box that is\n",
              "clickable and can be expanded/collapsed.\n",
              "- Pipeline and ColumnTransformer use this feature and define the default style\n",
              "- Estimators will overwrite some part of the style using the `sk-estimator` class\n",
              "*/\n",
              "\n",
              "/* Pipeline and ColumnTransformer style (default) */\n",
              "\n",
              "#sk-container-id-2 div.sk-toggleable {\n",
              "  /* Default theme specific background. It is overwritten whether we have a\n",
              "  specific estimator or a Pipeline/ColumnTransformer */\n",
              "  background-color: var(--sklearn-color-background);\n",
              "}\n",
              "\n",
              "/* Toggleable label */\n",
              "#sk-container-id-2 label.sk-toggleable__label {\n",
              "  cursor: pointer;\n",
              "  display: block;\n",
              "  width: 100%;\n",
              "  margin-bottom: 0;\n",
              "  padding: 0.5em;\n",
              "  box-sizing: border-box;\n",
              "  text-align: center;\n",
              "}\n",
              "\n",
              "#sk-container-id-2 label.sk-toggleable__label-arrow:before {\n",
              "  /* Arrow on the left of the label */\n",
              "  content: \"▸\";\n",
              "  float: left;\n",
              "  margin-right: 0.25em;\n",
              "  color: var(--sklearn-color-icon);\n",
              "}\n",
              "\n",
              "#sk-container-id-2 label.sk-toggleable__label-arrow:hover:before {\n",
              "  color: var(--sklearn-color-text);\n",
              "}\n",
              "\n",
              "/* Toggleable content - dropdown */\n",
              "\n",
              "#sk-container-id-2 div.sk-toggleable__content {\n",
              "  max-height: 0;\n",
              "  max-width: 0;\n",
              "  overflow: hidden;\n",
              "  text-align: left;\n",
              "  /* unfitted */\n",
              "  background-color: var(--sklearn-color-unfitted-level-0);\n",
              "}\n",
              "\n",
              "#sk-container-id-2 div.sk-toggleable__content.fitted {\n",
              "  /* fitted */\n",
              "  background-color: var(--sklearn-color-fitted-level-0);\n",
              "}\n",
              "\n",
              "#sk-container-id-2 div.sk-toggleable__content pre {\n",
              "  margin: 0.2em;\n",
              "  border-radius: 0.25em;\n",
              "  color: var(--sklearn-color-text);\n",
              "  /* unfitted */\n",
              "  background-color: var(--sklearn-color-unfitted-level-0);\n",
              "}\n",
              "\n",
              "#sk-container-id-2 div.sk-toggleable__content.fitted pre {\n",
              "  /* unfitted */\n",
              "  background-color: var(--sklearn-color-fitted-level-0);\n",
              "}\n",
              "\n",
              "#sk-container-id-2 input.sk-toggleable__control:checked~div.sk-toggleable__content {\n",
              "  /* Expand drop-down */\n",
              "  max-height: 200px;\n",
              "  max-width: 100%;\n",
              "  overflow: auto;\n",
              "}\n",
              "\n",
              "#sk-container-id-2 input.sk-toggleable__control:checked~label.sk-toggleable__label-arrow:before {\n",
              "  content: \"▾\";\n",
              "}\n",
              "\n",
              "/* Pipeline/ColumnTransformer-specific style */\n",
              "\n",
              "#sk-container-id-2 div.sk-label input.sk-toggleable__control:checked~label.sk-toggleable__label {\n",
              "  color: var(--sklearn-color-text);\n",
              "  background-color: var(--sklearn-color-unfitted-level-2);\n",
              "}\n",
              "\n",
              "#sk-container-id-2 div.sk-label.fitted input.sk-toggleable__control:checked~label.sk-toggleable__label {\n",
              "  background-color: var(--sklearn-color-fitted-level-2);\n",
              "}\n",
              "\n",
              "/* Estimator-specific style */\n",
              "\n",
              "/* Colorize estimator box */\n",
              "#sk-container-id-2 div.sk-estimator input.sk-toggleable__control:checked~label.sk-toggleable__label {\n",
              "  /* unfitted */\n",
              "  background-color: var(--sklearn-color-unfitted-level-2);\n",
              "}\n",
              "\n",
              "#sk-container-id-2 div.sk-estimator.fitted input.sk-toggleable__control:checked~label.sk-toggleable__label {\n",
              "  /* fitted */\n",
              "  background-color: var(--sklearn-color-fitted-level-2);\n",
              "}\n",
              "\n",
              "#sk-container-id-2 div.sk-label label.sk-toggleable__label,\n",
              "#sk-container-id-2 div.sk-label label {\n",
              "  /* The background is the default theme color */\n",
              "  color: var(--sklearn-color-text-on-default-background);\n",
              "}\n",
              "\n",
              "/* On hover, darken the color of the background */\n",
              "#sk-container-id-2 div.sk-label:hover label.sk-toggleable__label {\n",
              "  color: var(--sklearn-color-text);\n",
              "  background-color: var(--sklearn-color-unfitted-level-2);\n",
              "}\n",
              "\n",
              "/* Label box, darken color on hover, fitted */\n",
              "#sk-container-id-2 div.sk-label.fitted:hover label.sk-toggleable__label.fitted {\n",
              "  color: var(--sklearn-color-text);\n",
              "  background-color: var(--sklearn-color-fitted-level-2);\n",
              "}\n",
              "\n",
              "/* Estimator label */\n",
              "\n",
              "#sk-container-id-2 div.sk-label label {\n",
              "  font-family: monospace;\n",
              "  font-weight: bold;\n",
              "  display: inline-block;\n",
              "  line-height: 1.2em;\n",
              "}\n",
              "\n",
              "#sk-container-id-2 div.sk-label-container {\n",
              "  text-align: center;\n",
              "}\n",
              "\n",
              "/* Estimator-specific */\n",
              "#sk-container-id-2 div.sk-estimator {\n",
              "  font-family: monospace;\n",
              "  border: 1px dotted var(--sklearn-color-border-box);\n",
              "  border-radius: 0.25em;\n",
              "  box-sizing: border-box;\n",
              "  margin-bottom: 0.5em;\n",
              "  /* unfitted */\n",
              "  background-color: var(--sklearn-color-unfitted-level-0);\n",
              "}\n",
              "\n",
              "#sk-container-id-2 div.sk-estimator.fitted {\n",
              "  /* fitted */\n",
              "  background-color: var(--sklearn-color-fitted-level-0);\n",
              "}\n",
              "\n",
              "/* on hover */\n",
              "#sk-container-id-2 div.sk-estimator:hover {\n",
              "  /* unfitted */\n",
              "  background-color: var(--sklearn-color-unfitted-level-2);\n",
              "}\n",
              "\n",
              "#sk-container-id-2 div.sk-estimator.fitted:hover {\n",
              "  /* fitted */\n",
              "  background-color: var(--sklearn-color-fitted-level-2);\n",
              "}\n",
              "\n",
              "/* Specification for estimator info (e.g. \"i\" and \"?\") */\n",
              "\n",
              "/* Common style for \"i\" and \"?\" */\n",
              "\n",
              ".sk-estimator-doc-link,\n",
              "a:link.sk-estimator-doc-link,\n",
              "a:visited.sk-estimator-doc-link {\n",
              "  float: right;\n",
              "  font-size: smaller;\n",
              "  line-height: 1em;\n",
              "  font-family: monospace;\n",
              "  background-color: var(--sklearn-color-background);\n",
              "  border-radius: 1em;\n",
              "  height: 1em;\n",
              "  width: 1em;\n",
              "  text-decoration: none !important;\n",
              "  margin-left: 1ex;\n",
              "  /* unfitted */\n",
              "  border: var(--sklearn-color-unfitted-level-1) 1pt solid;\n",
              "  color: var(--sklearn-color-unfitted-level-1);\n",
              "}\n",
              "\n",
              ".sk-estimator-doc-link.fitted,\n",
              "a:link.sk-estimator-doc-link.fitted,\n",
              "a:visited.sk-estimator-doc-link.fitted {\n",
              "  /* fitted */\n",
              "  border: var(--sklearn-color-fitted-level-1) 1pt solid;\n",
              "  color: var(--sklearn-color-fitted-level-1);\n",
              "}\n",
              "\n",
              "/* On hover */\n",
              "div.sk-estimator:hover .sk-estimator-doc-link:hover,\n",
              ".sk-estimator-doc-link:hover,\n",
              "div.sk-label-container:hover .sk-estimator-doc-link:hover,\n",
              ".sk-estimator-doc-link:hover {\n",
              "  /* unfitted */\n",
              "  background-color: var(--sklearn-color-unfitted-level-3);\n",
              "  color: var(--sklearn-color-background);\n",
              "  text-decoration: none;\n",
              "}\n",
              "\n",
              "div.sk-estimator.fitted:hover .sk-estimator-doc-link.fitted:hover,\n",
              ".sk-estimator-doc-link.fitted:hover,\n",
              "div.sk-label-container:hover .sk-estimator-doc-link.fitted:hover,\n",
              ".sk-estimator-doc-link.fitted:hover {\n",
              "  /* fitted */\n",
              "  background-color: var(--sklearn-color-fitted-level-3);\n",
              "  color: var(--sklearn-color-background);\n",
              "  text-decoration: none;\n",
              "}\n",
              "\n",
              "/* Span, style for the box shown on hovering the info icon */\n",
              ".sk-estimator-doc-link span {\n",
              "  display: none;\n",
              "  z-index: 9999;\n",
              "  position: relative;\n",
              "  font-weight: normal;\n",
              "  right: .2ex;\n",
              "  padding: .5ex;\n",
              "  margin: .5ex;\n",
              "  width: min-content;\n",
              "  min-width: 20ex;\n",
              "  max-width: 50ex;\n",
              "  color: var(--sklearn-color-text);\n",
              "  box-shadow: 2pt 2pt 4pt #999;\n",
              "  /* unfitted */\n",
              "  background: var(--sklearn-color-unfitted-level-0);\n",
              "  border: .5pt solid var(--sklearn-color-unfitted-level-3);\n",
              "}\n",
              "\n",
              ".sk-estimator-doc-link.fitted span {\n",
              "  /* fitted */\n",
              "  background: var(--sklearn-color-fitted-level-0);\n",
              "  border: var(--sklearn-color-fitted-level-3);\n",
              "}\n",
              "\n",
              ".sk-estimator-doc-link:hover span {\n",
              "  display: block;\n",
              "}\n",
              "\n",
              "/* \"?\"-specific style due to the `<a>` HTML tag */\n",
              "\n",
              "#sk-container-id-2 a.estimator_doc_link {\n",
              "  float: right;\n",
              "  font-size: 1rem;\n",
              "  line-height: 1em;\n",
              "  font-family: monospace;\n",
              "  background-color: var(--sklearn-color-background);\n",
              "  border-radius: 1rem;\n",
              "  height: 1rem;\n",
              "  width: 1rem;\n",
              "  text-decoration: none;\n",
              "  /* unfitted */\n",
              "  color: var(--sklearn-color-unfitted-level-1);\n",
              "  border: var(--sklearn-color-unfitted-level-1) 1pt solid;\n",
              "}\n",
              "\n",
              "#sk-container-id-2 a.estimator_doc_link.fitted {\n",
              "  /* fitted */\n",
              "  border: var(--sklearn-color-fitted-level-1) 1pt solid;\n",
              "  color: var(--sklearn-color-fitted-level-1);\n",
              "}\n",
              "\n",
              "/* On hover */\n",
              "#sk-container-id-2 a.estimator_doc_link:hover {\n",
              "  /* unfitted */\n",
              "  background-color: var(--sklearn-color-unfitted-level-3);\n",
              "  color: var(--sklearn-color-background);\n",
              "  text-decoration: none;\n",
              "}\n",
              "\n",
              "#sk-container-id-2 a.estimator_doc_link.fitted:hover {\n",
              "  /* fitted */\n",
              "  background-color: var(--sklearn-color-fitted-level-3);\n",
              "}\n",
              "</style><div id=\"sk-container-id-2\" class=\"sk-top-container\"><div class=\"sk-text-repr-fallback\"><pre>MultiOutputClassifier(estimator=DecisionTreeClassifier(max_depth=5,\n",
              "                                                       min_samples_leaf=4))</pre><b>In a Jupyter environment, please rerun this cell to show the HTML representation or trust the notebook. <br />On GitHub, the HTML representation is unable to render, please try loading this page with nbviewer.org.</b></div><div class=\"sk-container\" hidden><div class=\"sk-item sk-dashed-wrapped\"><div class=\"sk-label-container\"><div class=\"sk-label fitted sk-toggleable\"><input class=\"sk-toggleable__control sk-hidden--visually\" id=\"sk-estimator-id-4\" type=\"checkbox\" ><label for=\"sk-estimator-id-4\" class=\"sk-toggleable__label fitted sk-toggleable__label-arrow fitted\">&nbsp;&nbsp;MultiOutputClassifier<a class=\"sk-estimator-doc-link fitted\" rel=\"noreferrer\" target=\"_blank\" href=\"https://scikit-learn.org/1.5/modules/generated/sklearn.multioutput.MultiOutputClassifier.html\">?<span>Documentation for MultiOutputClassifier</span></a><span class=\"sk-estimator-doc-link fitted\">i<span>Fitted</span></span></label><div class=\"sk-toggleable__content fitted\"><pre>MultiOutputClassifier(estimator=DecisionTreeClassifier(max_depth=5,\n",
              "                                                       min_samples_leaf=4))</pre></div> </div></div><div class=\"sk-parallel\"><div class=\"sk-parallel-item\"><div class=\"sk-item\"><div class=\"sk-label-container\"><div class=\"sk-label fitted sk-toggleable\"><input class=\"sk-toggleable__control sk-hidden--visually\" id=\"sk-estimator-id-5\" type=\"checkbox\" ><label for=\"sk-estimator-id-5\" class=\"sk-toggleable__label fitted sk-toggleable__label-arrow fitted\">estimator: DecisionTreeClassifier</label><div class=\"sk-toggleable__content fitted\"><pre>DecisionTreeClassifier(max_depth=5, min_samples_leaf=4)</pre></div> </div></div><div class=\"sk-serial\"><div class=\"sk-item\"><div class=\"sk-estimator fitted sk-toggleable\"><input class=\"sk-toggleable__control sk-hidden--visually\" id=\"sk-estimator-id-6\" type=\"checkbox\" ><label for=\"sk-estimator-id-6\" class=\"sk-toggleable__label fitted sk-toggleable__label-arrow fitted\">&nbsp;DecisionTreeClassifier<a class=\"sk-estimator-doc-link fitted\" rel=\"noreferrer\" target=\"_blank\" href=\"https://scikit-learn.org/1.5/modules/generated/sklearn.tree.DecisionTreeClassifier.html\">?<span>Documentation for DecisionTreeClassifier</span></a></label><div class=\"sk-toggleable__content fitted\"><pre>DecisionTreeClassifier(max_depth=5, min_samples_leaf=4)</pre></div> </div></div></div></div></div></div></div></div></div>"
            ],
            "text/plain": [
              "MultiOutputClassifier(estimator=DecisionTreeClassifier(max_depth=5,\n",
              "                                                       min_samples_leaf=4))"
            ]
          },
<<<<<<< Updated upstream
          "execution_count": 27,
=======
          "execution_count": 10,
>>>>>>> Stashed changes
          "metadata": {},
          "output_type": "execute_result"
        }
      ],
      "source": [
        "# Fit estimators after GridSearch\n",
        "estimators.fit(X_train, y_train)"
      ]
    },
    {
      "cell_type": "code",
<<<<<<< Updated upstream
      "execution_count": 28,
=======
      "execution_count": 11,
      "metadata": {},
      "outputs": [
        {
          "name": "stdout",
          "output_type": "stream",
          "text": [
            "Best parameters: {'estimator__max_depth': 5, 'estimator__min_samples_leaf': 4, 'estimator__min_samples_split': 2}\n",
            "Best cross-validation score (AUC): 0.8306425214386911\n"
          ]
        }
      ],
      "source": [
        "# Print Best Parameters and Score\n",
        "print(\"Best parameters:\", grid_search.best_params_)\n",
        "print(\"Best cross-validation score (AUC):\", grid_search.best_score_)"
      ]
    },
    {
      "cell_type": "markdown",
      "metadata": {},
      "source": [
        "Explanation:\n",
        "    The code uses MultiOutputClassifier to handle two target variables: h1n1_vaccine and seasonal_vaccine.\n",
        "    GridSearchCV performs 5-fold cross-validation to find the best hyperparameters.\n",
        "    And then we output the best hyperparameters and corresponding cross-validation score.\n",
        "\n",
        "Justification:\n",
        "    It ensures the model is optimized for both targets, and generalizes to unseen data.\n",
        "    It also provides insights into the model’s configuration and performance during training."
      ]
    },
    {
      "cell_type": "code",
      "execution_count": 12,
>>>>>>> Stashed changes
      "metadata": {},
      "outputs": [],
      "source": [
        "# Best Estimator for Predictions\n",
        "preds = estimators.predict_proba(X_test)"
      ]
    },
    {
      "cell_type": "code",
<<<<<<< Updated upstream
      "execution_count": 29,
=======
      "execution_count": 13,
>>>>>>> Stashed changes
      "metadata": {},
      "outputs": [
        {
          "name": "stdout",
          "output_type": "stream",
          "text": [
            "y_preds.shape: (5342, 2)\n"
          ]
        }
      ],
      "source": [
        "# Convert Predictions to DataFrame\n",
        "y_preds = pd.DataFrame(\n",
        "    {\n",
        "        'h1n1_vaccine': preds[0][:, 1],\n",
        "        'seasonal_vaccine': preds[1][:, 1],\n",
        "    },\n",
        "    index=y_test.index\n",
        ")\n",
        "print('y_preds.shape:', y_preds.shape)"
      ]
    },
    {
      "cell_type": "markdown",
      "metadata": {},
      "source": [
        "Explanation:\n",
        "    The code uses the best model to generate probability predictions for both vaccines.\n",
        "\n",
        "Justification:\n",
        "    The competition requires float probabilities as output, not binary labels."
      ]
    },
    {
      "cell_type": "code",
<<<<<<< Updated upstream
      "execution_count": 30,
=======
      "execution_count": 14,
>>>>>>> Stashed changes
      "metadata": {},
      "outputs": [
        {
          "data": {
            "image/png": "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",
            "text/plain": [
              "<Figure size 1000x500 with 2 Axes>"
            ]
          },
          "metadata": {},
          "output_type": "display_data"
        }
      ],
      "source": [
        "# ROC Curve Plotting\n",
        "def plot_roc(y_true, y_score, label_name, ax):\n",
        "    fpr, tpr, thresholds = roc_curve(y_true, y_score)\n",
        "    ax.plot(fpr, tpr)\n",
        "    ax.plot([0, 1], [0, 1], color='red', linestyle='--')\n",
        "    ax.set_ylabel('TPR')\n",
        "    ax.set_xlabel('FPR')\n",
        "    ax.set_title(f\"{label_name}: AUC = {roc_auc_score(y_true, y_score):.4f}\")\n",
        "\n",
        "fig, ax = plt.subplots(1, 2, figsize=(10, 5))\n",
        "\n",
        "plot_roc(\n",
        "    y_test['h1n1_vaccine'],\n",
        "    y_preds['h1n1_vaccine'],\n",
        "    'h1n1_vaccine',\n",
        "    ax=ax[0]\n",
        ")\n",
        "\n",
        "plot_roc(\n",
        "    y_test['seasonal_vaccine'],\n",
        "    y_preds['seasonal_vaccine'],\n",
        "    'seasonal_vaccine',\n",
        "    ax=ax[1]\n",
        ")\n",
        "\n",
        "fig.tight_layout()"
      ]
    },
    {
      "cell_type": "markdown",
      "metadata": {},
      "source": [
        "Explanation:\n",
        "    ROC curves for both targets.\n",
        "\n",
        "Justification:\n",
        "    Visualizes the model’s ability to distinguish between classes."
      ]
    },
    {
      "cell_type": "markdown",
      "metadata": {},
      "source": [
        "Interpretation:\n",
        "\n",
        "h1n1_vaccine: AUC = 0.8478:\n",
        "    This curve shows a good performance, with an AUC close to 0.9. This indicates that the model is better than random guessing and can effectively distinguish between positive and negative cases.\n",
        "\n",
        "seasonal_vaccine: AUC = 0.8231:\n",
        "    This curve also shows good performance, but slightly lower than the h1n1_vaccine model. However, the AUC is still significantly above 0.5, indicating a better performance than random guessing."
      ]
    },
    {
      "cell_type": "code",
<<<<<<< Updated upstream
      "execution_count": 32,
=======
      "execution_count": 16,
      "metadata": {},
      "outputs": [],
      "source": [
        "# Generate binary predictions from probabilities using a threshold of 0.5\n",
        "threshold = 0.5\n",
        "h1n1_binary_preds = (y_preds['h1n1_vaccine'] > threshold).astype(int)\n",
        "seasonal_binary_preds = (y_preds['seasonal_vaccine'] > threshold).astype(int)\n",
        "\n"
      ]
    },
    {
      "cell_type": "code",
      "execution_count": 17,
      "metadata": {},
      "outputs": [],
      "source": [
        "# Confusion Matrices\n",
        "h1n1_cm = confusion_matrix(y_test['h1n1_vaccine'], h1n1_binary_preds)\n",
        "seasonal_cm = confusion_matrix(y_test['seasonal_vaccine'], seasonal_binary_preds)\n",
        "\n"
      ]
    },
    {
      "cell_type": "code",
      "execution_count": 18,
      "metadata": {},
      "outputs": [
        {
          "data": {
            "image/png": "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",
            "text/plain": [
              "<Figure size 1200x600 with 4 Axes>"
            ]
          },
          "metadata": {},
          "output_type": "display_data"
        }
      ],
      "source": [
        "# Plot Confusion Matrices\n",
        "fig, ax = plt.subplots(1, 2, figsize=(12, 6))\n",
        "\n",
        "ConfusionMatrixDisplay(h1n1_cm, display_labels=[\"No\", \"Yes\"]).plot(ax=ax[0])\n",
        "ax[0].set_title(\"H1N1 Vaccine Confusion Matrix\")\n",
        "\n",
        "ConfusionMatrixDisplay(seasonal_cm, display_labels=[\"No\", \"Yes\"]).plot(ax=ax[1])\n",
        "ax[1].set_title(\"Seasonal Vaccine Confusion Matrix\")\n",
        "\n",
        "plt.tight_layout()\n",
        "plt.show()"
      ]
    },
    {
      "cell_type": "markdown",
      "metadata": {},
      "source": [
        "Explanation:\n",
        "    Evaluates model predictions against true labels using confusion matrices.\n",
        "\n",
        "Justification:\n",
        "    Helps interpret false positives, false negatives, and overall classification performance."
      ]
    },
    {
      "cell_type": "markdown",
      "metadata": {},
      "source": [
        "Explanation of H1N1 Vaccine Confusion Matrix:\n",
        "    True Positives: 3968 correctly predicted \"No\" for H1N1 vaccine\n",
        "    True Negatives: 514 correctly predicted \"Yes\" for H1N1 vaccine\n",
        "    False Positives: 239 incorrectly predicted \"Yes\" for H1N1 vaccine when it was \"No\"\n",
        "    False Negatives: 621 incorrectly predicted \"No\" for H1N1 vaccine when it was \"Yes\"\n",
        "\n",
        "Explanation of Seasonal Vaccine Confusion Matrix:\n",
        "    True Positives: 2315 correctly predicted \"No\" for Seasonal vaccine\n",
        "    True Negatives: 1740 correctly predicted \"Yes\" for Seasonal vaccine\n",
        "    False Positives: 539 incorrectly predicted \"Yes\" for Seasonal vaccine when it was \"No\"\n",
        "    False Negatives: 748 incorrectly predicted \"No\" for Seasonal vaccine when it was \"Yes\"\n",
        "\n",
        "Interpretation:\n",
        "    H1N1 Vaccine: The model seems to have a higher number of True Positives (correctly predicting \"No\") compared to True Negatives. This might indicate a bias towards predicting the negative class. The False Negative rate is also relatively high, which means the model misses a significant number of cases where the actual response is \"Yes\".\n",
        "    Seasonal Vaccine: The model appears to be more balanced in terms of True Positives and True Negatives. The False Negative rate is still relatively high, but lower than that of the H1N1 vaccine."
      ]
    },
    {
      "cell_type": "code",
      "execution_count": 19,
>>>>>>> Stashed changes
      "metadata": {},
      "outputs": [],
      "source": [
        "# Final Model Fitting on Full Training Data\n",
        "estimators.fit(X_train_df, training_set_labels_df)\n",
        "preds = estimators.predict_proba(X_test_df)"
      ]
    },
    {
      "cell_type": "markdown",
      "metadata": {},
      "source": [
        "Explanation:\n",
        "    The code retrains the model on the entire training dataset for final predictions.\n",
        "\n",
        "Justification:\n",
        "    It maximizes the use of available data for better performance on unseen test data"
      ]
    },
    {
      "cell_type": "code",
<<<<<<< Updated upstream
      "execution_count": 33,
=======
      "execution_count": 20,
>>>>>>> Stashed changes
      "metadata": {},
      "outputs": [
        {
          "name": "stdout",
          "output_type": "stream",
          "text": [
            "y_preds.shape: (26708, 2)\n"
          ]
        }
      ],
      "source": [
        "# Generate Final Predictions\n",
        "y_preds = pd.DataFrame(\n",
        "    {\n",
        "        'h1n1_vaccine': preds[0][:, 1],\n",
        "        'seasonal_vaccine': preds[1][:, 1],\n",
        "    },\n",
        "    index=X_test_df.index\n",
        ")\n",
        "print('y_preds.shape:', y_preds.shape)"
      ]
    },
    {
      "cell_type": "markdown",
      "metadata": {},
      "source": [
        "Explanation: \n",
        "    We convert the final predictions into a DataFrame."
      ]
    },
    {
      "cell_type": "code",
<<<<<<< Updated upstream
      "execution_count": 19,
=======
      "execution_count": 21,
>>>>>>> Stashed changes
      "metadata": {},
      "outputs": [],
      "source": [
        "# Save Predictions to CSV\n",
        "y_preds.to_csv('results/pred_decision_tree_output.csv', index=True)"
      ]
<<<<<<< Updated upstream
    },
    {
      "cell_type": "markdown",
      "metadata": {},
      "source": [
        "**Conclusion**:\n",
        " - **We have obtained a better result (AUC SCORE) for the Decision Tree with data imputed from the gold data than the results obtained in the Decision Tree with its own imputation**"
      ]
=======
>>>>>>> Stashed changes
    }
  ],
  "metadata": {
    "colab": {
      "provenance": []
    },
    "kernelspec": {
      "display_name": "ml-env",
      "language": "python",
      "name": "python3"
    },
    "language_info": {
      "codemirror_mode": {
        "name": "ipython",
        "version": 3
      },
      "file_extension": ".py",
      "mimetype": "text/x-python",
      "name": "python",
      "nbconvert_exporter": "python",
      "pygments_lexer": "ipython3",
      "version": "3.11.9"
    }
  },
  "nbformat": 4,
  "nbformat_minor": 0
}
