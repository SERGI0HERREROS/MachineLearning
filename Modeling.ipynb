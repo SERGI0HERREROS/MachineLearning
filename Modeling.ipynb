{
 "cells": [
  {
   "cell_type": "markdown",
   "metadata": {},
   "source": [
    "# 🤖 Modeling"
   ]
  },
  {
   "cell_type": "markdown",
   "metadata": {},
   "source": [
    "### Authors:\n",
    "| Name                          | Github user                                        |\n",
    "|-------------------------------|----------------------------------------------------|\n",
    "| Sergio Herreros Fernández     | [@SergioHerreros](https://github.com/SERGI0HERREROS)|\n",
    "| Francisco Javier Luna Ortiz   | [@Lunao01](https://github.com/Lunao01)|\n",
    "| Carlos Romero Navarro         | [@KarManiatic](https://github.com/KarManiatic)|\n",
    "| Tatsiana Shelepen             | [@Naschkatzee](https://github.com/Naschkatzee) | "
   ]
  },
  {
   "cell_type": "markdown",
   "metadata": {},
   "source": [
    "<br>"
   ]
  },
  {
   "cell_type": "markdown",
   "metadata": {},
   "source": [
    "## 1. Data"
   ]
  },
  {
   "cell_type": "code",
   "execution_count": 3,
   "metadata": {},
   "outputs": [],
   "source": [
    "# Libraries\n",
    "import pandas as pd\n",
    "import matplotlib.pyplot as plt\n",
    "import seaborn as sns\n",
    "import warnings\n",
    "warnings.filterwarnings(\"ignore\")\n",
    "\n",
    "# Data\n",
    "training_set_features_df = pd.read_csv('gold/training_set_features_df.csv') # training set features\n",
    "\n",
    "training_set_labels_df = pd.read_csv('data/training_set_labels.csv') # training set labels\n",
    "\n",
    "test_set_features_df = pd.read_csv('data/test_set_features.csv') # test set features"
   ]
  }
 ],
 "metadata": {
  "kernelspec": {
   "display_name": "Python 3",
   "language": "python",
   "name": "python3"
  },
  "language_info": {
   "codemirror_mode": {
    "name": "ipython",
    "version": 3
   },
   "file_extension": ".py",
   "mimetype": "text/x-python",
   "name": "python",
   "nbconvert_exporter": "python",
   "pygments_lexer": "ipython3",
   "version": "3.11.8"
  }
 },
 "nbformat": 4,
 "nbformat_minor": 2
}
