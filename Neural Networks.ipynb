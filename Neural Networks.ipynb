{
 "cells": [
  {
   "cell_type": "markdown",
   "metadata": {},
   "source": [
    "# 🧠 Neural Networks"
   ]
  },
  {
   "cell_type": "markdown",
   "metadata": {},
   "source": [
    "### Authors:\n",
    "| Name                          | Github user                                        |\n",
    "|-------------------------------|----------------------------------------------------|\n",
    "| Sergio Herreros Fernández     | [@SergioHerreros](https://github.com/SERGI0HERREROS)|\n",
    "| Francisco Javier Luna Ortiz   | [@Lunao01](https://github.com/Lunao01)|\n",
    "| Carlos Romero Navarro         | [@KarManiatic](https://github.com/KarManiatic)|\n",
    "| Tatsiana Shelepen             | [@Naschkatzee](https://github.com/Naschkatzee) | "
   ]
  },
  {
   "cell_type": "markdown",
   "metadata": {},
   "source": [
    "<br>"
   ]
  },
  {
   "cell_type": "markdown",
   "metadata": {},
   "source": [
    "## 1. Data"
   ]
  }
 ],
 "metadata": {
  "language_info": {
   "name": "python"
  }
 },
 "nbformat": 4,
 "nbformat_minor": 2
}
